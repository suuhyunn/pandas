{
  "nbformat": 4,
  "nbformat_minor": 0,
  "metadata": {
    "colab": {
      "name": "20211204.ipynb",
      "provenance": [],
      "collapsed_sections": [],
      "authorship_tag": "ABX9TyN8GWZtVl8k/LIEOS86LHOC",
      "include_colab_link": true
    },
    "kernelspec": {
      "name": "python3",
      "display_name": "Python 3"
    },
    "language_info": {
      "name": "python"
    }
  },
  "cells": [
    {
      "cell_type": "markdown",
      "metadata": {
        "id": "view-in-github",
        "colab_type": "text"
      },
      "source": [
        "<a href=\"https://colab.research.google.com/github/suuhyunn/pandas/blob/main/20211204.ipynb\" target=\"_parent\"><img src=\"https://colab.research.google.com/assets/colab-badge.svg\" alt=\"Open In Colab\"/></a>"
      ]
    },
    {
      "cell_type": "code",
      "metadata": {
        "colab": {
          "base_uri": "https://localhost:8080/"
        },
        "id": "bSTEPTUsHhTS",
        "outputId": "0b22a6ab-3085-4e3b-e341-17975354a1d3"
      },
      "source": [
        "# List, Tuple, Dict, Set \n",
        "\n",
        "# List - mutable, 수정과 삭제 가능, 인덱싱, 슬라이싱 가능, []로 표현\n",
        "#        하나의 리스트에 숫자형, 문자형, 튜플, 딕... 섞어서 저장 가능\n",
        "\n",
        "odd = [1,2,3,4,5]\n",
        "odd \n"
      ],
      "execution_count": null,
      "outputs": [
        {
          "output_type": "execute_result",
          "data": {
            "text/plain": [
              "[1, 2, 3, 4, 5]"
            ]
          },
          "metadata": {},
          "execution_count": 1
        }
      ]
    },
    {
      "cell_type": "code",
      "metadata": {
        "id": "RHb8IeaoMvD6"
      },
      "source": [
        "a = []"
      ],
      "execution_count": null,
      "outputs": []
    },
    {
      "cell_type": "code",
      "metadata": {
        "id": "X-S3h6pxOVFH"
      },
      "source": [
        "b = [1,2,3]"
      ],
      "execution_count": null,
      "outputs": []
    },
    {
      "cell_type": "code",
      "metadata": {
        "id": "Uf5leiYrOXNZ"
      },
      "source": [
        "c = ['a','b','c']"
      ],
      "execution_count": null,
      "outputs": []
    },
    {
      "cell_type": "code",
      "metadata": {
        "id": "0XfdpPZ-OaOa"
      },
      "source": [
        "e = [1,2,'c','d']   #형식 섞어서도 가능"
      ],
      "execution_count": null,
      "outputs": []
    },
    {
      "cell_type": "code",
      "metadata": {
        "id": "9bSx9-uKOhTy"
      },
      "source": [
        "e = [1,2,['good','morning']]"
      ],
      "execution_count": null,
      "outputs": []
    },
    {
      "cell_type": "code",
      "metadata": {
        "colab": {
          "base_uri": "https://localhost:8080/"
        },
        "id": "JtiOtlBiOqJ5",
        "outputId": "e0c7f4cd-8a55-4578-995b-39c49f8617e8"
      },
      "source": [
        "# 리스트 인덱싱 - 몇 번째 요소를 추출\n",
        "a = [1,2,3]\n",
        "a[0]"
      ],
      "execution_count": null,
      "outputs": [
        {
          "output_type": "execute_result",
          "data": {
            "text/plain": [
              "1"
            ]
          },
          "metadata": {},
          "execution_count": 8
        }
      ]
    },
    {
      "cell_type": "code",
      "metadata": {
        "colab": {
          "base_uri": "https://localhost:8080/"
        },
        "id": "V9tlylqiO77H",
        "outputId": "0276a1c5-205b-49e3-f97d-18a3baee70f8"
      },
      "source": [
        "a[0] + a[2]"
      ],
      "execution_count": null,
      "outputs": [
        {
          "output_type": "execute_result",
          "data": {
            "text/plain": [
              "4"
            ]
          },
          "metadata": {},
          "execution_count": 9
        }
      ]
    },
    {
      "cell_type": "code",
      "metadata": {
        "colab": {
          "base_uri": "https://localhost:8080/"
        },
        "id": "mhQdmioiP3-L",
        "outputId": "1b1a3fd4-4d6f-4bde-9842-45ebaa870498"
      },
      "source": [
        "a[-1]   #맨끝 데이터 하나 뽑아라"
      ],
      "execution_count": null,
      "outputs": [
        {
          "output_type": "execute_result",
          "data": {
            "text/plain": [
              "3"
            ]
          },
          "metadata": {},
          "execution_count": 10
        }
      ]
    },
    {
      "cell_type": "code",
      "metadata": {
        "colab": {
          "base_uri": "https://localhost:8080/"
        },
        "id": "skRYsCHSP5jR",
        "outputId": "68b2b87c-8fd2-424c-e95d-c0eb32959da6"
      },
      "source": [
        "# 리스트 슬라이싱 - 여러개 추출\n",
        "\n",
        "a = [1,2,3,4,5]\n",
        "a[0:2]    #0번째부터 2미만까지 추출 "
      ],
      "execution_count": null,
      "outputs": [
        {
          "output_type": "execute_result",
          "data": {
            "text/plain": [
              "[1, 2]"
            ]
          },
          "metadata": {},
          "execution_count": 11
        }
      ]
    },
    {
      "cell_type": "code",
      "metadata": {
        "colab": {
          "base_uri": "https://localhost:8080/"
        },
        "id": "-iQ0tyfFQIbZ",
        "outputId": "a2f6ebe8-88e0-47eb-b42e-e6fd28c7b34c"
      },
      "source": [
        "b = a[:2]\n",
        "b"
      ],
      "execution_count": null,
      "outputs": [
        {
          "output_type": "execute_result",
          "data": {
            "text/plain": [
              "[1, 2]"
            ]
          },
          "metadata": {},
          "execution_count": 12
        }
      ]
    },
    {
      "cell_type": "code",
      "metadata": {
        "colab": {
          "base_uri": "https://localhost:8080/"
        },
        "id": "9Fry4DcMQf9C",
        "outputId": "f9093315-a499-4809-b945-85a66afd2607"
      },
      "source": [
        "c = a[2:]\n",
        "c"
      ],
      "execution_count": null,
      "outputs": [
        {
          "output_type": "execute_result",
          "data": {
            "text/plain": [
              "[3, 4, 5]"
            ]
          },
          "metadata": {},
          "execution_count": 13
        }
      ]
    },
    {
      "cell_type": "code",
      "metadata": {
        "colab": {
          "base_uri": "https://localhost:8080/"
        },
        "id": "7XEKJ81yQlWd",
        "outputId": "f7349afe-4b17-4a16-9f32-9511844dce2f"
      },
      "source": [
        "len(a)    #총 요소의 개수 "
      ],
      "execution_count": null,
      "outputs": [
        {
          "output_type": "execute_result",
          "data": {
            "text/plain": [
              "5"
            ]
          },
          "metadata": {},
          "execution_count": 14
        }
      ]
    },
    {
      "cell_type": "code",
      "metadata": {
        "colab": {
          "base_uri": "https://localhost:8080/"
        },
        "id": "eBEuEUhAQ1uA",
        "outputId": "b9c1ac3b-682d-49ad-8007-42177b30f588"
      },
      "source": [
        "# 리스트의 수정과 삭제 \n",
        "\n",
        "a = [1,2,3]\n",
        "a[2]\n",
        "a[2] = 4\n",
        "a"
      ],
      "execution_count": null,
      "outputs": [
        {
          "output_type": "execute_result",
          "data": {
            "text/plain": [
              "[1, 2, 4]"
            ]
          },
          "metadata": {},
          "execution_count": 16
        }
      ]
    },
    {
      "cell_type": "code",
      "metadata": {
        "id": "F19PXKIaRSgi"
      },
      "source": [
        "del a[1]"
      ],
      "execution_count": null,
      "outputs": []
    },
    {
      "cell_type": "code",
      "metadata": {
        "colab": {
          "base_uri": "https://localhost:8080/"
        },
        "id": "O9_ZCSK-RXdB",
        "outputId": "51fbdbf9-391e-4ba9-8f20-99c783f45523"
      },
      "source": [
        "a"
      ],
      "execution_count": null,
      "outputs": [
        {
          "output_type": "execute_result",
          "data": {
            "text/plain": [
              "[1, 4]"
            ]
          },
          "metadata": {},
          "execution_count": 18
        }
      ]
    },
    {
      "cell_type": "code",
      "metadata": {
        "id": "ewMHbnZXRZCs"
      },
      "source": [
        "a = [1,2,3,4,5]\n",
        "del a[2:]"
      ],
      "execution_count": null,
      "outputs": []
    },
    {
      "cell_type": "code",
      "metadata": {
        "colab": {
          "base_uri": "https://localhost:8080/"
        },
        "id": "1--bTsFTRhpl",
        "outputId": "6b15f952-0925-416a-f791-4b18e08d0b0a"
      },
      "source": [
        "a"
      ],
      "execution_count": null,
      "outputs": [
        {
          "output_type": "execute_result",
          "data": {
            "text/plain": [
              "[1, 2]"
            ]
          },
          "metadata": {},
          "execution_count": 21
        }
      ]
    },
    {
      "cell_type": "code",
      "metadata": {
        "colab": {
          "base_uri": "https://localhost:8080/"
        },
        "id": "ifVs26i-Rim9",
        "outputId": "610a127f-af36-4a8b-b3bf-2fbefc5f3c3f"
      },
      "source": [
        "# 리스트 관련 함수들 정리\n",
        "# append - 리스트에 요소 추가\n",
        "\n",
        "a = [1,2,3]\n",
        "a.append(4)\n",
        "a"
      ],
      "execution_count": null,
      "outputs": [
        {
          "output_type": "execute_result",
          "data": {
            "text/plain": [
              "[1, 2, 3, 4]"
            ]
          },
          "metadata": {},
          "execution_count": 23
        }
      ]
    },
    {
      "cell_type": "code",
      "metadata": {
        "colab": {
          "base_uri": "https://localhost:8080/"
        },
        "id": "aSBaGIX_R6Rh",
        "outputId": "a4a99ecb-e2a1-4cf2-ce25-a5cc76f1eb9e"
      },
      "source": [
        "# pop - 마지막 요소를 끄집어내기\n",
        "a.pop()"
      ],
      "execution_count": null,
      "outputs": [
        {
          "output_type": "execute_result",
          "data": {
            "text/plain": [
              "4"
            ]
          },
          "metadata": {},
          "execution_count": 24
        }
      ]
    },
    {
      "cell_type": "code",
      "metadata": {
        "colab": {
          "base_uri": "https://localhost:8080/"
        },
        "id": "mB0z0bewSFAE",
        "outputId": "a00fae85-6561-4744-aa8e-2b6d72d03218"
      },
      "source": [
        "a.pop()"
      ],
      "execution_count": null,
      "outputs": [
        {
          "output_type": "execute_result",
          "data": {
            "text/plain": [
              "3"
            ]
          },
          "metadata": {},
          "execution_count": 25
        }
      ]
    },
    {
      "cell_type": "code",
      "metadata": {
        "colab": {
          "base_uri": "https://localhost:8080/"
        },
        "id": "vR5I4AnWSM2x",
        "outputId": "554af504-0f83-402a-c39b-7503226d932a"
      },
      "source": [
        "a"
      ],
      "execution_count": null,
      "outputs": [
        {
          "output_type": "execute_result",
          "data": {
            "text/plain": [
              "[1, 2]"
            ]
          },
          "metadata": {},
          "execution_count": 26
        }
      ]
    },
    {
      "cell_type": "code",
      "metadata": {
        "colab": {
          "base_uri": "https://localhost:8080/"
        },
        "id": "XB3DKl8iSO4T",
        "outputId": "02199320-1261-4364-bec5-4e0f7136899e"
      },
      "source": [
        "a.pop(0)    #위치를 생략하면 끝에서부터 하나씩"
      ],
      "execution_count": null,
      "outputs": [
        {
          "output_type": "execute_result",
          "data": {
            "text/plain": [
              "1"
            ]
          },
          "metadata": {},
          "execution_count": 27
        }
      ]
    },
    {
      "cell_type": "code",
      "metadata": {
        "id": "6FlBSOwDSSoD"
      },
      "source": [
        "# Tuple - immutable, 수정과 삭제가 불가능, 인덱싱, 슬라이싱 가능, ()\n",
        "#         하나의 튜플에 숫자형, 문자형, 튜플, 딕... 섞어서 저장이 가능\n",
        "#         하나만 튜플로 만들때는 쉼표를 넣어준다.. (2,)\n",
        "#         튜플은 수정이 안됨"
      ],
      "execution_count": null,
      "outputs": []
    },
    {
      "cell_type": "code",
      "source": [
        "t1 = ()\n",
        "t2 = (1,2,3)\n",
        "t3 = ('a', 'b','c')\n",
        "t4 = ('a','b',1,2,3)\n",
        "t5 = 1,2,3      #괄호를 안쳐도 되는것이 특징\n",
        "t6 = (2,)"
      ],
      "metadata": {
        "id": "8YrmqEet9fMA"
      },
      "execution_count": null,
      "outputs": []
    },
    {
      "cell_type": "code",
      "source": [
        "t1 = (1,2,3,4,5)\n",
        "del t1[0]     #튜플은 삭제 불가능"
      ],
      "metadata": {
        "colab": {
          "base_uri": "https://localhost:8080/",
          "height": 191
        },
        "id": "bSH1IxWa90K8",
        "outputId": "cecd2d0b-cfd0-4f05-bd9e-a10e8f33b07c"
      },
      "execution_count": null,
      "outputs": [
        {
          "output_type": "error",
          "ename": "TypeError",
          "evalue": "ignored",
          "traceback": [
            "\u001b[0;31m---------------------------------------------------------------------------\u001b[0m",
            "\u001b[0;31mTypeError\u001b[0m                                 Traceback (most recent call last)",
            "\u001b[0;32m<ipython-input-3-07fc13c81734>\u001b[0m in \u001b[0;36m<module>\u001b[0;34m()\u001b[0m\n\u001b[1;32m      1\u001b[0m \u001b[0mt1\u001b[0m \u001b[0;34m=\u001b[0m \u001b[0;34m(\u001b[0m\u001b[0;36m1\u001b[0m\u001b[0;34m,\u001b[0m\u001b[0;36m2\u001b[0m\u001b[0;34m,\u001b[0m\u001b[0;36m3\u001b[0m\u001b[0;34m,\u001b[0m\u001b[0;36m4\u001b[0m\u001b[0;34m,\u001b[0m\u001b[0;36m5\u001b[0m\u001b[0;34m)\u001b[0m\u001b[0;34m\u001b[0m\u001b[0;34m\u001b[0m\u001b[0m\n\u001b[0;32m----> 2\u001b[0;31m \u001b[0;32mdel\u001b[0m \u001b[0mt1\u001b[0m\u001b[0;34m[\u001b[0m\u001b[0;36m0\u001b[0m\u001b[0;34m]\u001b[0m\u001b[0;34m\u001b[0m\u001b[0;34m\u001b[0m\u001b[0m\n\u001b[0m",
            "\u001b[0;31mTypeError\u001b[0m: 'tuple' object doesn't support item deletion"
          ]
        }
      ]
    },
    {
      "cell_type": "code",
      "source": [
        "t1 = (1,2,3,4,5)\n",
        "\n",
        "t1[0] = 9     #튜플은 수정 불가능"
      ],
      "metadata": {
        "colab": {
          "base_uri": "https://localhost:8080/",
          "height": 209
        },
        "id": "s37G6xo4-gfB",
        "outputId": "a31dae16-4d59-4cb8-f247-a73ed5c04c3b"
      },
      "execution_count": null,
      "outputs": [
        {
          "output_type": "error",
          "ename": "TypeError",
          "evalue": "ignored",
          "traceback": [
            "\u001b[0;31m---------------------------------------------------------------------------\u001b[0m",
            "\u001b[0;31mTypeError\u001b[0m                                 Traceback (most recent call last)",
            "\u001b[0;32m<ipython-input-4-66284b1d1d93>\u001b[0m in \u001b[0;36m<module>\u001b[0;34m()\u001b[0m\n\u001b[1;32m      1\u001b[0m \u001b[0mt1\u001b[0m \u001b[0;34m=\u001b[0m \u001b[0;34m(\u001b[0m\u001b[0;36m1\u001b[0m\u001b[0;34m,\u001b[0m\u001b[0;36m2\u001b[0m\u001b[0;34m,\u001b[0m\u001b[0;36m3\u001b[0m\u001b[0;34m,\u001b[0m\u001b[0;36m4\u001b[0m\u001b[0;34m,\u001b[0m\u001b[0;36m5\u001b[0m\u001b[0;34m)\u001b[0m\u001b[0;34m\u001b[0m\u001b[0;34m\u001b[0m\u001b[0m\n\u001b[1;32m      2\u001b[0m \u001b[0;34m\u001b[0m\u001b[0m\n\u001b[0;32m----> 3\u001b[0;31m \u001b[0mt1\u001b[0m\u001b[0;34m[\u001b[0m\u001b[0;36m0\u001b[0m\u001b[0;34m]\u001b[0m \u001b[0;34m=\u001b[0m \u001b[0;36m9\u001b[0m     \u001b[0;31m#튜플은 수정 불가능\u001b[0m\u001b[0;34m\u001b[0m\u001b[0;34m\u001b[0m\u001b[0m\n\u001b[0m",
            "\u001b[0;31mTypeError\u001b[0m: 'tuple' object does not support item assignment"
          ]
        }
      ]
    },
    {
      "cell_type": "code",
      "source": [
        "#튜플에서 인덱싱\n",
        "t1 = (1,2,3,4,5)\n",
        "t1[0]"
      ],
      "metadata": {
        "colab": {
          "base_uri": "https://localhost:8080/"
        },
        "id": "pR2b9gOfHwbf",
        "outputId": "153003a5-1162-4d5f-95d4-ccfe6f1c2c99"
      },
      "execution_count": null,
      "outputs": [
        {
          "output_type": "execute_result",
          "data": {
            "text/plain": [
              "1"
            ]
          },
          "metadata": {},
          "execution_count": 5
        }
      ]
    },
    {
      "cell_type": "code",
      "source": [
        "#튜플에서 슬라이싱\n",
        "t1 = (1,2,3,4,5)\n",
        "t1[1:]"
      ],
      "metadata": {
        "colab": {
          "base_uri": "https://localhost:8080/"
        },
        "id": "0o4gdyydIFHg",
        "outputId": "b5612753-4561-4479-8f3f-84ed5adb4b75"
      },
      "execution_count": null,
      "outputs": [
        {
          "output_type": "execute_result",
          "data": {
            "text/plain": [
              "(2, 3, 4, 5)"
            ]
          },
          "metadata": {},
          "execution_count": 6
        }
      ]
    },
    {
      "cell_type": "code",
      "source": [
        "len(t1)"
      ],
      "metadata": {
        "colab": {
          "base_uri": "https://localhost:8080/"
        },
        "id": "Owy2uqyNIiAp",
        "outputId": "90cd5c9c-4b39-402d-f4a1-d01b48b57dde"
      },
      "execution_count": null,
      "outputs": [
        {
          "output_type": "execute_result",
          "data": {
            "text/plain": [
              "5"
            ]
          },
          "metadata": {},
          "execution_count": 7
        }
      ]
    },
    {
      "cell_type": "code",
      "source": [
        "#딕셔너리 - 이름: 홍길동, 나이: 13, .. , 키:밸류 의 데이터 자료형\n",
        "#           판다스 시리즈, 자바 맵\n",
        "#           인덱싱과 슬라이싱 불가능, mutable 수정과 삭제가 가능하다. {}"
      ],
      "metadata": {
        "id": "Fjbls7-WIpGt"
      },
      "execution_count": null,
      "outputs": []
    },
    {
      "cell_type": "code",
      "source": [
        "dic = {'이름':'이몽룡', '나이':16, '여친':'성춘향'}"
      ],
      "metadata": {
        "id": "ErxfK-KiJzc8"
      },
      "execution_count": null,
      "outputs": []
    },
    {
      "cell_type": "code",
      "source": [
        "dic['과거시험'] = '합격'"
      ],
      "metadata": {
        "id": "rLeQTApTKL79"
      },
      "execution_count": null,
      "outputs": []
    },
    {
      "cell_type": "code",
      "source": [
        "dic"
      ],
      "metadata": {
        "colab": {
          "base_uri": "https://localhost:8080/"
        },
        "id": "ILzJSULIKZVf",
        "outputId": "f21b2396-3230-4f7e-c86a-64fdc9616678"
      },
      "execution_count": null,
      "outputs": [
        {
          "output_type": "execute_result",
          "data": {
            "text/plain": [
              "{'나이': 16, '여친': '성춘향', '이름': '이몽룡'}"
            ]
          },
          "metadata": {},
          "execution_count": 16
        }
      ]
    },
    {
      "cell_type": "code",
      "source": [
        "del dic['여친']"
      ],
      "metadata": {
        "id": "7yv_ydFDKaML"
      },
      "execution_count": null,
      "outputs": []
    },
    {
      "cell_type": "code",
      "source": [
        "dic"
      ],
      "metadata": {
        "colab": {
          "base_uri": "https://localhost:8080/"
        },
        "id": "mkgUwjRXKucm",
        "outputId": "32055d93-7f47-476e-8653-fd198e4ffad1"
      },
      "execution_count": null,
      "outputs": [
        {
          "output_type": "execute_result",
          "data": {
            "text/plain": [
              "{'나이': 16, '이름': '이몽룡'}"
            ]
          },
          "metadata": {},
          "execution_count": 18
        }
      ]
    },
    {
      "cell_type": "code",
      "source": [
        "dic['이름']"
      ],
      "metadata": {
        "colab": {
          "base_uri": "https://localhost:8080/",
          "height": 36
        },
        "id": "m4iCy2XSK9ug",
        "outputId": "30cbb96d-5316-4eb6-a4ea-9f02d025e37c"
      },
      "execution_count": null,
      "outputs": [
        {
          "output_type": "execute_result",
          "data": {
            "application/vnd.google.colaboratory.intrinsic+json": {
              "type": "string"
            },
            "text/plain": [
              "'이몽룡'"
            ]
          },
          "metadata": {},
          "execution_count": 19
        }
      ]
    },
    {
      "cell_type": "code",
      "source": [
        "# 리스트나 튜플은 요소값을 얻어낼때 인덱싱이나 슬라이싱을 사용했다\n",
        "# 그러나 딕셔너리는 인덱싱과 슬라이싱이 불가능하며 \n",
        "# 키값으로 밸류값을 얻어내는 방법만 사용한다."
      ],
      "metadata": {
        "id": "ktTtFiluK_j1"
      },
      "execution_count": null,
      "outputs": []
    },
    {
      "cell_type": "code",
      "source": [
        "# 딕셔너리 관련 함수들..\n",
        "dic.keys()"
      ],
      "metadata": {
        "colab": {
          "base_uri": "https://localhost:8080/"
        },
        "id": "dZflCWnWLXlp",
        "outputId": "407f47b5-971f-42a2-bfa9-fcb9d237865c"
      },
      "execution_count": null,
      "outputs": [
        {
          "output_type": "execute_result",
          "data": {
            "text/plain": [
              "dict_keys(['이름', '나이', '과거시험'])"
            ]
          },
          "metadata": {},
          "execution_count": 24
        }
      ]
    },
    {
      "cell_type": "code",
      "source": [
        "list(dic.keys())"
      ],
      "metadata": {
        "colab": {
          "base_uri": "https://localhost:8080/"
        },
        "id": "xfUmrl2oLbj-",
        "outputId": "53a4247d-f95a-4462-d0b8-fb922a964fd9"
      },
      "execution_count": null,
      "outputs": [
        {
          "output_type": "execute_result",
          "data": {
            "text/plain": [
              "['이름', '나이', '과거시험']"
            ]
          },
          "metadata": {},
          "execution_count": 23
        }
      ]
    },
    {
      "cell_type": "code",
      "source": [
        "dic.values()"
      ],
      "metadata": {
        "colab": {
          "base_uri": "https://localhost:8080/"
        },
        "id": "5oXsbTKjLjBP",
        "outputId": "eff8d1e3-2909-40f1-ba91-7f1abca485ec"
      },
      "execution_count": null,
      "outputs": [
        {
          "output_type": "execute_result",
          "data": {
            "text/plain": [
              "dict_values(['이몽룡', 16, '합격'])"
            ]
          },
          "metadata": {},
          "execution_count": 25
        }
      ]
    },
    {
      "cell_type": "code",
      "source": [
        "dic.items()"
      ],
      "metadata": {
        "colab": {
          "base_uri": "https://localhost:8080/"
        },
        "id": "oNJ0M9o9LoQ6",
        "outputId": "7a27bb2a-b835-437b-8227-ea5af11534fb"
      },
      "execution_count": null,
      "outputs": [
        {
          "output_type": "execute_result",
          "data": {
            "text/plain": [
              "dict_items([('이름', '이몽룡'), ('나이', 16), ('과거시험', '합격')])"
            ]
          },
          "metadata": {},
          "execution_count": 26
        }
      ]
    },
    {
      "cell_type": "code",
      "source": [
        "'이름' in dic"
      ],
      "metadata": {
        "colab": {
          "base_uri": "https://localhost:8080/"
        },
        "id": "Dz7CTwFuL2hu",
        "outputId": "cd920f2d-aafb-4c19-eafb-38a02f59e3fd"
      },
      "execution_count": null,
      "outputs": [
        {
          "output_type": "execute_result",
          "data": {
            "text/plain": [
              "True"
            ]
          },
          "metadata": {},
          "execution_count": 27
        }
      ]
    },
    {
      "cell_type": "code",
      "source": [
        "'이메일' in dic"
      ],
      "metadata": {
        "colab": {
          "base_uri": "https://localhost:8080/"
        },
        "id": "kYfkeBsCMNiH",
        "outputId": "884a51c7-0f7e-42ce-d33a-1ba7424c9af3"
      },
      "execution_count": null,
      "outputs": [
        {
          "output_type": "execute_result",
          "data": {
            "text/plain": [
              "False"
            ]
          },
          "metadata": {},
          "execution_count": 28
        }
      ]
    },
    {
      "cell_type": "code",
      "source": [
        "# Set 집합 - 중복을 허용하지 않음(★), 순서가 없다, unordered\n",
        "#            인덱싱과 슬라이싱 불가능, 수정과 삭제는 가능, mutable\n",
        "#            중복 제거용 필터 형태로 많이 사용된다.\n",
        "s1 = set('hello')\n",
        "s1"
      ],
      "metadata": {
        "colab": {
          "base_uri": "https://localhost:8080/"
        },
        "id": "5tFVa8VTMWCT",
        "outputId": "e0d46ee4-003c-492d-b633-3ba0363cb522"
      },
      "execution_count": null,
      "outputs": [
        {
          "output_type": "execute_result",
          "data": {
            "text/plain": [
              "{'e', 'h', 'l', 'o'}"
            ]
          },
          "metadata": {},
          "execution_count": 29
        }
      ]
    },
    {
      "cell_type": "code",
      "source": [
        "s1 = set([1,2,3])\n",
        "s1.add(4)\n",
        "s1"
      ],
      "metadata": {
        "colab": {
          "base_uri": "https://localhost:8080/"
        },
        "id": "MKigZ4KXM5UJ",
        "outputId": "803967c3-4de5-48e0-b8c2-96fb272db385"
      },
      "execution_count": null,
      "outputs": [
        {
          "output_type": "execute_result",
          "data": {
            "text/plain": [
              "{1, 2, 3, 4}"
            ]
          },
          "metadata": {},
          "execution_count": 32
        }
      ]
    },
    {
      "cell_type": "code",
      "source": [
        "s1.remove(2)\n",
        "s1"
      ],
      "metadata": {
        "colab": {
          "base_uri": "https://localhost:8080/"
        },
        "id": "CgBP3yKLNbeB",
        "outputId": "29f0997f-6fdc-4ccc-ceca-b7517fdeb376"
      },
      "execution_count": null,
      "outputs": [
        {
          "output_type": "execute_result",
          "data": {
            "text/plain": [
              "{1, 3, 4}"
            ]
          },
          "metadata": {},
          "execution_count": 33
        }
      ]
    },
    {
      "cell_type": "code",
      "source": [
        "s = {'1',3,4,5}\n",
        "s"
      ],
      "metadata": {
        "colab": {
          "base_uri": "https://localhost:8080/"
        },
        "id": "nSKwelChNk2n",
        "outputId": "a3ebe6ce-66ce-435c-84ce-00ff8605f4d5"
      },
      "execution_count": null,
      "outputs": [
        {
          "output_type": "execute_result",
          "data": {
            "text/plain": [
              "{'1', 3, 4, 5}"
            ]
          },
          "metadata": {},
          "execution_count": 39
        }
      ]
    },
    {
      "cell_type": "code",
      "source": [
        "type(s)"
      ],
      "metadata": {
        "colab": {
          "base_uri": "https://localhost:8080/"
        },
        "id": "13-xDbz5PLv5",
        "outputId": "358c23c2-2abc-44bf-b1de-f1620094bf4b"
      },
      "execution_count": null,
      "outputs": [
        {
          "output_type": "execute_result",
          "data": {
            "text/plain": [
              "set"
            ]
          },
          "metadata": {},
          "execution_count": 40
        }
      ]
    },
    {
      "cell_type": "code",
      "source": [
        "import pandas as pd\n",
        "# 시리즈, 데이터 프레임(*)\n",
        "# Series 키값과 밸류값 형태 즉 파이썬 딕셔너리와 유사한 구조"
      ],
      "metadata": {
        "id": "QgRn0zv8O-Eu"
      },
      "execution_count": 3,
      "outputs": []
    },
    {
      "cell_type": "code",
      "source": [
        "dict_data = {'a':1, 'b':2, 'c':3}   #파이썬 딕셔너리 "
      ],
      "metadata": {
        "id": "cgzSj67XQOh6"
      },
      "execution_count": null,
      "outputs": []
    },
    {
      "cell_type": "code",
      "source": [
        "sr = pd.Series(dict_data)"
      ],
      "metadata": {
        "id": "vNSuBFlDRuZn"
      },
      "execution_count": null,
      "outputs": []
    },
    {
      "cell_type": "code",
      "source": [
        "list_data = ['2021-12-04',3.14,'ABC',100, True]\n",
        "\n",
        "sr = pd.Series(list_data)\n",
        "sr\n",
        "\n",
        "# 시리즈의 인덱스 배열과 데이터 값의 배열을 \n",
        "# 인덱스는 0 ~ 4 범위의 정수로 인덱스 \n",
        "# 데이터값이 밸류 값으로 나열되어 시리즈를 생성한다.\n"
      ],
      "metadata": {
        "colab": {
          "base_uri": "https://localhost:8080/"
        },
        "id": "Pn1EPgmbRxBf",
        "outputId": "c35e259d-fe79-4940-af5c-adfb139a53be"
      },
      "execution_count": null,
      "outputs": [
        {
          "output_type": "execute_result",
          "data": {
            "text/plain": [
              "0    2021-12-04\n",
              "1          3.14\n",
              "2           ABC\n",
              "3           100\n",
              "4          True\n",
              "dtype: object"
            ]
          },
          "metadata": {},
          "execution_count": 44
        }
      ]
    },
    {
      "cell_type": "code",
      "source": [
        "print(sr.index)"
      ],
      "metadata": {
        "colab": {
          "base_uri": "https://localhost:8080/"
        },
        "id": "77alDbmCWpCp",
        "outputId": "824231a8-abed-4ff8-d6b8-a7e315596a4d"
      },
      "execution_count": null,
      "outputs": [
        {
          "output_type": "stream",
          "name": "stdout",
          "text": [
            "RangeIndex(start=0, stop=5, step=1)\n"
          ]
        }
      ]
    },
    {
      "cell_type": "code",
      "source": [
        "print(sr.values)"
      ],
      "metadata": {
        "colab": {
          "base_uri": "https://localhost:8080/"
        },
        "id": "WyqbbfGOXScJ",
        "outputId": "cffb82ad-d5ba-4f5a-d991-75022bbaac4c"
      },
      "execution_count": null,
      "outputs": [
        {
          "output_type": "stream",
          "name": "stdout",
          "text": [
            "['2021-12-04' 3.14 'ABC' 100 True]\n"
          ]
        }
      ]
    },
    {
      "cell_type": "code",
      "source": [
        "tuple_data = ('홍길동','2000-12-04','남','학생')"
      ],
      "metadata": {
        "id": "a8xtAoyiXUxD"
      },
      "execution_count": null,
      "outputs": []
    },
    {
      "cell_type": "code",
      "source": [
        "sr = pd.Series(tuple_data)\n",
        "sr"
      ],
      "metadata": {
        "colab": {
          "base_uri": "https://localhost:8080/"
        },
        "id": "VQUG7dtWsFD4",
        "outputId": "85f31715-15ec-4c3f-d247-a7e0a4fe30b0"
      },
      "execution_count": null,
      "outputs": [
        {
          "output_type": "execute_result",
          "data": {
            "text/plain": [
              "0           홍길동\n",
              "1    2000-12-04\n",
              "2             남\n",
              "3            학생\n",
              "dtype: object"
            ]
          },
          "metadata": {},
          "execution_count": 48
        }
      ]
    },
    {
      "cell_type": "code",
      "source": [
        "sr1 = pd.Series(tuple_data, index=['이름','생일','성별','직업'])\n",
        "sr1"
      ],
      "metadata": {
        "colab": {
          "base_uri": "https://localhost:8080/"
        },
        "id": "1iL5mMDjsMbB",
        "outputId": "5545bf9a-01a9-4426-d3c8-ed5504039f34"
      },
      "execution_count": null,
      "outputs": [
        {
          "output_type": "execute_result",
          "data": {
            "text/plain": [
              "이름           홍길동\n",
              "생일    2000-12-04\n",
              "성별             남\n",
              "직업            학생\n",
              "dtype: object"
            ]
          },
          "metadata": {},
          "execution_count": 49
        }
      ]
    },
    {
      "cell_type": "code",
      "source": [
        "sr1[0]"
      ],
      "metadata": {
        "colab": {
          "base_uri": "https://localhost:8080/",
          "height": 36
        },
        "id": "VaE0Vnb3skcp",
        "outputId": "3de33d65-a6be-4fb0-c3e4-fadd89a0cda8"
      },
      "execution_count": null,
      "outputs": [
        {
          "output_type": "execute_result",
          "data": {
            "application/vnd.google.colaboratory.intrinsic+json": {
              "type": "string"
            },
            "text/plain": [
              "'홍길동'"
            ]
          },
          "metadata": {},
          "execution_count": 50
        }
      ]
    },
    {
      "cell_type": "code",
      "source": [
        "sr1['이름']"
      ],
      "metadata": {
        "colab": {
          "base_uri": "https://localhost:8080/",
          "height": 36
        },
        "id": "pk3-_aPNsn5C",
        "outputId": "3ee91dac-7a12-4cc9-a416-946d30ed036f"
      },
      "execution_count": null,
      "outputs": [
        {
          "output_type": "execute_result",
          "data": {
            "application/vnd.google.colaboratory.intrinsic+json": {
              "type": "string"
            },
            "text/plain": [
              "'홍길동'"
            ]
          },
          "metadata": {},
          "execution_count": 51
        }
      ]
    },
    {
      "cell_type": "code",
      "source": [
        "# 데이터 프레임 - 행과 열로 만들어지는 2차원 배열 형태의 자료구조"
      ],
      "metadata": {
        "id": "2YFoUKZvspsh"
      },
      "execution_count": null,
      "outputs": []
    },
    {
      "cell_type": "code",
      "source": [
        "dict_data = {'c0':[1,2,3],'c1':[4,5,6],'c2':[7,8,9],'c3':[10,11,12],'c4':[13,14,15]}"
      ],
      "metadata": {
        "id": "zli5IO4lZ6M-"
      },
      "execution_count": 1,
      "outputs": []
    },
    {
      "cell_type": "code",
      "source": [
        "df = pd.DataFrame(dict_data)\n",
        "df"
      ],
      "metadata": {
        "colab": {
          "base_uri": "https://localhost:8080/",
          "height": 143
        },
        "id": "FcaRC2WBaUP4",
        "outputId": "bda424e4-644d-4185-b490-bdc9d4776980"
      },
      "execution_count": 4,
      "outputs": [
        {
          "output_type": "execute_result",
          "data": {
            "text/html": [
              "<div>\n",
              "<style scoped>\n",
              "    .dataframe tbody tr th:only-of-type {\n",
              "        vertical-align: middle;\n",
              "    }\n",
              "\n",
              "    .dataframe tbody tr th {\n",
              "        vertical-align: top;\n",
              "    }\n",
              "\n",
              "    .dataframe thead th {\n",
              "        text-align: right;\n",
              "    }\n",
              "</style>\n",
              "<table border=\"1\" class=\"dataframe\">\n",
              "  <thead>\n",
              "    <tr style=\"text-align: right;\">\n",
              "      <th></th>\n",
              "      <th>c0</th>\n",
              "      <th>c1</th>\n",
              "      <th>c2</th>\n",
              "      <th>c3</th>\n",
              "      <th>c4</th>\n",
              "    </tr>\n",
              "  </thead>\n",
              "  <tbody>\n",
              "    <tr>\n",
              "      <th>0</th>\n",
              "      <td>1</td>\n",
              "      <td>4</td>\n",
              "      <td>7</td>\n",
              "      <td>10</td>\n",
              "      <td>13</td>\n",
              "    </tr>\n",
              "    <tr>\n",
              "      <th>1</th>\n",
              "      <td>2</td>\n",
              "      <td>5</td>\n",
              "      <td>8</td>\n",
              "      <td>11</td>\n",
              "      <td>14</td>\n",
              "    </tr>\n",
              "    <tr>\n",
              "      <th>2</th>\n",
              "      <td>3</td>\n",
              "      <td>6</td>\n",
              "      <td>9</td>\n",
              "      <td>12</td>\n",
              "      <td>15</td>\n",
              "    </tr>\n",
              "  </tbody>\n",
              "</table>\n",
              "</div>"
            ],
            "text/plain": [
              "   c0  c1  c2  c3  c4\n",
              "0   1   4   7  10  13\n",
              "1   2   5   8  11  14\n",
              "2   3   6   9  12  15"
            ]
          },
          "metadata": {},
          "execution_count": 4
        }
      ]
    },
    {
      "cell_type": "code",
      "source": [
        "type(df)"
      ],
      "metadata": {
        "colab": {
          "base_uri": "https://localhost:8080/"
        },
        "id": "5U5w4DP1ab5m",
        "outputId": "9ba80d1a-ed3a-431f-e4f7-ee1f6f925dab"
      },
      "execution_count": 5,
      "outputs": [
        {
          "output_type": "execute_result",
          "data": {
            "text/plain": [
              "pandas.core.frame.DataFrame"
            ]
          },
          "metadata": {},
          "execution_count": 5
        }
      ]
    },
    {
      "cell_type": "code",
      "source": [
        "df = pd.DataFrame([[15,'남','강남중'],[17,'여','서초중']],\n",
        "                  index=['준서','예은'],\n",
        "                  columns=['나이','성별','학교'])"
      ],
      "metadata": {
        "id": "v-CfD9Xtanz-"
      },
      "execution_count": 7,
      "outputs": []
    },
    {
      "cell_type": "code",
      "source": [
        "df"
      ],
      "metadata": {
        "colab": {
          "base_uri": "https://localhost:8080/",
          "height": 112
        },
        "id": "QiBhkTgCa_tf",
        "outputId": "83e5b426-ff5e-40de-b4be-88962c513c3b"
      },
      "execution_count": 8,
      "outputs": [
        {
          "output_type": "execute_result",
          "data": {
            "text/html": [
              "<div>\n",
              "<style scoped>\n",
              "    .dataframe tbody tr th:only-of-type {\n",
              "        vertical-align: middle;\n",
              "    }\n",
              "\n",
              "    .dataframe tbody tr th {\n",
              "        vertical-align: top;\n",
              "    }\n",
              "\n",
              "    .dataframe thead th {\n",
              "        text-align: right;\n",
              "    }\n",
              "</style>\n",
              "<table border=\"1\" class=\"dataframe\">\n",
              "  <thead>\n",
              "    <tr style=\"text-align: right;\">\n",
              "      <th></th>\n",
              "      <th>나이</th>\n",
              "      <th>성별</th>\n",
              "      <th>학교</th>\n",
              "    </tr>\n",
              "  </thead>\n",
              "  <tbody>\n",
              "    <tr>\n",
              "      <th>준서</th>\n",
              "      <td>15</td>\n",
              "      <td>남</td>\n",
              "      <td>강남중</td>\n",
              "    </tr>\n",
              "    <tr>\n",
              "      <th>예은</th>\n",
              "      <td>17</td>\n",
              "      <td>여</td>\n",
              "      <td>서초중</td>\n",
              "    </tr>\n",
              "  </tbody>\n",
              "</table>\n",
              "</div>"
            ],
            "text/plain": [
              "    나이 성별   학교\n",
              "준서  15  남  강남중\n",
              "예은  17  여  서초중"
            ]
          },
          "metadata": {},
          "execution_count": 8
        }
      ]
    },
    {
      "cell_type": "code",
      "source": [
        "df.index"
      ],
      "metadata": {
        "colab": {
          "base_uri": "https://localhost:8080/"
        },
        "id": "HP1tSNHwbIkZ",
        "outputId": "8db26f27-fd31-427f-b3e8-1696f5778861"
      },
      "execution_count": 9,
      "outputs": [
        {
          "output_type": "execute_result",
          "data": {
            "text/plain": [
              "Index(['준서', '예은'], dtype='object')"
            ]
          },
          "metadata": {},
          "execution_count": 9
        }
      ]
    },
    {
      "cell_type": "code",
      "source": [
        "df.columns"
      ],
      "metadata": {
        "colab": {
          "base_uri": "https://localhost:8080/"
        },
        "id": "-EFqPYVSbL0B",
        "outputId": "0bd50b8a-6b76-4b8a-e826-c831aa3eff4f"
      },
      "execution_count": 10,
      "outputs": [
        {
          "output_type": "execute_result",
          "data": {
            "text/plain": [
              "Index(['나이', '성별', '학교'], dtype='object')"
            ]
          },
          "metadata": {},
          "execution_count": 10
        }
      ]
    },
    {
      "cell_type": "code",
      "source": [
        "df.index = ['학생1','학생2']"
      ],
      "metadata": {
        "id": "qgJBbNKqbOGM"
      },
      "execution_count": 11,
      "outputs": []
    },
    {
      "cell_type": "code",
      "source": [
        "df"
      ],
      "metadata": {
        "colab": {
          "base_uri": "https://localhost:8080/",
          "height": 112
        },
        "id": "Co5PH_QtbbM0",
        "outputId": "5ead36ac-4f8a-4d06-fb88-41486d2ce315"
      },
      "execution_count": 12,
      "outputs": [
        {
          "output_type": "execute_result",
          "data": {
            "text/html": [
              "<div>\n",
              "<style scoped>\n",
              "    .dataframe tbody tr th:only-of-type {\n",
              "        vertical-align: middle;\n",
              "    }\n",
              "\n",
              "    .dataframe tbody tr th {\n",
              "        vertical-align: top;\n",
              "    }\n",
              "\n",
              "    .dataframe thead th {\n",
              "        text-align: right;\n",
              "    }\n",
              "</style>\n",
              "<table border=\"1\" class=\"dataframe\">\n",
              "  <thead>\n",
              "    <tr style=\"text-align: right;\">\n",
              "      <th></th>\n",
              "      <th>나이</th>\n",
              "      <th>성별</th>\n",
              "      <th>학교</th>\n",
              "    </tr>\n",
              "  </thead>\n",
              "  <tbody>\n",
              "    <tr>\n",
              "      <th>학생1</th>\n",
              "      <td>15</td>\n",
              "      <td>남</td>\n",
              "      <td>강남중</td>\n",
              "    </tr>\n",
              "    <tr>\n",
              "      <th>학생2</th>\n",
              "      <td>17</td>\n",
              "      <td>여</td>\n",
              "      <td>서초중</td>\n",
              "    </tr>\n",
              "  </tbody>\n",
              "</table>\n",
              "</div>"
            ],
            "text/plain": [
              "     나이 성별   학교\n",
              "학생1  15  남  강남중\n",
              "학생2  17  여  서초중"
            ]
          },
          "metadata": {},
          "execution_count": 12
        }
      ]
    },
    {
      "cell_type": "code",
      "source": [
        "df.columns = ['code1','code2','code3']"
      ],
      "metadata": {
        "id": "qg7oXn-JbcOP"
      },
      "execution_count": 13,
      "outputs": []
    },
    {
      "cell_type": "code",
      "source": [
        "df"
      ],
      "metadata": {
        "colab": {
          "base_uri": "https://localhost:8080/",
          "height": 112
        },
        "id": "hWMUchfDbl7p",
        "outputId": "11e4804f-9f46-47ba-f129-7e309e3ed397"
      },
      "execution_count": 14,
      "outputs": [
        {
          "output_type": "execute_result",
          "data": {
            "text/html": [
              "<div>\n",
              "<style scoped>\n",
              "    .dataframe tbody tr th:only-of-type {\n",
              "        vertical-align: middle;\n",
              "    }\n",
              "\n",
              "    .dataframe tbody tr th {\n",
              "        vertical-align: top;\n",
              "    }\n",
              "\n",
              "    .dataframe thead th {\n",
              "        text-align: right;\n",
              "    }\n",
              "</style>\n",
              "<table border=\"1\" class=\"dataframe\">\n",
              "  <thead>\n",
              "    <tr style=\"text-align: right;\">\n",
              "      <th></th>\n",
              "      <th>code1</th>\n",
              "      <th>code2</th>\n",
              "      <th>code3</th>\n",
              "    </tr>\n",
              "  </thead>\n",
              "  <tbody>\n",
              "    <tr>\n",
              "      <th>학생1</th>\n",
              "      <td>15</td>\n",
              "      <td>남</td>\n",
              "      <td>강남중</td>\n",
              "    </tr>\n",
              "    <tr>\n",
              "      <th>학생2</th>\n",
              "      <td>17</td>\n",
              "      <td>여</td>\n",
              "      <td>서초중</td>\n",
              "    </tr>\n",
              "  </tbody>\n",
              "</table>\n",
              "</div>"
            ],
            "text/plain": [
              "     code1 code2 code3\n",
              "학생1     15     남   강남중\n",
              "학생2     17     여   서초중"
            ]
          },
          "metadata": {},
          "execution_count": 14
        }
      ]
    },
    {
      "cell_type": "code",
      "source": [
        "exam_data = {'수학':[90,80,70],'영어':[98, 89, 95],\n",
        "             '음악':[85,95,100],'체육':[100,90,90]}"
      ],
      "metadata": {
        "id": "q2UT1t8UbnTA"
      },
      "execution_count": 15,
      "outputs": []
    },
    {
      "cell_type": "code",
      "source": [
        "df = pd.DataFrame(exam_data, index=['지민','정국','슈가'])\n",
        "df"
      ],
      "metadata": {
        "colab": {
          "base_uri": "https://localhost:8080/",
          "height": 143
        },
        "id": "KMKqObKEcTQg",
        "outputId": "b078e484-1599-4dba-a543-b3e22a28c3dd"
      },
      "execution_count": 18,
      "outputs": [
        {
          "output_type": "execute_result",
          "data": {
            "text/html": [
              "<div>\n",
              "<style scoped>\n",
              "    .dataframe tbody tr th:only-of-type {\n",
              "        vertical-align: middle;\n",
              "    }\n",
              "\n",
              "    .dataframe tbody tr th {\n",
              "        vertical-align: top;\n",
              "    }\n",
              "\n",
              "    .dataframe thead th {\n",
              "        text-align: right;\n",
              "    }\n",
              "</style>\n",
              "<table border=\"1\" class=\"dataframe\">\n",
              "  <thead>\n",
              "    <tr style=\"text-align: right;\">\n",
              "      <th></th>\n",
              "      <th>수학</th>\n",
              "      <th>영어</th>\n",
              "      <th>음악</th>\n",
              "      <th>체육</th>\n",
              "    </tr>\n",
              "  </thead>\n",
              "  <tbody>\n",
              "    <tr>\n",
              "      <th>지민</th>\n",
              "      <td>90</td>\n",
              "      <td>98</td>\n",
              "      <td>85</td>\n",
              "      <td>100</td>\n",
              "    </tr>\n",
              "    <tr>\n",
              "      <th>정국</th>\n",
              "      <td>80</td>\n",
              "      <td>89</td>\n",
              "      <td>95</td>\n",
              "      <td>90</td>\n",
              "    </tr>\n",
              "    <tr>\n",
              "      <th>슈가</th>\n",
              "      <td>70</td>\n",
              "      <td>95</td>\n",
              "      <td>100</td>\n",
              "      <td>90</td>\n",
              "    </tr>\n",
              "  </tbody>\n",
              "</table>\n",
              "</div>"
            ],
            "text/plain": [
              "    수학  영어   음악   체육\n",
              "지민  90  98   85  100\n",
              "정국  80  89   95   90\n",
              "슈가  70  95  100   90"
            ]
          },
          "metadata": {},
          "execution_count": 18
        }
      ]
    },
    {
      "cell_type": "code",
      "source": [
        "df2 = df[:]     #df의 복사 -> 수정이나 작업을 하려면 복사를 만들어서 하는게 원복을 하기 유리 \n",
        "df2"
      ],
      "metadata": {
        "colab": {
          "base_uri": "https://localhost:8080/",
          "height": 143
        },
        "id": "8G9YlVWgcfGR",
        "outputId": "8b7fff7b-9c5f-4e20-b5ff-8e4bcdc24d5d"
      },
      "execution_count": 19,
      "outputs": [
        {
          "output_type": "execute_result",
          "data": {
            "text/html": [
              "<div>\n",
              "<style scoped>\n",
              "    .dataframe tbody tr th:only-of-type {\n",
              "        vertical-align: middle;\n",
              "    }\n",
              "\n",
              "    .dataframe tbody tr th {\n",
              "        vertical-align: top;\n",
              "    }\n",
              "\n",
              "    .dataframe thead th {\n",
              "        text-align: right;\n",
              "    }\n",
              "</style>\n",
              "<table border=\"1\" class=\"dataframe\">\n",
              "  <thead>\n",
              "    <tr style=\"text-align: right;\">\n",
              "      <th></th>\n",
              "      <th>수학</th>\n",
              "      <th>영어</th>\n",
              "      <th>음악</th>\n",
              "      <th>체육</th>\n",
              "    </tr>\n",
              "  </thead>\n",
              "  <tbody>\n",
              "    <tr>\n",
              "      <th>지민</th>\n",
              "      <td>90</td>\n",
              "      <td>98</td>\n",
              "      <td>85</td>\n",
              "      <td>100</td>\n",
              "    </tr>\n",
              "    <tr>\n",
              "      <th>정국</th>\n",
              "      <td>80</td>\n",
              "      <td>89</td>\n",
              "      <td>95</td>\n",
              "      <td>90</td>\n",
              "    </tr>\n",
              "    <tr>\n",
              "      <th>슈가</th>\n",
              "      <td>70</td>\n",
              "      <td>95</td>\n",
              "      <td>100</td>\n",
              "      <td>90</td>\n",
              "    </tr>\n",
              "  </tbody>\n",
              "</table>\n",
              "</div>"
            ],
            "text/plain": [
              "    수학  영어   음악   체육\n",
              "지민  90  98   85  100\n",
              "정국  80  89   95   90\n",
              "슈가  70  95  100   90"
            ]
          },
          "metadata": {},
          "execution_count": 19
        }
      ]
    },
    {
      "cell_type": "code",
      "source": [
        "# 데이터 프레임에서 행 삭제 \n",
        "df2.drop('정국', inplace=True)      # 임시 삭제"
      ],
      "metadata": {
        "colab": {
          "base_uri": "https://localhost:8080/"
        },
        "id": "FAu-MVqedVEk",
        "outputId": "9f71b664-a1de-4658-f06f-7c21277aeeb4"
      },
      "execution_count": 23,
      "outputs": [
        {
          "output_type": "stream",
          "name": "stderr",
          "text": [
            "/usr/local/lib/python3.7/dist-packages/pandas/core/frame.py:4174: SettingWithCopyWarning: \n",
            "A value is trying to be set on a copy of a slice from a DataFrame\n",
            "\n",
            "See the caveats in the documentation: https://pandas.pydata.org/pandas-docs/stable/user_guide/indexing.html#returning-a-view-versus-a-copy\n",
            "  errors=errors,\n"
          ]
        }
      ]
    },
    {
      "cell_type": "code",
      "source": [
        "df2"
      ],
      "metadata": {
        "colab": {
          "base_uri": "https://localhost:8080/",
          "height": 81
        },
        "id": "22ffkGs0dvhg",
        "outputId": "f21ba640-d891-4c80-834d-2f873a137a4d"
      },
      "execution_count": 24,
      "outputs": [
        {
          "output_type": "execute_result",
          "data": {
            "text/html": [
              "<div>\n",
              "<style scoped>\n",
              "    .dataframe tbody tr th:only-of-type {\n",
              "        vertical-align: middle;\n",
              "    }\n",
              "\n",
              "    .dataframe tbody tr th {\n",
              "        vertical-align: top;\n",
              "    }\n",
              "\n",
              "    .dataframe thead th {\n",
              "        text-align: right;\n",
              "    }\n",
              "</style>\n",
              "<table border=\"1\" class=\"dataframe\">\n",
              "  <thead>\n",
              "    <tr style=\"text-align: right;\">\n",
              "      <th></th>\n",
              "      <th>수학</th>\n",
              "      <th>영어</th>\n",
              "      <th>음악</th>\n",
              "      <th>체육</th>\n",
              "    </tr>\n",
              "  </thead>\n",
              "  <tbody>\n",
              "    <tr>\n",
              "      <th>슈가</th>\n",
              "      <td>70</td>\n",
              "      <td>95</td>\n",
              "      <td>100</td>\n",
              "      <td>90</td>\n",
              "    </tr>\n",
              "  </tbody>\n",
              "</table>\n",
              "</div>"
            ],
            "text/plain": [
              "    수학  영어   음악  체육\n",
              "슈가  70  95  100  90"
            ]
          },
          "metadata": {},
          "execution_count": 24
        }
      ]
    },
    {
      "cell_type": "code",
      "source": [
        "df"
      ],
      "metadata": {
        "colab": {
          "base_uri": "https://localhost:8080/",
          "height": 143
        },
        "id": "f2yHy7ATd3m4",
        "outputId": "f3c4dffc-ac5d-441b-e282-e728e3c92c3c"
      },
      "execution_count": 25,
      "outputs": [
        {
          "output_type": "execute_result",
          "data": {
            "text/html": [
              "<div>\n",
              "<style scoped>\n",
              "    .dataframe tbody tr th:only-of-type {\n",
              "        vertical-align: middle;\n",
              "    }\n",
              "\n",
              "    .dataframe tbody tr th {\n",
              "        vertical-align: top;\n",
              "    }\n",
              "\n",
              "    .dataframe thead th {\n",
              "        text-align: right;\n",
              "    }\n",
              "</style>\n",
              "<table border=\"1\" class=\"dataframe\">\n",
              "  <thead>\n",
              "    <tr style=\"text-align: right;\">\n",
              "      <th></th>\n",
              "      <th>수학</th>\n",
              "      <th>영어</th>\n",
              "      <th>음악</th>\n",
              "      <th>체육</th>\n",
              "    </tr>\n",
              "  </thead>\n",
              "  <tbody>\n",
              "    <tr>\n",
              "      <th>지민</th>\n",
              "      <td>90</td>\n",
              "      <td>98</td>\n",
              "      <td>85</td>\n",
              "      <td>100</td>\n",
              "    </tr>\n",
              "    <tr>\n",
              "      <th>정국</th>\n",
              "      <td>80</td>\n",
              "      <td>89</td>\n",
              "      <td>95</td>\n",
              "      <td>90</td>\n",
              "    </tr>\n",
              "    <tr>\n",
              "      <th>슈가</th>\n",
              "      <td>70</td>\n",
              "      <td>95</td>\n",
              "      <td>100</td>\n",
              "      <td>90</td>\n",
              "    </tr>\n",
              "  </tbody>\n",
              "</table>\n",
              "</div>"
            ],
            "text/plain": [
              "    수학  영어   음악   체육\n",
              "지민  90  98   85  100\n",
              "정국  80  89   95   90\n",
              "슈가  70  95  100   90"
            ]
          },
          "metadata": {},
          "execution_count": 25
        }
      ]
    },
    {
      "cell_type": "code",
      "source": [
        "df3 = df[:]\n",
        "df3.drop(['지민','슈가'], axis=0, inplace = True)   #axis = 0 행방향 \n",
        "df3"
      ],
      "metadata": {
        "colab": {
          "base_uri": "https://localhost:8080/",
          "height": 192
        },
        "id": "yIIymGgLec3o",
        "outputId": "fd800983-fc72-46e9-b223-4d027db4f803"
      },
      "execution_count": 27,
      "outputs": [
        {
          "output_type": "stream",
          "name": "stderr",
          "text": [
            "/usr/local/lib/python3.7/dist-packages/pandas/core/frame.py:4174: SettingWithCopyWarning: \n",
            "A value is trying to be set on a copy of a slice from a DataFrame\n",
            "\n",
            "See the caveats in the documentation: https://pandas.pydata.org/pandas-docs/stable/user_guide/indexing.html#returning-a-view-versus-a-copy\n",
            "  errors=errors,\n"
          ]
        },
        {
          "output_type": "execute_result",
          "data": {
            "text/html": [
              "<div>\n",
              "<style scoped>\n",
              "    .dataframe tbody tr th:only-of-type {\n",
              "        vertical-align: middle;\n",
              "    }\n",
              "\n",
              "    .dataframe tbody tr th {\n",
              "        vertical-align: top;\n",
              "    }\n",
              "\n",
              "    .dataframe thead th {\n",
              "        text-align: right;\n",
              "    }\n",
              "</style>\n",
              "<table border=\"1\" class=\"dataframe\">\n",
              "  <thead>\n",
              "    <tr style=\"text-align: right;\">\n",
              "      <th></th>\n",
              "      <th>수학</th>\n",
              "      <th>영어</th>\n",
              "      <th>음악</th>\n",
              "      <th>체육</th>\n",
              "    </tr>\n",
              "  </thead>\n",
              "  <tbody>\n",
              "    <tr>\n",
              "      <th>정국</th>\n",
              "      <td>80</td>\n",
              "      <td>89</td>\n",
              "      <td>95</td>\n",
              "      <td>90</td>\n",
              "    </tr>\n",
              "  </tbody>\n",
              "</table>\n",
              "</div>"
            ],
            "text/plain": [
              "    수학  영어  음악  체육\n",
              "정국  80  89  95  90"
            ]
          },
          "metadata": {},
          "execution_count": 27
        }
      ]
    },
    {
      "cell_type": "code",
      "source": [
        "df4 = df[:]\n",
        "df4.drop('수학', axis = 1, inplace=True)\n",
        "df4"
      ],
      "metadata": {
        "colab": {
          "base_uri": "https://localhost:8080/",
          "height": 255
        },
        "id": "_spWjU20e4nb",
        "outputId": "e637256d-b9db-4c67-9cbb-19821d5af32b"
      },
      "execution_count": 28,
      "outputs": [
        {
          "output_type": "stream",
          "name": "stderr",
          "text": [
            "/usr/local/lib/python3.7/dist-packages/pandas/core/frame.py:4174: SettingWithCopyWarning: \n",
            "A value is trying to be set on a copy of a slice from a DataFrame\n",
            "\n",
            "See the caveats in the documentation: https://pandas.pydata.org/pandas-docs/stable/user_guide/indexing.html#returning-a-view-versus-a-copy\n",
            "  errors=errors,\n"
          ]
        },
        {
          "output_type": "execute_result",
          "data": {
            "text/html": [
              "<div>\n",
              "<style scoped>\n",
              "    .dataframe tbody tr th:only-of-type {\n",
              "        vertical-align: middle;\n",
              "    }\n",
              "\n",
              "    .dataframe tbody tr th {\n",
              "        vertical-align: top;\n",
              "    }\n",
              "\n",
              "    .dataframe thead th {\n",
              "        text-align: right;\n",
              "    }\n",
              "</style>\n",
              "<table border=\"1\" class=\"dataframe\">\n",
              "  <thead>\n",
              "    <tr style=\"text-align: right;\">\n",
              "      <th></th>\n",
              "      <th>영어</th>\n",
              "      <th>음악</th>\n",
              "      <th>체육</th>\n",
              "    </tr>\n",
              "  </thead>\n",
              "  <tbody>\n",
              "    <tr>\n",
              "      <th>지민</th>\n",
              "      <td>98</td>\n",
              "      <td>85</td>\n",
              "      <td>100</td>\n",
              "    </tr>\n",
              "    <tr>\n",
              "      <th>정국</th>\n",
              "      <td>89</td>\n",
              "      <td>95</td>\n",
              "      <td>90</td>\n",
              "    </tr>\n",
              "    <tr>\n",
              "      <th>슈가</th>\n",
              "      <td>95</td>\n",
              "      <td>100</td>\n",
              "      <td>90</td>\n",
              "    </tr>\n",
              "  </tbody>\n",
              "</table>\n",
              "</div>"
            ],
            "text/plain": [
              "    영어   음악   체육\n",
              "지민  98   85  100\n",
              "정국  89   95   90\n",
              "슈가  95  100   90"
            ]
          },
          "metadata": {},
          "execution_count": 28
        }
      ]
    },
    {
      "cell_type": "code",
      "source": [
        "df4.drop(['음악', '체육'], axis = 1, inplace=True)\n",
        "df4"
      ],
      "metadata": {
        "colab": {
          "base_uri": "https://localhost:8080/",
          "height": 255
        },
        "id": "qFxPg43CfGFS",
        "outputId": "cd3d1fa6-80d5-43b6-8b07-1f8ae44bd5b3"
      },
      "execution_count": 29,
      "outputs": [
        {
          "output_type": "stream",
          "name": "stderr",
          "text": [
            "/usr/local/lib/python3.7/dist-packages/pandas/core/frame.py:4174: SettingWithCopyWarning: \n",
            "A value is trying to be set on a copy of a slice from a DataFrame\n",
            "\n",
            "See the caveats in the documentation: https://pandas.pydata.org/pandas-docs/stable/user_guide/indexing.html#returning-a-view-versus-a-copy\n",
            "  errors=errors,\n"
          ]
        },
        {
          "output_type": "execute_result",
          "data": {
            "text/html": [
              "<div>\n",
              "<style scoped>\n",
              "    .dataframe tbody tr th:only-of-type {\n",
              "        vertical-align: middle;\n",
              "    }\n",
              "\n",
              "    .dataframe tbody tr th {\n",
              "        vertical-align: top;\n",
              "    }\n",
              "\n",
              "    .dataframe thead th {\n",
              "        text-align: right;\n",
              "    }\n",
              "</style>\n",
              "<table border=\"1\" class=\"dataframe\">\n",
              "  <thead>\n",
              "    <tr style=\"text-align: right;\">\n",
              "      <th></th>\n",
              "      <th>영어</th>\n",
              "    </tr>\n",
              "  </thead>\n",
              "  <tbody>\n",
              "    <tr>\n",
              "      <th>지민</th>\n",
              "      <td>98</td>\n",
              "    </tr>\n",
              "    <tr>\n",
              "      <th>정국</th>\n",
              "      <td>89</td>\n",
              "    </tr>\n",
              "    <tr>\n",
              "      <th>슈가</th>\n",
              "      <td>95</td>\n",
              "    </tr>\n",
              "  </tbody>\n",
              "</table>\n",
              "</div>"
            ],
            "text/plain": [
              "    영어\n",
              "지민  98\n",
              "정국  89\n",
              "슈가  95"
            ]
          },
          "metadata": {},
          "execution_count": 29
        }
      ]
    },
    {
      "cell_type": "code",
      "source": [
        "# 행 선택 loc,\n",
        "\n",
        "#  loc - 인덱스 이름을 기준으로 선택, \n",
        "#  iloc - 인덱스 번호를 기준으로 선택 "
      ],
      "metadata": {
        "id": "K99ZzDm_fREQ"
      },
      "execution_count": 30,
      "outputs": []
    },
    {
      "cell_type": "code",
      "source": [
        "df5 = df[:]"
      ],
      "metadata": {
        "id": "PaBLvIKagHUz"
      },
      "execution_count": 31,
      "outputs": []
    },
    {
      "cell_type": "code",
      "source": [
        "label1 = df.loc['지민']       # ★★★★★ 인덱스 값을 글자로 선택 / loc는 index의 이름으로 밸류값 구함 \n",
        "label1"
      ],
      "metadata": {
        "colab": {
          "base_uri": "https://localhost:8080/"
        },
        "id": "hAcOSEomgJOs",
        "outputId": "2b5f424d-2d1f-42d6-814f-9fc9ec9680fd"
      },
      "execution_count": 32,
      "outputs": [
        {
          "output_type": "execute_result",
          "data": {
            "text/plain": [
              "수학     90\n",
              "영어     98\n",
              "음악     85\n",
              "체육    100\n",
              "Name: 지민, dtype: int64"
            ]
          },
          "metadata": {},
          "execution_count": 32
        }
      ]
    },
    {
      "cell_type": "code",
      "source": [
        "index1 = df.iloc[0]       # ★★★★★ iloc는 인덱스 번호로 밸류값을 구함\n",
        "\n",
        "index1"
      ],
      "metadata": {
        "colab": {
          "base_uri": "https://localhost:8080/"
        },
        "id": "cRJWHhB6gUAh",
        "outputId": "acf29459-45ad-4513-f41d-7b92b67b05f3"
      },
      "execution_count": 34,
      "outputs": [
        {
          "output_type": "execute_result",
          "data": {
            "text/plain": [
              "수학     90\n",
              "영어     98\n",
              "음악     85\n",
              "체육    100\n",
              "Name: 지민, dtype: int64"
            ]
          },
          "metadata": {},
          "execution_count": 34
        }
      ]
    },
    {
      "cell_type": "code",
      "source": [
        "label2 = df.loc[['지민','슈가']]\n",
        "label2"
      ],
      "metadata": {
        "colab": {
          "base_uri": "https://localhost:8080/",
          "height": 112
        },
        "id": "BhUDZxDHglqB",
        "outputId": "6112f795-fd64-44dd-96a2-b68369a18ec3"
      },
      "execution_count": 35,
      "outputs": [
        {
          "output_type": "execute_result",
          "data": {
            "text/html": [
              "<div>\n",
              "<style scoped>\n",
              "    .dataframe tbody tr th:only-of-type {\n",
              "        vertical-align: middle;\n",
              "    }\n",
              "\n",
              "    .dataframe tbody tr th {\n",
              "        vertical-align: top;\n",
              "    }\n",
              "\n",
              "    .dataframe thead th {\n",
              "        text-align: right;\n",
              "    }\n",
              "</style>\n",
              "<table border=\"1\" class=\"dataframe\">\n",
              "  <thead>\n",
              "    <tr style=\"text-align: right;\">\n",
              "      <th></th>\n",
              "      <th>수학</th>\n",
              "      <th>영어</th>\n",
              "      <th>음악</th>\n",
              "      <th>체육</th>\n",
              "    </tr>\n",
              "  </thead>\n",
              "  <tbody>\n",
              "    <tr>\n",
              "      <th>지민</th>\n",
              "      <td>90</td>\n",
              "      <td>98</td>\n",
              "      <td>85</td>\n",
              "      <td>100</td>\n",
              "    </tr>\n",
              "    <tr>\n",
              "      <th>슈가</th>\n",
              "      <td>70</td>\n",
              "      <td>95</td>\n",
              "      <td>100</td>\n",
              "      <td>90</td>\n",
              "    </tr>\n",
              "  </tbody>\n",
              "</table>\n",
              "</div>"
            ],
            "text/plain": [
              "    수학  영어   음악   체육\n",
              "지민  90  98   85  100\n",
              "슈가  70  95  100   90"
            ]
          },
          "metadata": {},
          "execution_count": 35
        }
      ]
    },
    {
      "cell_type": "code",
      "source": [
        "index2 = df.iloc[[0,1]]\n",
        "index2"
      ],
      "metadata": {
        "colab": {
          "base_uri": "https://localhost:8080/",
          "height": 112
        },
        "id": "lR3W95jphNe3",
        "outputId": "4a4e13ca-415b-45f9-f75c-814429cadddb"
      },
      "execution_count": 37,
      "outputs": [
        {
          "output_type": "execute_result",
          "data": {
            "text/html": [
              "<div>\n",
              "<style scoped>\n",
              "    .dataframe tbody tr th:only-of-type {\n",
              "        vertical-align: middle;\n",
              "    }\n",
              "\n",
              "    .dataframe tbody tr th {\n",
              "        vertical-align: top;\n",
              "    }\n",
              "\n",
              "    .dataframe thead th {\n",
              "        text-align: right;\n",
              "    }\n",
              "</style>\n",
              "<table border=\"1\" class=\"dataframe\">\n",
              "  <thead>\n",
              "    <tr style=\"text-align: right;\">\n",
              "      <th></th>\n",
              "      <th>수학</th>\n",
              "      <th>영어</th>\n",
              "      <th>음악</th>\n",
              "      <th>체육</th>\n",
              "    </tr>\n",
              "  </thead>\n",
              "  <tbody>\n",
              "    <tr>\n",
              "      <th>지민</th>\n",
              "      <td>90</td>\n",
              "      <td>98</td>\n",
              "      <td>85</td>\n",
              "      <td>100</td>\n",
              "    </tr>\n",
              "    <tr>\n",
              "      <th>정국</th>\n",
              "      <td>80</td>\n",
              "      <td>89</td>\n",
              "      <td>95</td>\n",
              "      <td>90</td>\n",
              "    </tr>\n",
              "  </tbody>\n",
              "</table>\n",
              "</div>"
            ],
            "text/plain": [
              "    수학  영어  음악   체육\n",
              "지민  90  98  85  100\n",
              "정국  80  89  95   90"
            ]
          },
          "metadata": {},
          "execution_count": 37
        }
      ]
    },
    {
      "cell_type": "code",
      "source": [
        "label3 = df.loc['지민':'슈가']\n",
        "label3"
      ],
      "metadata": {
        "colab": {
          "base_uri": "https://localhost:8080/",
          "height": 143
        },
        "id": "Q2tRYIo8hVK-",
        "outputId": "71eefa0d-73bb-4e3b-ce6b-4dfd1e7e3759"
      },
      "execution_count": 38,
      "outputs": [
        {
          "output_type": "execute_result",
          "data": {
            "text/html": [
              "<div>\n",
              "<style scoped>\n",
              "    .dataframe tbody tr th:only-of-type {\n",
              "        vertical-align: middle;\n",
              "    }\n",
              "\n",
              "    .dataframe tbody tr th {\n",
              "        vertical-align: top;\n",
              "    }\n",
              "\n",
              "    .dataframe thead th {\n",
              "        text-align: right;\n",
              "    }\n",
              "</style>\n",
              "<table border=\"1\" class=\"dataframe\">\n",
              "  <thead>\n",
              "    <tr style=\"text-align: right;\">\n",
              "      <th></th>\n",
              "      <th>수학</th>\n",
              "      <th>영어</th>\n",
              "      <th>음악</th>\n",
              "      <th>체육</th>\n",
              "    </tr>\n",
              "  </thead>\n",
              "  <tbody>\n",
              "    <tr>\n",
              "      <th>지민</th>\n",
              "      <td>90</td>\n",
              "      <td>98</td>\n",
              "      <td>85</td>\n",
              "      <td>100</td>\n",
              "    </tr>\n",
              "    <tr>\n",
              "      <th>정국</th>\n",
              "      <td>80</td>\n",
              "      <td>89</td>\n",
              "      <td>95</td>\n",
              "      <td>90</td>\n",
              "    </tr>\n",
              "    <tr>\n",
              "      <th>슈가</th>\n",
              "      <td>70</td>\n",
              "      <td>95</td>\n",
              "      <td>100</td>\n",
              "      <td>90</td>\n",
              "    </tr>\n",
              "  </tbody>\n",
              "</table>\n",
              "</div>"
            ],
            "text/plain": [
              "    수학  영어   음악   체육\n",
              "지민  90  98   85  100\n",
              "정국  80  89   95   90\n",
              "슈가  70  95  100   90"
            ]
          },
          "metadata": {},
          "execution_count": 38
        }
      ]
    },
    {
      "cell_type": "code",
      "source": [
        "index3 = df.iloc[0:3]     # 0번째부터는 3미만 즉 2까지 \n",
        "index3"
      ],
      "metadata": {
        "colab": {
          "base_uri": "https://localhost:8080/",
          "height": 143
        },
        "id": "gLH1lVTFhqrK",
        "outputId": "d6d1320f-d9b0-4373-fd27-722ab6f6244f"
      },
      "execution_count": 40,
      "outputs": [
        {
          "output_type": "execute_result",
          "data": {
            "text/html": [
              "<div>\n",
              "<style scoped>\n",
              "    .dataframe tbody tr th:only-of-type {\n",
              "        vertical-align: middle;\n",
              "    }\n",
              "\n",
              "    .dataframe tbody tr th {\n",
              "        vertical-align: top;\n",
              "    }\n",
              "\n",
              "    .dataframe thead th {\n",
              "        text-align: right;\n",
              "    }\n",
              "</style>\n",
              "<table border=\"1\" class=\"dataframe\">\n",
              "  <thead>\n",
              "    <tr style=\"text-align: right;\">\n",
              "      <th></th>\n",
              "      <th>수학</th>\n",
              "      <th>영어</th>\n",
              "      <th>음악</th>\n",
              "      <th>체육</th>\n",
              "    </tr>\n",
              "  </thead>\n",
              "  <tbody>\n",
              "    <tr>\n",
              "      <th>지민</th>\n",
              "      <td>90</td>\n",
              "      <td>98</td>\n",
              "      <td>85</td>\n",
              "      <td>100</td>\n",
              "    </tr>\n",
              "    <tr>\n",
              "      <th>정국</th>\n",
              "      <td>80</td>\n",
              "      <td>89</td>\n",
              "      <td>95</td>\n",
              "      <td>90</td>\n",
              "    </tr>\n",
              "    <tr>\n",
              "      <th>슈가</th>\n",
              "      <td>70</td>\n",
              "      <td>95</td>\n",
              "      <td>100</td>\n",
              "      <td>90</td>\n",
              "    </tr>\n",
              "  </tbody>\n",
              "</table>\n",
              "</div>"
            ],
            "text/plain": [
              "    수학  영어   음악   체육\n",
              "지민  90  98   85  100\n",
              "정국  80  89   95   90\n",
              "슈가  70  95  100   90"
            ]
          },
          "metadata": {},
          "execution_count": 40
        }
      ]
    },
    {
      "cell_type": "code",
      "source": [
        "df5"
      ],
      "metadata": {
        "colab": {
          "base_uri": "https://localhost:8080/",
          "height": 143
        },
        "id": "O1AHpESehxQ5",
        "outputId": "ffe1e403-feb7-4bf8-a4c0-70951974984e"
      },
      "execution_count": 41,
      "outputs": [
        {
          "output_type": "execute_result",
          "data": {
            "text/html": [
              "<div>\n",
              "<style scoped>\n",
              "    .dataframe tbody tr th:only-of-type {\n",
              "        vertical-align: middle;\n",
              "    }\n",
              "\n",
              "    .dataframe tbody tr th {\n",
              "        vertical-align: top;\n",
              "    }\n",
              "\n",
              "    .dataframe thead th {\n",
              "        text-align: right;\n",
              "    }\n",
              "</style>\n",
              "<table border=\"1\" class=\"dataframe\">\n",
              "  <thead>\n",
              "    <tr style=\"text-align: right;\">\n",
              "      <th></th>\n",
              "      <th>수학</th>\n",
              "      <th>영어</th>\n",
              "      <th>음악</th>\n",
              "      <th>체육</th>\n",
              "    </tr>\n",
              "  </thead>\n",
              "  <tbody>\n",
              "    <tr>\n",
              "      <th>지민</th>\n",
              "      <td>90</td>\n",
              "      <td>98</td>\n",
              "      <td>85</td>\n",
              "      <td>100</td>\n",
              "    </tr>\n",
              "    <tr>\n",
              "      <th>정국</th>\n",
              "      <td>80</td>\n",
              "      <td>89</td>\n",
              "      <td>95</td>\n",
              "      <td>90</td>\n",
              "    </tr>\n",
              "    <tr>\n",
              "      <th>슈가</th>\n",
              "      <td>70</td>\n",
              "      <td>95</td>\n",
              "      <td>100</td>\n",
              "      <td>90</td>\n",
              "    </tr>\n",
              "  </tbody>\n",
              "</table>\n",
              "</div>"
            ],
            "text/plain": [
              "    수학  영어   음악   체육\n",
              "지민  90  98   85  100\n",
              "정국  80  89   95   90\n",
              "슈가  70  95  100   90"
            ]
          },
          "metadata": {},
          "execution_count": 41
        }
      ]
    },
    {
      "cell_type": "code",
      "source": [
        "math1 = df5['수학']\n",
        "math1"
      ],
      "metadata": {
        "colab": {
          "base_uri": "https://localhost:8080/"
        },
        "id": "cdn3yowCiIGp",
        "outputId": "2eddd2f6-5273-4feb-9fe3-9e028b0da66c"
      },
      "execution_count": 43,
      "outputs": [
        {
          "output_type": "execute_result",
          "data": {
            "text/plain": [
              "지민    90\n",
              "정국    80\n",
              "슈가    70\n",
              "Name: 수학, dtype: int64"
            ]
          },
          "metadata": {},
          "execution_count": 43
        }
      ]
    },
    {
      "cell_type": "code",
      "source": [
        "eng1 = df5.영어\n",
        "eng1"
      ],
      "metadata": {
        "colab": {
          "base_uri": "https://localhost:8080/"
        },
        "id": "oNZPzwrPiOvG",
        "outputId": "0d5f41bb-1065-4664-b903-787ad12e428c"
      },
      "execution_count": 44,
      "outputs": [
        {
          "output_type": "execute_result",
          "data": {
            "text/plain": [
              "지민    98\n",
              "정국    89\n",
              "슈가    95\n",
              "Name: 영어, dtype: int64"
            ]
          },
          "metadata": {},
          "execution_count": 44
        }
      ]
    },
    {
      "cell_type": "code",
      "source": [
        "etc1 = df5[['음악','체육']]\n",
        "etc1"
      ],
      "metadata": {
        "colab": {
          "base_uri": "https://localhost:8080/",
          "height": 143
        },
        "id": "eB9d_oUFiZdh",
        "outputId": "796fca25-f432-4e1e-dcf4-5f44e8c2197f"
      },
      "execution_count": 45,
      "outputs": [
        {
          "output_type": "execute_result",
          "data": {
            "text/html": [
              "<div>\n",
              "<style scoped>\n",
              "    .dataframe tbody tr th:only-of-type {\n",
              "        vertical-align: middle;\n",
              "    }\n",
              "\n",
              "    .dataframe tbody tr th {\n",
              "        vertical-align: top;\n",
              "    }\n",
              "\n",
              "    .dataframe thead th {\n",
              "        text-align: right;\n",
              "    }\n",
              "</style>\n",
              "<table border=\"1\" class=\"dataframe\">\n",
              "  <thead>\n",
              "    <tr style=\"text-align: right;\">\n",
              "      <th></th>\n",
              "      <th>음악</th>\n",
              "      <th>체육</th>\n",
              "    </tr>\n",
              "  </thead>\n",
              "  <tbody>\n",
              "    <tr>\n",
              "      <th>지민</th>\n",
              "      <td>85</td>\n",
              "      <td>100</td>\n",
              "    </tr>\n",
              "    <tr>\n",
              "      <th>정국</th>\n",
              "      <td>95</td>\n",
              "      <td>90</td>\n",
              "    </tr>\n",
              "    <tr>\n",
              "      <th>슈가</th>\n",
              "      <td>100</td>\n",
              "      <td>90</td>\n",
              "    </tr>\n",
              "  </tbody>\n",
              "</table>\n",
              "</div>"
            ],
            "text/plain": [
              "     음악   체육\n",
              "지민   85  100\n",
              "정국   95   90\n",
              "슈가  100   90"
            ]
          },
          "metadata": {},
          "execution_count": 45
        }
      ]
    },
    {
      "cell_type": "code",
      "source": [
        "df5.iloc[ : : 2]     # 0행부터(생략) 끝까지(2행까지) 간격이 2\n",
        "# [0:3:2] = [ : : 2]"
      ],
      "metadata": {
        "colab": {
          "base_uri": "https://localhost:8080/",
          "height": 112
        },
        "id": "ZC0p72rmioYZ",
        "outputId": "f9f4e1cd-025a-458d-a5bc-ffc6c332b682"
      },
      "execution_count": 46,
      "outputs": [
        {
          "output_type": "execute_result",
          "data": {
            "text/html": [
              "<div>\n",
              "<style scoped>\n",
              "    .dataframe tbody tr th:only-of-type {\n",
              "        vertical-align: middle;\n",
              "    }\n",
              "\n",
              "    .dataframe tbody tr th {\n",
              "        vertical-align: top;\n",
              "    }\n",
              "\n",
              "    .dataframe thead th {\n",
              "        text-align: right;\n",
              "    }\n",
              "</style>\n",
              "<table border=\"1\" class=\"dataframe\">\n",
              "  <thead>\n",
              "    <tr style=\"text-align: right;\">\n",
              "      <th></th>\n",
              "      <th>수학</th>\n",
              "      <th>영어</th>\n",
              "      <th>음악</th>\n",
              "      <th>체육</th>\n",
              "    </tr>\n",
              "  </thead>\n",
              "  <tbody>\n",
              "    <tr>\n",
              "      <th>지민</th>\n",
              "      <td>90</td>\n",
              "      <td>98</td>\n",
              "      <td>85</td>\n",
              "      <td>100</td>\n",
              "    </tr>\n",
              "    <tr>\n",
              "      <th>슈가</th>\n",
              "      <td>70</td>\n",
              "      <td>95</td>\n",
              "      <td>100</td>\n",
              "      <td>90</td>\n",
              "    </tr>\n",
              "  </tbody>\n",
              "</table>\n",
              "</div>"
            ],
            "text/plain": [
              "    수학  영어   음악   체육\n",
              "지민  90  98   85  100\n",
              "슈가  70  95  100   90"
            ]
          },
          "metadata": {},
          "execution_count": 46
        }
      ]
    },
    {
      "cell_type": "code",
      "source": [
        "df5.iloc[ : : -1]     #거꾸로 뒤집어라"
      ],
      "metadata": {
        "colab": {
          "base_uri": "https://localhost:8080/",
          "height": 143
        },
        "id": "m82_onNnkSp4",
        "outputId": "930f3172-bced-47b0-c824-77f36e26e894"
      },
      "execution_count": 48,
      "outputs": [
        {
          "output_type": "execute_result",
          "data": {
            "text/html": [
              "<div>\n",
              "<style scoped>\n",
              "    .dataframe tbody tr th:only-of-type {\n",
              "        vertical-align: middle;\n",
              "    }\n",
              "\n",
              "    .dataframe tbody tr th {\n",
              "        vertical-align: top;\n",
              "    }\n",
              "\n",
              "    .dataframe thead th {\n",
              "        text-align: right;\n",
              "    }\n",
              "</style>\n",
              "<table border=\"1\" class=\"dataframe\">\n",
              "  <thead>\n",
              "    <tr style=\"text-align: right;\">\n",
              "      <th></th>\n",
              "      <th>수학</th>\n",
              "      <th>영어</th>\n",
              "      <th>음악</th>\n",
              "      <th>체육</th>\n",
              "    </tr>\n",
              "  </thead>\n",
              "  <tbody>\n",
              "    <tr>\n",
              "      <th>슈가</th>\n",
              "      <td>70</td>\n",
              "      <td>95</td>\n",
              "      <td>100</td>\n",
              "      <td>90</td>\n",
              "    </tr>\n",
              "    <tr>\n",
              "      <th>정국</th>\n",
              "      <td>80</td>\n",
              "      <td>89</td>\n",
              "      <td>95</td>\n",
              "      <td>90</td>\n",
              "    </tr>\n",
              "    <tr>\n",
              "      <th>지민</th>\n",
              "      <td>90</td>\n",
              "      <td>98</td>\n",
              "      <td>85</td>\n",
              "      <td>100</td>\n",
              "    </tr>\n",
              "  </tbody>\n",
              "</table>\n",
              "</div>"
            ],
            "text/plain": [
              "    수학  영어   음악   체육\n",
              "슈가  70  95  100   90\n",
              "정국  80  89   95   90\n",
              "지민  90  98   85  100"
            ]
          },
          "metadata": {},
          "execution_count": 48
        }
      ]
    },
    {
      "cell_type": "code",
      "source": [
        "df5"
      ],
      "metadata": {
        "colab": {
          "base_uri": "https://localhost:8080/",
          "height": 143
        },
        "id": "htdDhS-Rk652",
        "outputId": "fa71587e-4ae7-4dc8-ccd3-339543c3a425"
      },
      "execution_count": 49,
      "outputs": [
        {
          "output_type": "execute_result",
          "data": {
            "text/html": [
              "<div>\n",
              "<style scoped>\n",
              "    .dataframe tbody tr th:only-of-type {\n",
              "        vertical-align: middle;\n",
              "    }\n",
              "\n",
              "    .dataframe tbody tr th {\n",
              "        vertical-align: top;\n",
              "    }\n",
              "\n",
              "    .dataframe thead th {\n",
              "        text-align: right;\n",
              "    }\n",
              "</style>\n",
              "<table border=\"1\" class=\"dataframe\">\n",
              "  <thead>\n",
              "    <tr style=\"text-align: right;\">\n",
              "      <th></th>\n",
              "      <th>수학</th>\n",
              "      <th>영어</th>\n",
              "      <th>음악</th>\n",
              "      <th>체육</th>\n",
              "    </tr>\n",
              "  </thead>\n",
              "  <tbody>\n",
              "    <tr>\n",
              "      <th>지민</th>\n",
              "      <td>90</td>\n",
              "      <td>98</td>\n",
              "      <td>85</td>\n",
              "      <td>100</td>\n",
              "    </tr>\n",
              "    <tr>\n",
              "      <th>정국</th>\n",
              "      <td>80</td>\n",
              "      <td>89</td>\n",
              "      <td>95</td>\n",
              "      <td>90</td>\n",
              "    </tr>\n",
              "    <tr>\n",
              "      <th>슈가</th>\n",
              "      <td>70</td>\n",
              "      <td>95</td>\n",
              "      <td>100</td>\n",
              "      <td>90</td>\n",
              "    </tr>\n",
              "  </tbody>\n",
              "</table>\n",
              "</div>"
            ],
            "text/plain": [
              "    수학  영어   음악   체육\n",
              "지민  90  98   85  100\n",
              "정국  80  89   95   90\n",
              "슈가  70  95  100   90"
            ]
          },
          "metadata": {},
          "execution_count": 49
        }
      ]
    },
    {
      "cell_type": "code",
      "source": [
        "df['국어'] = 80\n",
        "df"
      ],
      "metadata": {
        "colab": {
          "base_uri": "https://localhost:8080/",
          "height": 143
        },
        "id": "3Vz91i8clP9u",
        "outputId": "bd96b5ba-0dfd-4245-fbec-0235d3a949d3"
      },
      "execution_count": 52,
      "outputs": [
        {
          "output_type": "execute_result",
          "data": {
            "text/html": [
              "<div>\n",
              "<style scoped>\n",
              "    .dataframe tbody tr th:only-of-type {\n",
              "        vertical-align: middle;\n",
              "    }\n",
              "\n",
              "    .dataframe tbody tr th {\n",
              "        vertical-align: top;\n",
              "    }\n",
              "\n",
              "    .dataframe thead th {\n",
              "        text-align: right;\n",
              "    }\n",
              "</style>\n",
              "<table border=\"1\" class=\"dataframe\">\n",
              "  <thead>\n",
              "    <tr style=\"text-align: right;\">\n",
              "      <th></th>\n",
              "      <th>수학</th>\n",
              "      <th>영어</th>\n",
              "      <th>음악</th>\n",
              "      <th>체육</th>\n",
              "      <th>국어</th>\n",
              "    </tr>\n",
              "  </thead>\n",
              "  <tbody>\n",
              "    <tr>\n",
              "      <th>지민</th>\n",
              "      <td>90</td>\n",
              "      <td>98</td>\n",
              "      <td>85</td>\n",
              "      <td>100</td>\n",
              "      <td>80</td>\n",
              "    </tr>\n",
              "    <tr>\n",
              "      <th>정국</th>\n",
              "      <td>80</td>\n",
              "      <td>89</td>\n",
              "      <td>95</td>\n",
              "      <td>90</td>\n",
              "      <td>80</td>\n",
              "    </tr>\n",
              "    <tr>\n",
              "      <th>슈가</th>\n",
              "      <td>70</td>\n",
              "      <td>95</td>\n",
              "      <td>100</td>\n",
              "      <td>90</td>\n",
              "      <td>80</td>\n",
              "    </tr>\n",
              "  </tbody>\n",
              "</table>\n",
              "</div>"
            ],
            "text/plain": [
              "    수학  영어   음악   체육  국어\n",
              "지민  90  98   85  100  80\n",
              "정국  80  89   95   90  80\n",
              "슈가  70  95  100   90  80"
            ]
          },
          "metadata": {},
          "execution_count": 52
        }
      ]
    },
    {
      "cell_type": "code",
      "source": [
        "df.loc[3] = 0\n",
        "df"
      ],
      "metadata": {
        "colab": {
          "base_uri": "https://localhost:8080/",
          "height": 175
        },
        "id": "OqohlKevlmrG",
        "outputId": "2209eec9-2f71-4d43-c569-fd9eeb354003"
      },
      "execution_count": 54,
      "outputs": [
        {
          "output_type": "execute_result",
          "data": {
            "text/html": [
              "<div>\n",
              "<style scoped>\n",
              "    .dataframe tbody tr th:only-of-type {\n",
              "        vertical-align: middle;\n",
              "    }\n",
              "\n",
              "    .dataframe tbody tr th {\n",
              "        vertical-align: top;\n",
              "    }\n",
              "\n",
              "    .dataframe thead th {\n",
              "        text-align: right;\n",
              "    }\n",
              "</style>\n",
              "<table border=\"1\" class=\"dataframe\">\n",
              "  <thead>\n",
              "    <tr style=\"text-align: right;\">\n",
              "      <th></th>\n",
              "      <th>수학</th>\n",
              "      <th>영어</th>\n",
              "      <th>음악</th>\n",
              "      <th>체육</th>\n",
              "      <th>국어</th>\n",
              "    </tr>\n",
              "  </thead>\n",
              "  <tbody>\n",
              "    <tr>\n",
              "      <th>지민</th>\n",
              "      <td>90</td>\n",
              "      <td>98</td>\n",
              "      <td>85</td>\n",
              "      <td>100</td>\n",
              "      <td>80</td>\n",
              "    </tr>\n",
              "    <tr>\n",
              "      <th>정국</th>\n",
              "      <td>80</td>\n",
              "      <td>89</td>\n",
              "      <td>95</td>\n",
              "      <td>90</td>\n",
              "      <td>80</td>\n",
              "    </tr>\n",
              "    <tr>\n",
              "      <th>슈가</th>\n",
              "      <td>70</td>\n",
              "      <td>95</td>\n",
              "      <td>100</td>\n",
              "      <td>90</td>\n",
              "      <td>80</td>\n",
              "    </tr>\n",
              "    <tr>\n",
              "      <th>3</th>\n",
              "      <td>0</td>\n",
              "      <td>0</td>\n",
              "      <td>0</td>\n",
              "      <td>0</td>\n",
              "      <td>0</td>\n",
              "    </tr>\n",
              "  </tbody>\n",
              "</table>\n",
              "</div>"
            ],
            "text/plain": [
              "    수학  영어   음악   체육  국어\n",
              "지민  90  98   85  100  80\n",
              "정국  80  89   95   90  80\n",
              "슈가  70  95  100   90  80\n",
              "3    0   0    0    0   0"
            ]
          },
          "metadata": {},
          "execution_count": 54
        }
      ]
    },
    {
      "cell_type": "code",
      "source": [
        "df.loc['뷔'] = [90, 80, 99, 100, 90]\n",
        "df"
      ],
      "metadata": {
        "colab": {
          "base_uri": "https://localhost:8080/",
          "height": 237
        },
        "id": "Wo5mhSLgnjBP",
        "outputId": "5bc04a8c-b89c-47d9-a8a4-5e0360be3aef"
      },
      "execution_count": 58,
      "outputs": [
        {
          "output_type": "execute_result",
          "data": {
            "text/html": [
              "<div>\n",
              "<style scoped>\n",
              "    .dataframe tbody tr th:only-of-type {\n",
              "        vertical-align: middle;\n",
              "    }\n",
              "\n",
              "    .dataframe tbody tr th {\n",
              "        vertical-align: top;\n",
              "    }\n",
              "\n",
              "    .dataframe thead th {\n",
              "        text-align: right;\n",
              "    }\n",
              "</style>\n",
              "<table border=\"1\" class=\"dataframe\">\n",
              "  <thead>\n",
              "    <tr style=\"text-align: right;\">\n",
              "      <th></th>\n",
              "      <th>수학</th>\n",
              "      <th>영어</th>\n",
              "      <th>음악</th>\n",
              "      <th>체육</th>\n",
              "      <th>국어</th>\n",
              "    </tr>\n",
              "  </thead>\n",
              "  <tbody>\n",
              "    <tr>\n",
              "      <th>지민</th>\n",
              "      <td>90</td>\n",
              "      <td>98</td>\n",
              "      <td>85</td>\n",
              "      <td>100</td>\n",
              "      <td>80</td>\n",
              "    </tr>\n",
              "    <tr>\n",
              "      <th>정국</th>\n",
              "      <td>80</td>\n",
              "      <td>89</td>\n",
              "      <td>95</td>\n",
              "      <td>90</td>\n",
              "      <td>80</td>\n",
              "    </tr>\n",
              "    <tr>\n",
              "      <th>슈가</th>\n",
              "      <td>70</td>\n",
              "      <td>95</td>\n",
              "      <td>100</td>\n",
              "      <td>90</td>\n",
              "      <td>80</td>\n",
              "    </tr>\n",
              "    <tr>\n",
              "      <th>3</th>\n",
              "      <td>0</td>\n",
              "      <td>0</td>\n",
              "      <td>0</td>\n",
              "      <td>0</td>\n",
              "      <td>0</td>\n",
              "    </tr>\n",
              "    <tr>\n",
              "      <th>4</th>\n",
              "      <td>뷔</td>\n",
              "      <td>90</td>\n",
              "      <td>80</td>\n",
              "      <td>99</td>\n",
              "      <td>100</td>\n",
              "    </tr>\n",
              "    <tr>\n",
              "      <th>뷔</th>\n",
              "      <td>90</td>\n",
              "      <td>80</td>\n",
              "      <td>99</td>\n",
              "      <td>100</td>\n",
              "      <td>90</td>\n",
              "    </tr>\n",
              "  </tbody>\n",
              "</table>\n",
              "</div>"
            ],
            "text/plain": [
              "    수학  영어   음악   체육   국어\n",
              "지민  90  98   85  100   80\n",
              "정국  80  89   95   90   80\n",
              "슈가  70  95  100   90   80\n",
              "3    0   0    0    0    0\n",
              "4    뷔  90   80   99  100\n",
              "뷔   90  80   99  100   90"
            ]
          },
          "metadata": {},
          "execution_count": 58
        }
      ]
    },
    {
      "cell_type": "code",
      "source": [
        "df1  = pd.read_csv('read_csv_sample.csv')\n",
        "df1"
      ],
      "metadata": {
        "colab": {
          "base_uri": "https://localhost:8080/",
          "height": 143
        },
        "id": "-9VebW_Hnwr3",
        "outputId": "1d9b7a03-760b-4156-c49a-8dedf48c1347"
      },
      "execution_count": 59,
      "outputs": [
        {
          "output_type": "execute_result",
          "data": {
            "text/html": [
              "<div>\n",
              "<style scoped>\n",
              "    .dataframe tbody tr th:only-of-type {\n",
              "        vertical-align: middle;\n",
              "    }\n",
              "\n",
              "    .dataframe tbody tr th {\n",
              "        vertical-align: top;\n",
              "    }\n",
              "\n",
              "    .dataframe thead th {\n",
              "        text-align: right;\n",
              "    }\n",
              "</style>\n",
              "<table border=\"1\" class=\"dataframe\">\n",
              "  <thead>\n",
              "    <tr style=\"text-align: right;\">\n",
              "      <th></th>\n",
              "      <th>c0</th>\n",
              "      <th>c1</th>\n",
              "      <th>c2</th>\n",
              "      <th>c3</th>\n",
              "    </tr>\n",
              "  </thead>\n",
              "  <tbody>\n",
              "    <tr>\n",
              "      <th>0</th>\n",
              "      <td>0</td>\n",
              "      <td>1</td>\n",
              "      <td>4</td>\n",
              "      <td>7</td>\n",
              "    </tr>\n",
              "    <tr>\n",
              "      <th>1</th>\n",
              "      <td>1</td>\n",
              "      <td>2</td>\n",
              "      <td>5</td>\n",
              "      <td>8</td>\n",
              "    </tr>\n",
              "    <tr>\n",
              "      <th>2</th>\n",
              "      <td>2</td>\n",
              "      <td>3</td>\n",
              "      <td>6</td>\n",
              "      <td>9</td>\n",
              "    </tr>\n",
              "  </tbody>\n",
              "</table>\n",
              "</div>"
            ],
            "text/plain": [
              "   c0  c1  c2  c3\n",
              "0   0   1   4   7\n",
              "1   1   2   5   8\n",
              "2   2   3   6   9"
            ]
          },
          "metadata": {},
          "execution_count": 59
        }
      ]
    },
    {
      "cell_type": "code",
      "source": [
        "type(df1)     #pandas는 데이터프레임의 기본"
      ],
      "metadata": {
        "colab": {
          "base_uri": "https://localhost:8080/"
        },
        "id": "NYca5XlQpm7q",
        "outputId": "908e4229-bd22-45d1-ba73-9afb0e86db0d"
      },
      "execution_count": 60,
      "outputs": [
        {
          "output_type": "execute_result",
          "data": {
            "text/plain": [
              "pandas.core.frame.DataFrame"
            ]
          },
          "metadata": {},
          "execution_count": 60
        }
      ]
    },
    {
      "cell_type": "code",
      "source": [
        "df2 = pd.read_excel('df_sample.xlsx')\n",
        "df2"
      ],
      "metadata": {
        "colab": {
          "base_uri": "https://localhost:8080/",
          "height": 143
        },
        "id": "C5plh22tpqlJ",
        "outputId": "d4c05c7c-d085-4731-baab-2813c1bbd729"
      },
      "execution_count": 61,
      "outputs": [
        {
          "output_type": "execute_result",
          "data": {
            "text/html": [
              "<div>\n",
              "<style scoped>\n",
              "    .dataframe tbody tr th:only-of-type {\n",
              "        vertical-align: middle;\n",
              "    }\n",
              "\n",
              "    .dataframe tbody tr th {\n",
              "        vertical-align: top;\n",
              "    }\n",
              "\n",
              "    .dataframe thead th {\n",
              "        text-align: right;\n",
              "    }\n",
              "</style>\n",
              "<table border=\"1\" class=\"dataframe\">\n",
              "  <thead>\n",
              "    <tr style=\"text-align: right;\">\n",
              "      <th></th>\n",
              "      <th>name</th>\n",
              "      <th>algol</th>\n",
              "      <th>basic</th>\n",
              "      <th>c++</th>\n",
              "    </tr>\n",
              "  </thead>\n",
              "  <tbody>\n",
              "    <tr>\n",
              "      <th>0</th>\n",
              "      <td>Jerry</td>\n",
              "      <td>A</td>\n",
              "      <td>C</td>\n",
              "      <td>B+</td>\n",
              "    </tr>\n",
              "    <tr>\n",
              "      <th>1</th>\n",
              "      <td>Riah</td>\n",
              "      <td>A+</td>\n",
              "      <td>B</td>\n",
              "      <td>C</td>\n",
              "    </tr>\n",
              "    <tr>\n",
              "      <th>2</th>\n",
              "      <td>Paul</td>\n",
              "      <td>B</td>\n",
              "      <td>B+</td>\n",
              "      <td>C+</td>\n",
              "    </tr>\n",
              "  </tbody>\n",
              "</table>\n",
              "</div>"
            ],
            "text/plain": [
              "    name algol basic c++\n",
              "0  Jerry     A     C  B+\n",
              "1   Riah    A+     B   C\n",
              "2   Paul     B    B+  C+"
            ]
          },
          "metadata": {},
          "execution_count": 61
        }
      ]
    },
    {
      "cell_type": "code",
      "source": [
        "df3 = pd.read_excel('남북한발전전력량.xlsx')\n",
        "df3"
      ],
      "metadata": {
        "colab": {
          "base_uri": "https://localhost:8080/",
          "height": 629
        },
        "id": "l9R-M8ULrRQL",
        "outputId": "db1cd247-b5a0-4c87-ec71-eecd3c4f5aea"
      },
      "execution_count": 62,
      "outputs": [
        {
          "output_type": "execute_result",
          "data": {
            "text/html": [
              "<div>\n",
              "<style scoped>\n",
              "    .dataframe tbody tr th:only-of-type {\n",
              "        vertical-align: middle;\n",
              "    }\n",
              "\n",
              "    .dataframe tbody tr th {\n",
              "        vertical-align: top;\n",
              "    }\n",
              "\n",
              "    .dataframe thead th {\n",
              "        text-align: right;\n",
              "    }\n",
              "</style>\n",
              "<table border=\"1\" class=\"dataframe\">\n",
              "  <thead>\n",
              "    <tr style=\"text-align: right;\">\n",
              "      <th></th>\n",
              "      <th>전력량 (억㎾h)</th>\n",
              "      <th>발전 전력별</th>\n",
              "      <th>1990</th>\n",
              "      <th>1991</th>\n",
              "      <th>1992</th>\n",
              "      <th>1993</th>\n",
              "      <th>1994</th>\n",
              "      <th>1995</th>\n",
              "      <th>1996</th>\n",
              "      <th>1997</th>\n",
              "      <th>1998</th>\n",
              "      <th>1999</th>\n",
              "      <th>2000</th>\n",
              "      <th>2001</th>\n",
              "      <th>2002</th>\n",
              "      <th>2003</th>\n",
              "      <th>2004</th>\n",
              "      <th>2005</th>\n",
              "      <th>2006</th>\n",
              "      <th>2007</th>\n",
              "      <th>2008</th>\n",
              "      <th>2009</th>\n",
              "      <th>2010</th>\n",
              "      <th>2011</th>\n",
              "      <th>2012</th>\n",
              "      <th>2013</th>\n",
              "      <th>2014</th>\n",
              "      <th>2015</th>\n",
              "      <th>2016</th>\n",
              "    </tr>\n",
              "  </thead>\n",
              "  <tbody>\n",
              "    <tr>\n",
              "      <th>0</th>\n",
              "      <td>남한</td>\n",
              "      <td>합계</td>\n",
              "      <td>1077</td>\n",
              "      <td>1186</td>\n",
              "      <td>1310</td>\n",
              "      <td>1444</td>\n",
              "      <td>1650</td>\n",
              "      <td>1847</td>\n",
              "      <td>2055</td>\n",
              "      <td>2244</td>\n",
              "      <td>2153</td>\n",
              "      <td>2393</td>\n",
              "      <td>2664</td>\n",
              "      <td>2852</td>\n",
              "      <td>3065</td>\n",
              "      <td>3225</td>\n",
              "      <td>3421</td>\n",
              "      <td>3646</td>\n",
              "      <td>3812</td>\n",
              "      <td>4031</td>\n",
              "      <td>4224</td>\n",
              "      <td>4336</td>\n",
              "      <td>4747</td>\n",
              "      <td>4969</td>\n",
              "      <td>5096</td>\n",
              "      <td>5171</td>\n",
              "      <td>5220</td>\n",
              "      <td>5281</td>\n",
              "      <td>5404</td>\n",
              "    </tr>\n",
              "    <tr>\n",
              "      <th>1</th>\n",
              "      <td>NaN</td>\n",
              "      <td>수력</td>\n",
              "      <td>64</td>\n",
              "      <td>51</td>\n",
              "      <td>49</td>\n",
              "      <td>60</td>\n",
              "      <td>41</td>\n",
              "      <td>55</td>\n",
              "      <td>52</td>\n",
              "      <td>54</td>\n",
              "      <td>61</td>\n",
              "      <td>61</td>\n",
              "      <td>56</td>\n",
              "      <td>42</td>\n",
              "      <td>53</td>\n",
              "      <td>69</td>\n",
              "      <td>59</td>\n",
              "      <td>52</td>\n",
              "      <td>52</td>\n",
              "      <td>50</td>\n",
              "      <td>56</td>\n",
              "      <td>56</td>\n",
              "      <td>65</td>\n",
              "      <td>78</td>\n",
              "      <td>77</td>\n",
              "      <td>84</td>\n",
              "      <td>78</td>\n",
              "      <td>58</td>\n",
              "      <td>66</td>\n",
              "    </tr>\n",
              "    <tr>\n",
              "      <th>2</th>\n",
              "      <td>NaN</td>\n",
              "      <td>화력</td>\n",
              "      <td>484</td>\n",
              "      <td>573</td>\n",
              "      <td>696</td>\n",
              "      <td>803</td>\n",
              "      <td>1022</td>\n",
              "      <td>1122</td>\n",
              "      <td>1264</td>\n",
              "      <td>1420</td>\n",
              "      <td>1195</td>\n",
              "      <td>1302</td>\n",
              "      <td>1518</td>\n",
              "      <td>1689</td>\n",
              "      <td>1821</td>\n",
              "      <td>1859</td>\n",
              "      <td>2056</td>\n",
              "      <td>2127</td>\n",
              "      <td>2272</td>\n",
              "      <td>2551</td>\n",
              "      <td>2658</td>\n",
              "      <td>2802</td>\n",
              "      <td>3196</td>\n",
              "      <td>3343</td>\n",
              "      <td>3430</td>\n",
              "      <td>3581</td>\n",
              "      <td>3427</td>\n",
              "      <td>3402</td>\n",
              "      <td>3523</td>\n",
              "    </tr>\n",
              "    <tr>\n",
              "      <th>3</th>\n",
              "      <td>NaN</td>\n",
              "      <td>원자력</td>\n",
              "      <td>529</td>\n",
              "      <td>563</td>\n",
              "      <td>565</td>\n",
              "      <td>581</td>\n",
              "      <td>587</td>\n",
              "      <td>670</td>\n",
              "      <td>739</td>\n",
              "      <td>771</td>\n",
              "      <td>897</td>\n",
              "      <td>1031</td>\n",
              "      <td>1090</td>\n",
              "      <td>1121</td>\n",
              "      <td>1191</td>\n",
              "      <td>1297</td>\n",
              "      <td>1307</td>\n",
              "      <td>1468</td>\n",
              "      <td>1487</td>\n",
              "      <td>1429</td>\n",
              "      <td>1510</td>\n",
              "      <td>1478</td>\n",
              "      <td>1486</td>\n",
              "      <td>1547</td>\n",
              "      <td>1503</td>\n",
              "      <td>1388</td>\n",
              "      <td>1564</td>\n",
              "      <td>1648</td>\n",
              "      <td>1620</td>\n",
              "    </tr>\n",
              "    <tr>\n",
              "      <th>4</th>\n",
              "      <td>NaN</td>\n",
              "      <td>신재생</td>\n",
              "      <td>-</td>\n",
              "      <td>-</td>\n",
              "      <td>-</td>\n",
              "      <td>-</td>\n",
              "      <td>-</td>\n",
              "      <td>-</td>\n",
              "      <td>-</td>\n",
              "      <td>-</td>\n",
              "      <td>-</td>\n",
              "      <td>-</td>\n",
              "      <td>-</td>\n",
              "      <td>-</td>\n",
              "      <td>-</td>\n",
              "      <td>-</td>\n",
              "      <td>-</td>\n",
              "      <td>-</td>\n",
              "      <td>-</td>\n",
              "      <td>-</td>\n",
              "      <td>-</td>\n",
              "      <td>-</td>\n",
              "      <td>-</td>\n",
              "      <td>-</td>\n",
              "      <td>86</td>\n",
              "      <td>118</td>\n",
              "      <td>151</td>\n",
              "      <td>173</td>\n",
              "      <td>195</td>\n",
              "    </tr>\n",
              "    <tr>\n",
              "      <th>5</th>\n",
              "      <td>북한</td>\n",
              "      <td>합계</td>\n",
              "      <td>277</td>\n",
              "      <td>263</td>\n",
              "      <td>247</td>\n",
              "      <td>221</td>\n",
              "      <td>231</td>\n",
              "      <td>230</td>\n",
              "      <td>213</td>\n",
              "      <td>193</td>\n",
              "      <td>170</td>\n",
              "      <td>186</td>\n",
              "      <td>194</td>\n",
              "      <td>202</td>\n",
              "      <td>190</td>\n",
              "      <td>196</td>\n",
              "      <td>206</td>\n",
              "      <td>215</td>\n",
              "      <td>225</td>\n",
              "      <td>236</td>\n",
              "      <td>255</td>\n",
              "      <td>235</td>\n",
              "      <td>237</td>\n",
              "      <td>211</td>\n",
              "      <td>215</td>\n",
              "      <td>221</td>\n",
              "      <td>216</td>\n",
              "      <td>190</td>\n",
              "      <td>239</td>\n",
              "    </tr>\n",
              "    <tr>\n",
              "      <th>6</th>\n",
              "      <td>NaN</td>\n",
              "      <td>수력</td>\n",
              "      <td>156</td>\n",
              "      <td>150</td>\n",
              "      <td>142</td>\n",
              "      <td>133</td>\n",
              "      <td>138</td>\n",
              "      <td>142</td>\n",
              "      <td>125</td>\n",
              "      <td>107</td>\n",
              "      <td>102</td>\n",
              "      <td>103</td>\n",
              "      <td>102</td>\n",
              "      <td>106</td>\n",
              "      <td>106</td>\n",
              "      <td>117</td>\n",
              "      <td>125</td>\n",
              "      <td>131</td>\n",
              "      <td>126</td>\n",
              "      <td>133</td>\n",
              "      <td>141</td>\n",
              "      <td>125</td>\n",
              "      <td>134</td>\n",
              "      <td>132</td>\n",
              "      <td>135</td>\n",
              "      <td>139</td>\n",
              "      <td>130</td>\n",
              "      <td>100</td>\n",
              "      <td>128</td>\n",
              "    </tr>\n",
              "    <tr>\n",
              "      <th>7</th>\n",
              "      <td>NaN</td>\n",
              "      <td>화력</td>\n",
              "      <td>121</td>\n",
              "      <td>113</td>\n",
              "      <td>105</td>\n",
              "      <td>88</td>\n",
              "      <td>93</td>\n",
              "      <td>88</td>\n",
              "      <td>88</td>\n",
              "      <td>86</td>\n",
              "      <td>68</td>\n",
              "      <td>83</td>\n",
              "      <td>92</td>\n",
              "      <td>96</td>\n",
              "      <td>84</td>\n",
              "      <td>79</td>\n",
              "      <td>81</td>\n",
              "      <td>84</td>\n",
              "      <td>99</td>\n",
              "      <td>103</td>\n",
              "      <td>114</td>\n",
              "      <td>110</td>\n",
              "      <td>103</td>\n",
              "      <td>79</td>\n",
              "      <td>80</td>\n",
              "      <td>82</td>\n",
              "      <td>86</td>\n",
              "      <td>90</td>\n",
              "      <td>111</td>\n",
              "    </tr>\n",
              "    <tr>\n",
              "      <th>8</th>\n",
              "      <td>NaN</td>\n",
              "      <td>원자력</td>\n",
              "      <td>-</td>\n",
              "      <td>-</td>\n",
              "      <td>-</td>\n",
              "      <td>-</td>\n",
              "      <td>-</td>\n",
              "      <td>-</td>\n",
              "      <td>-</td>\n",
              "      <td>-</td>\n",
              "      <td>-</td>\n",
              "      <td>-</td>\n",
              "      <td>-</td>\n",
              "      <td>-</td>\n",
              "      <td>-</td>\n",
              "      <td>-</td>\n",
              "      <td>-</td>\n",
              "      <td>-</td>\n",
              "      <td>-</td>\n",
              "      <td>-</td>\n",
              "      <td>-</td>\n",
              "      <td>-</td>\n",
              "      <td>-</td>\n",
              "      <td>-</td>\n",
              "      <td>-</td>\n",
              "      <td>-</td>\n",
              "      <td>-</td>\n",
              "      <td>-</td>\n",
              "      <td>-</td>\n",
              "    </tr>\n",
              "  </tbody>\n",
              "</table>\n",
              "</div>"
            ],
            "text/plain": [
              "  전력량 (억㎾h) 발전 전력별  1990  1991  1992  1993  ...  2011  2012  2013  2014  2015  2016\n",
              "0        남한     합계  1077  1186  1310  1444  ...  4969  5096  5171  5220  5281  5404\n",
              "1       NaN     수력    64    51    49    60  ...    78    77    84    78    58    66\n",
              "2       NaN     화력   484   573   696   803  ...  3343  3430  3581  3427  3402  3523\n",
              "3       NaN    원자력   529   563   565   581  ...  1547  1503  1388  1564  1648  1620\n",
              "4       NaN    신재생     -     -     -     -  ...     -    86   118   151   173   195\n",
              "5        북한     합계   277   263   247   221  ...   211   215   221   216   190   239\n",
              "6       NaN     수력   156   150   142   133  ...   132   135   139   130   100   128\n",
              "7       NaN     화력   121   113   105    88  ...    79    80    82    86    90   111\n",
              "8       NaN    원자력     -     -     -     -  ...     -     -     -     -     -     -\n",
              "\n",
              "[9 rows x 29 columns]"
            ]
          },
          "metadata": {},
          "execution_count": 62
        }
      ]
    },
    {
      "cell_type": "code",
      "source": [
        "df"
      ],
      "metadata": {
        "colab": {
          "base_uri": "https://localhost:8080/",
          "height": 237
        },
        "id": "_jx-Uou2rgh_",
        "outputId": "29a5ec83-c233-4bd5-c974-994db140d3d1"
      },
      "execution_count": 63,
      "outputs": [
        {
          "output_type": "execute_result",
          "data": {
            "text/html": [
              "<div>\n",
              "<style scoped>\n",
              "    .dataframe tbody tr th:only-of-type {\n",
              "        vertical-align: middle;\n",
              "    }\n",
              "\n",
              "    .dataframe tbody tr th {\n",
              "        vertical-align: top;\n",
              "    }\n",
              "\n",
              "    .dataframe thead th {\n",
              "        text-align: right;\n",
              "    }\n",
              "</style>\n",
              "<table border=\"1\" class=\"dataframe\">\n",
              "  <thead>\n",
              "    <tr style=\"text-align: right;\">\n",
              "      <th></th>\n",
              "      <th>수학</th>\n",
              "      <th>영어</th>\n",
              "      <th>음악</th>\n",
              "      <th>체육</th>\n",
              "      <th>국어</th>\n",
              "    </tr>\n",
              "  </thead>\n",
              "  <tbody>\n",
              "    <tr>\n",
              "      <th>지민</th>\n",
              "      <td>90</td>\n",
              "      <td>98</td>\n",
              "      <td>85</td>\n",
              "      <td>100</td>\n",
              "      <td>80</td>\n",
              "    </tr>\n",
              "    <tr>\n",
              "      <th>정국</th>\n",
              "      <td>80</td>\n",
              "      <td>89</td>\n",
              "      <td>95</td>\n",
              "      <td>90</td>\n",
              "      <td>80</td>\n",
              "    </tr>\n",
              "    <tr>\n",
              "      <th>슈가</th>\n",
              "      <td>70</td>\n",
              "      <td>95</td>\n",
              "      <td>100</td>\n",
              "      <td>90</td>\n",
              "      <td>80</td>\n",
              "    </tr>\n",
              "    <tr>\n",
              "      <th>3</th>\n",
              "      <td>0</td>\n",
              "      <td>0</td>\n",
              "      <td>0</td>\n",
              "      <td>0</td>\n",
              "      <td>0</td>\n",
              "    </tr>\n",
              "    <tr>\n",
              "      <th>4</th>\n",
              "      <td>뷔</td>\n",
              "      <td>90</td>\n",
              "      <td>80</td>\n",
              "      <td>99</td>\n",
              "      <td>100</td>\n",
              "    </tr>\n",
              "    <tr>\n",
              "      <th>뷔</th>\n",
              "      <td>90</td>\n",
              "      <td>80</td>\n",
              "      <td>99</td>\n",
              "      <td>100</td>\n",
              "      <td>90</td>\n",
              "    </tr>\n",
              "  </tbody>\n",
              "</table>\n",
              "</div>"
            ],
            "text/plain": [
              "    수학  영어   음악   체육   국어\n",
              "지민  90  98   85  100   80\n",
              "정국  80  89   95   90   80\n",
              "슈가  70  95  100   90   80\n",
              "3    0   0    0    0    0\n",
              "4    뷔  90   80   99  100\n",
              "뷔   90  80   99  100   90"
            ]
          },
          "metadata": {},
          "execution_count": 63
        }
      ]
    },
    {
      "cell_type": "code",
      "source": [
        "df.to_csv('bts.csv')"
      ],
      "metadata": {
        "id": "zhekmn63sBOq"
      },
      "execution_count": 64,
      "outputs": []
    },
    {
      "cell_type": "code",
      "source": [
        "df.to_excel('bts.xlsx')"
      ],
      "metadata": {
        "id": "kFiq7d1ysNRA"
      },
      "execution_count": 65,
      "outputs": []
    },
    {
      "cell_type": "code",
      "source": [
        "df = pd.read_csv('auto-mpg.csv')"
      ],
      "metadata": {
        "id": "kMvNdp4Gu1PM"
      },
      "execution_count": 83,
      "outputs": []
    },
    {
      "cell_type": "code",
      "source": [
        "df = pd.read_csv('auto-mpg.csv', header=None)\n",
        "\n",
        "df.columns = ['mpg','cylinder','displ','horsepower','weight','acce','year','origin','name']\n",
        "df\n",
        "\n",
        "# 'mpg', 연비\n",
        "# 'cylinder', 실린더 수\n",
        "# 'displ', 배기량\n",
        "# 'horsepower', 출력\n",
        "# 'weight', 차중\n",
        "# 'acce', 가속\n",
        "# 'year',출시년\n",
        "# 'origin'제조국  1- usa 2-eu 3-jpn\n",
        "# ,'name' 모델명"
      ],
      "metadata": {
        "colab": {
          "base_uri": "https://localhost:8080/",
          "height": 423
        },
        "id": "W5ALSyWo0uIn",
        "outputId": "5ebdc090-b61a-4366-f3f4-4f2a204e14f5"
      },
      "execution_count": 84,
      "outputs": [
        {
          "output_type": "execute_result",
          "data": {
            "text/html": [
              "<div>\n",
              "<style scoped>\n",
              "    .dataframe tbody tr th:only-of-type {\n",
              "        vertical-align: middle;\n",
              "    }\n",
              "\n",
              "    .dataframe tbody tr th {\n",
              "        vertical-align: top;\n",
              "    }\n",
              "\n",
              "    .dataframe thead th {\n",
              "        text-align: right;\n",
              "    }\n",
              "</style>\n",
              "<table border=\"1\" class=\"dataframe\">\n",
              "  <thead>\n",
              "    <tr style=\"text-align: right;\">\n",
              "      <th></th>\n",
              "      <th>mpg</th>\n",
              "      <th>cylinder</th>\n",
              "      <th>displ</th>\n",
              "      <th>horsepower</th>\n",
              "      <th>weight</th>\n",
              "      <th>acce</th>\n",
              "      <th>year</th>\n",
              "      <th>origin</th>\n",
              "      <th>name</th>\n",
              "    </tr>\n",
              "  </thead>\n",
              "  <tbody>\n",
              "    <tr>\n",
              "      <th>0</th>\n",
              "      <td>18.0</td>\n",
              "      <td>8</td>\n",
              "      <td>307.0</td>\n",
              "      <td>130.0</td>\n",
              "      <td>3504.0</td>\n",
              "      <td>12.0</td>\n",
              "      <td>70</td>\n",
              "      <td>1</td>\n",
              "      <td>chevrolet chevelle malibu</td>\n",
              "    </tr>\n",
              "    <tr>\n",
              "      <th>1</th>\n",
              "      <td>15.0</td>\n",
              "      <td>8</td>\n",
              "      <td>350.0</td>\n",
              "      <td>165.0</td>\n",
              "      <td>3693.0</td>\n",
              "      <td>11.5</td>\n",
              "      <td>70</td>\n",
              "      <td>1</td>\n",
              "      <td>buick skylark 320</td>\n",
              "    </tr>\n",
              "    <tr>\n",
              "      <th>2</th>\n",
              "      <td>18.0</td>\n",
              "      <td>8</td>\n",
              "      <td>318.0</td>\n",
              "      <td>150.0</td>\n",
              "      <td>3436.0</td>\n",
              "      <td>11.0</td>\n",
              "      <td>70</td>\n",
              "      <td>1</td>\n",
              "      <td>plymouth satellite</td>\n",
              "    </tr>\n",
              "    <tr>\n",
              "      <th>3</th>\n",
              "      <td>16.0</td>\n",
              "      <td>8</td>\n",
              "      <td>304.0</td>\n",
              "      <td>150.0</td>\n",
              "      <td>3433.0</td>\n",
              "      <td>12.0</td>\n",
              "      <td>70</td>\n",
              "      <td>1</td>\n",
              "      <td>amc rebel sst</td>\n",
              "    </tr>\n",
              "    <tr>\n",
              "      <th>4</th>\n",
              "      <td>17.0</td>\n",
              "      <td>8</td>\n",
              "      <td>302.0</td>\n",
              "      <td>140.0</td>\n",
              "      <td>3449.0</td>\n",
              "      <td>10.5</td>\n",
              "      <td>70</td>\n",
              "      <td>1</td>\n",
              "      <td>ford torino</td>\n",
              "    </tr>\n",
              "    <tr>\n",
              "      <th>...</th>\n",
              "      <td>...</td>\n",
              "      <td>...</td>\n",
              "      <td>...</td>\n",
              "      <td>...</td>\n",
              "      <td>...</td>\n",
              "      <td>...</td>\n",
              "      <td>...</td>\n",
              "      <td>...</td>\n",
              "      <td>...</td>\n",
              "    </tr>\n",
              "    <tr>\n",
              "      <th>393</th>\n",
              "      <td>27.0</td>\n",
              "      <td>4</td>\n",
              "      <td>140.0</td>\n",
              "      <td>86.00</td>\n",
              "      <td>2790.0</td>\n",
              "      <td>15.6</td>\n",
              "      <td>82</td>\n",
              "      <td>1</td>\n",
              "      <td>ford mustang gl</td>\n",
              "    </tr>\n",
              "    <tr>\n",
              "      <th>394</th>\n",
              "      <td>44.0</td>\n",
              "      <td>4</td>\n",
              "      <td>97.0</td>\n",
              "      <td>52.00</td>\n",
              "      <td>2130.0</td>\n",
              "      <td>24.6</td>\n",
              "      <td>82</td>\n",
              "      <td>2</td>\n",
              "      <td>vw pickup</td>\n",
              "    </tr>\n",
              "    <tr>\n",
              "      <th>395</th>\n",
              "      <td>32.0</td>\n",
              "      <td>4</td>\n",
              "      <td>135.0</td>\n",
              "      <td>84.00</td>\n",
              "      <td>2295.0</td>\n",
              "      <td>11.6</td>\n",
              "      <td>82</td>\n",
              "      <td>1</td>\n",
              "      <td>dodge rampage</td>\n",
              "    </tr>\n",
              "    <tr>\n",
              "      <th>396</th>\n",
              "      <td>28.0</td>\n",
              "      <td>4</td>\n",
              "      <td>120.0</td>\n",
              "      <td>79.00</td>\n",
              "      <td>2625.0</td>\n",
              "      <td>18.6</td>\n",
              "      <td>82</td>\n",
              "      <td>1</td>\n",
              "      <td>ford ranger</td>\n",
              "    </tr>\n",
              "    <tr>\n",
              "      <th>397</th>\n",
              "      <td>31.0</td>\n",
              "      <td>4</td>\n",
              "      <td>119.0</td>\n",
              "      <td>82.00</td>\n",
              "      <td>2720.0</td>\n",
              "      <td>19.4</td>\n",
              "      <td>82</td>\n",
              "      <td>1</td>\n",
              "      <td>chevy s-10</td>\n",
              "    </tr>\n",
              "  </tbody>\n",
              "</table>\n",
              "<p>398 rows × 9 columns</p>\n",
              "</div>"
            ],
            "text/plain": [
              "      mpg  cylinder  displ  ... year  origin                       name\n",
              "0    18.0         8  307.0  ...   70       1  chevrolet chevelle malibu\n",
              "1    15.0         8  350.0  ...   70       1          buick skylark 320\n",
              "2    18.0         8  318.0  ...   70       1         plymouth satellite\n",
              "3    16.0         8  304.0  ...   70       1              amc rebel sst\n",
              "4    17.0         8  302.0  ...   70       1                ford torino\n",
              "..    ...       ...    ...  ...  ...     ...                        ...\n",
              "393  27.0         4  140.0  ...   82       1            ford mustang gl\n",
              "394  44.0         4   97.0  ...   82       2                  vw pickup\n",
              "395  32.0         4  135.0  ...   82       1              dodge rampage\n",
              "396  28.0         4  120.0  ...   82       1                ford ranger\n",
              "397  31.0         4  119.0  ...   82       1                 chevy s-10\n",
              "\n",
              "[398 rows x 9 columns]"
            ]
          },
          "metadata": {},
          "execution_count": 84
        }
      ]
    },
    {
      "cell_type": "code",
      "source": [
        "df.head()\n",
        "\n"
      ],
      "metadata": {
        "colab": {
          "base_uri": "https://localhost:8080/",
          "height": 206
        },
        "id": "7vPt54XMsctI",
        "outputId": "3d47c502-91da-4dff-9af1-a40ecf7bb53d"
      },
      "execution_count": 90,
      "outputs": [
        {
          "output_type": "execute_result",
          "data": {
            "text/html": [
              "<div>\n",
              "<style scoped>\n",
              "    .dataframe tbody tr th:only-of-type {\n",
              "        vertical-align: middle;\n",
              "    }\n",
              "\n",
              "    .dataframe tbody tr th {\n",
              "        vertical-align: top;\n",
              "    }\n",
              "\n",
              "    .dataframe thead th {\n",
              "        text-align: right;\n",
              "    }\n",
              "</style>\n",
              "<table border=\"1\" class=\"dataframe\">\n",
              "  <thead>\n",
              "    <tr style=\"text-align: right;\">\n",
              "      <th></th>\n",
              "      <th>mpg</th>\n",
              "      <th>cylinder</th>\n",
              "      <th>displ</th>\n",
              "      <th>horsepower</th>\n",
              "      <th>weight</th>\n",
              "      <th>acce</th>\n",
              "      <th>year</th>\n",
              "      <th>origin</th>\n",
              "      <th>name</th>\n",
              "    </tr>\n",
              "  </thead>\n",
              "  <tbody>\n",
              "    <tr>\n",
              "      <th>0</th>\n",
              "      <td>18.0</td>\n",
              "      <td>8</td>\n",
              "      <td>307.0</td>\n",
              "      <td>130.0</td>\n",
              "      <td>3504.0</td>\n",
              "      <td>12.0</td>\n",
              "      <td>70</td>\n",
              "      <td>1</td>\n",
              "      <td>chevrolet chevelle malibu</td>\n",
              "    </tr>\n",
              "    <tr>\n",
              "      <th>1</th>\n",
              "      <td>15.0</td>\n",
              "      <td>8</td>\n",
              "      <td>350.0</td>\n",
              "      <td>165.0</td>\n",
              "      <td>3693.0</td>\n",
              "      <td>11.5</td>\n",
              "      <td>70</td>\n",
              "      <td>1</td>\n",
              "      <td>buick skylark 320</td>\n",
              "    </tr>\n",
              "    <tr>\n",
              "      <th>2</th>\n",
              "      <td>18.0</td>\n",
              "      <td>8</td>\n",
              "      <td>318.0</td>\n",
              "      <td>150.0</td>\n",
              "      <td>3436.0</td>\n",
              "      <td>11.0</td>\n",
              "      <td>70</td>\n",
              "      <td>1</td>\n",
              "      <td>plymouth satellite</td>\n",
              "    </tr>\n",
              "    <tr>\n",
              "      <th>3</th>\n",
              "      <td>16.0</td>\n",
              "      <td>8</td>\n",
              "      <td>304.0</td>\n",
              "      <td>150.0</td>\n",
              "      <td>3433.0</td>\n",
              "      <td>12.0</td>\n",
              "      <td>70</td>\n",
              "      <td>1</td>\n",
              "      <td>amc rebel sst</td>\n",
              "    </tr>\n",
              "    <tr>\n",
              "      <th>4</th>\n",
              "      <td>17.0</td>\n",
              "      <td>8</td>\n",
              "      <td>302.0</td>\n",
              "      <td>140.0</td>\n",
              "      <td>3449.0</td>\n",
              "      <td>10.5</td>\n",
              "      <td>70</td>\n",
              "      <td>1</td>\n",
              "      <td>ford torino</td>\n",
              "    </tr>\n",
              "  </tbody>\n",
              "</table>\n",
              "</div>"
            ],
            "text/plain": [
              "    mpg  cylinder  displ  ... year  origin                       name\n",
              "0  18.0         8  307.0  ...   70       1  chevrolet chevelle malibu\n",
              "1  15.0         8  350.0  ...   70       1          buick skylark 320\n",
              "2  18.0         8  318.0  ...   70       1         plymouth satellite\n",
              "3  16.0         8  304.0  ...   70       1              amc rebel sst\n",
              "4  17.0         8  302.0  ...   70       1                ford torino\n",
              "\n",
              "[5 rows x 9 columns]"
            ]
          },
          "metadata": {},
          "execution_count": 90
        }
      ]
    },
    {
      "cell_type": "code",
      "source": [
        "df.tail()"
      ],
      "metadata": {
        "colab": {
          "base_uri": "https://localhost:8080/",
          "height": 206
        },
        "id": "AfSYLgLtvKAm",
        "outputId": "a971b056-693d-44d1-c005-627fecbe2cf3"
      },
      "execution_count": 89,
      "outputs": [
        {
          "output_type": "execute_result",
          "data": {
            "text/html": [
              "<div>\n",
              "<style scoped>\n",
              "    .dataframe tbody tr th:only-of-type {\n",
              "        vertical-align: middle;\n",
              "    }\n",
              "\n",
              "    .dataframe tbody tr th {\n",
              "        vertical-align: top;\n",
              "    }\n",
              "\n",
              "    .dataframe thead th {\n",
              "        text-align: right;\n",
              "    }\n",
              "</style>\n",
              "<table border=\"1\" class=\"dataframe\">\n",
              "  <thead>\n",
              "    <tr style=\"text-align: right;\">\n",
              "      <th></th>\n",
              "      <th>mpg</th>\n",
              "      <th>cylinder</th>\n",
              "      <th>displ</th>\n",
              "      <th>horsepower</th>\n",
              "      <th>weight</th>\n",
              "      <th>acce</th>\n",
              "      <th>year</th>\n",
              "      <th>origin</th>\n",
              "      <th>name</th>\n",
              "    </tr>\n",
              "  </thead>\n",
              "  <tbody>\n",
              "    <tr>\n",
              "      <th>393</th>\n",
              "      <td>27.0</td>\n",
              "      <td>4</td>\n",
              "      <td>140.0</td>\n",
              "      <td>86.00</td>\n",
              "      <td>2790.0</td>\n",
              "      <td>15.6</td>\n",
              "      <td>82</td>\n",
              "      <td>1</td>\n",
              "      <td>ford mustang gl</td>\n",
              "    </tr>\n",
              "    <tr>\n",
              "      <th>394</th>\n",
              "      <td>44.0</td>\n",
              "      <td>4</td>\n",
              "      <td>97.0</td>\n",
              "      <td>52.00</td>\n",
              "      <td>2130.0</td>\n",
              "      <td>24.6</td>\n",
              "      <td>82</td>\n",
              "      <td>2</td>\n",
              "      <td>vw pickup</td>\n",
              "    </tr>\n",
              "    <tr>\n",
              "      <th>395</th>\n",
              "      <td>32.0</td>\n",
              "      <td>4</td>\n",
              "      <td>135.0</td>\n",
              "      <td>84.00</td>\n",
              "      <td>2295.0</td>\n",
              "      <td>11.6</td>\n",
              "      <td>82</td>\n",
              "      <td>1</td>\n",
              "      <td>dodge rampage</td>\n",
              "    </tr>\n",
              "    <tr>\n",
              "      <th>396</th>\n",
              "      <td>28.0</td>\n",
              "      <td>4</td>\n",
              "      <td>120.0</td>\n",
              "      <td>79.00</td>\n",
              "      <td>2625.0</td>\n",
              "      <td>18.6</td>\n",
              "      <td>82</td>\n",
              "      <td>1</td>\n",
              "      <td>ford ranger</td>\n",
              "    </tr>\n",
              "    <tr>\n",
              "      <th>397</th>\n",
              "      <td>31.0</td>\n",
              "      <td>4</td>\n",
              "      <td>119.0</td>\n",
              "      <td>82.00</td>\n",
              "      <td>2720.0</td>\n",
              "      <td>19.4</td>\n",
              "      <td>82</td>\n",
              "      <td>1</td>\n",
              "      <td>chevy s-10</td>\n",
              "    </tr>\n",
              "  </tbody>\n",
              "</table>\n",
              "</div>"
            ],
            "text/plain": [
              "      mpg  cylinder  displ horsepower  ...  acce  year  origin             name\n",
              "393  27.0         4  140.0      86.00  ...  15.6    82       1  ford mustang gl\n",
              "394  44.0         4   97.0      52.00  ...  24.6    82       2        vw pickup\n",
              "395  32.0         4  135.0      84.00  ...  11.6    82       1    dodge rampage\n",
              "396  28.0         4  120.0      79.00  ...  18.6    82       1      ford ranger\n",
              "397  31.0         4  119.0      82.00  ...  19.4    82       1       chevy s-10\n",
              "\n",
              "[5 rows x 9 columns]"
            ]
          },
          "metadata": {},
          "execution_count": 89
        }
      ]
    },
    {
      "cell_type": "code",
      "source": [
        "df.shape      # 행,열이 몇개인지\n",
        "df.info()\n",
        "\n",
        "#float 실수\n",
        "#int 정수\n",
        "#object 문자열\n",
        "\n",
        "df.describe()     # 기술통계"
      ],
      "metadata": {
        "colab": {
          "base_uri": "https://localhost:8080/",
          "height": 592
        },
        "id": "l1AlxOxiutni",
        "outputId": "e3846a4c-5dd2-4c10-bb18-4297208a3dab"
      },
      "execution_count": 88,
      "outputs": [
        {
          "output_type": "stream",
          "name": "stdout",
          "text": [
            "<class 'pandas.core.frame.DataFrame'>\n",
            "RangeIndex: 398 entries, 0 to 397\n",
            "Data columns (total 9 columns):\n",
            " #   Column      Non-Null Count  Dtype  \n",
            "---  ------      --------------  -----  \n",
            " 0   mpg         398 non-null    float64\n",
            " 1   cylinder    398 non-null    int64  \n",
            " 2   displ       398 non-null    float64\n",
            " 3   horsepower  398 non-null    object \n",
            " 4   weight      398 non-null    float64\n",
            " 5   acce        398 non-null    float64\n",
            " 6   year        398 non-null    int64  \n",
            " 7   origin      398 non-null    int64  \n",
            " 8   name        398 non-null    object \n",
            "dtypes: float64(4), int64(3), object(2)\n",
            "memory usage: 28.1+ KB\n"
          ]
        },
        {
          "output_type": "execute_result",
          "data": {
            "text/html": [
              "<div>\n",
              "<style scoped>\n",
              "    .dataframe tbody tr th:only-of-type {\n",
              "        vertical-align: middle;\n",
              "    }\n",
              "\n",
              "    .dataframe tbody tr th {\n",
              "        vertical-align: top;\n",
              "    }\n",
              "\n",
              "    .dataframe thead th {\n",
              "        text-align: right;\n",
              "    }\n",
              "</style>\n",
              "<table border=\"1\" class=\"dataframe\">\n",
              "  <thead>\n",
              "    <tr style=\"text-align: right;\">\n",
              "      <th></th>\n",
              "      <th>mpg</th>\n",
              "      <th>cylinder</th>\n",
              "      <th>displ</th>\n",
              "      <th>weight</th>\n",
              "      <th>acce</th>\n",
              "      <th>year</th>\n",
              "      <th>origin</th>\n",
              "    </tr>\n",
              "  </thead>\n",
              "  <tbody>\n",
              "    <tr>\n",
              "      <th>count</th>\n",
              "      <td>398.000000</td>\n",
              "      <td>398.000000</td>\n",
              "      <td>398.000000</td>\n",
              "      <td>398.000000</td>\n",
              "      <td>398.000000</td>\n",
              "      <td>398.000000</td>\n",
              "      <td>398.000000</td>\n",
              "    </tr>\n",
              "    <tr>\n",
              "      <th>mean</th>\n",
              "      <td>23.514573</td>\n",
              "      <td>5.454774</td>\n",
              "      <td>193.425879</td>\n",
              "      <td>2970.424623</td>\n",
              "      <td>15.568090</td>\n",
              "      <td>76.010050</td>\n",
              "      <td>1.572864</td>\n",
              "    </tr>\n",
              "    <tr>\n",
              "      <th>std</th>\n",
              "      <td>7.815984</td>\n",
              "      <td>1.701004</td>\n",
              "      <td>104.269838</td>\n",
              "      <td>846.841774</td>\n",
              "      <td>2.757689</td>\n",
              "      <td>3.697627</td>\n",
              "      <td>0.802055</td>\n",
              "    </tr>\n",
              "    <tr>\n",
              "      <th>min</th>\n",
              "      <td>9.000000</td>\n",
              "      <td>3.000000</td>\n",
              "      <td>68.000000</td>\n",
              "      <td>1613.000000</td>\n",
              "      <td>8.000000</td>\n",
              "      <td>70.000000</td>\n",
              "      <td>1.000000</td>\n",
              "    </tr>\n",
              "    <tr>\n",
              "      <th>25%</th>\n",
              "      <td>17.500000</td>\n",
              "      <td>4.000000</td>\n",
              "      <td>104.250000</td>\n",
              "      <td>2223.750000</td>\n",
              "      <td>13.825000</td>\n",
              "      <td>73.000000</td>\n",
              "      <td>1.000000</td>\n",
              "    </tr>\n",
              "    <tr>\n",
              "      <th>50%</th>\n",
              "      <td>23.000000</td>\n",
              "      <td>4.000000</td>\n",
              "      <td>148.500000</td>\n",
              "      <td>2803.500000</td>\n",
              "      <td>15.500000</td>\n",
              "      <td>76.000000</td>\n",
              "      <td>1.000000</td>\n",
              "    </tr>\n",
              "    <tr>\n",
              "      <th>75%</th>\n",
              "      <td>29.000000</td>\n",
              "      <td>8.000000</td>\n",
              "      <td>262.000000</td>\n",
              "      <td>3608.000000</td>\n",
              "      <td>17.175000</td>\n",
              "      <td>79.000000</td>\n",
              "      <td>2.000000</td>\n",
              "    </tr>\n",
              "    <tr>\n",
              "      <th>max</th>\n",
              "      <td>46.600000</td>\n",
              "      <td>8.000000</td>\n",
              "      <td>455.000000</td>\n",
              "      <td>5140.000000</td>\n",
              "      <td>24.800000</td>\n",
              "      <td>82.000000</td>\n",
              "      <td>3.000000</td>\n",
              "    </tr>\n",
              "  </tbody>\n",
              "</table>\n",
              "</div>"
            ],
            "text/plain": [
              "              mpg    cylinder       displ  ...        acce        year      origin\n",
              "count  398.000000  398.000000  398.000000  ...  398.000000  398.000000  398.000000\n",
              "mean    23.514573    5.454774  193.425879  ...   15.568090   76.010050    1.572864\n",
              "std      7.815984    1.701004  104.269838  ...    2.757689    3.697627    0.802055\n",
              "min      9.000000    3.000000   68.000000  ...    8.000000   70.000000    1.000000\n",
              "25%     17.500000    4.000000  104.250000  ...   13.825000   73.000000    1.000000\n",
              "50%     23.000000    4.000000  148.500000  ...   15.500000   76.000000    1.000000\n",
              "75%     29.000000    8.000000  262.000000  ...   17.175000   79.000000    2.000000\n",
              "max     46.600000    8.000000  455.000000  ...   24.800000   82.000000    3.000000\n",
              "\n",
              "[8 rows x 7 columns]"
            ]
          },
          "metadata": {},
          "execution_count": 88
        }
      ]
    },
    {
      "cell_type": "code",
      "source": [
        "df.mean()"
      ],
      "metadata": {
        "colab": {
          "base_uri": "https://localhost:8080/"
        },
        "id": "JrmowHHcuqT6",
        "outputId": "d4b324e1-b83a-44a2-aa4f-56c2c32070c0"
      },
      "execution_count": 87,
      "outputs": [
        {
          "output_type": "execute_result",
          "data": {
            "text/plain": [
              "mpg           23.514573\n",
              "cylinder       5.454774\n",
              "displ        193.425879\n",
              "weight      2970.424623\n",
              "acce          15.568090\n",
              "year          76.010050\n",
              "origin         1.572864\n",
              "dtype: float64"
            ]
          },
          "metadata": {},
          "execution_count": 87
        }
      ]
    },
    {
      "cell_type": "code",
      "source": [
        "df.mpg.mean()     #평균"
      ],
      "metadata": {
        "colab": {
          "base_uri": "https://localhost:8080/"
        },
        "id": "liuRNq7YwZE2",
        "outputId": "ba8d1fa3-83c2-4bb1-f5b1-f9ea38b856c4"
      },
      "execution_count": 86,
      "outputs": [
        {
          "output_type": "execute_result",
          "data": {
            "text/plain": [
              "23.514572864321615"
            ]
          },
          "metadata": {},
          "execution_count": 86
        }
      ]
    },
    {
      "cell_type": "code",
      "source": [
        "df[['mpg','weight']].mean()"
      ],
      "metadata": {
        "colab": {
          "base_uri": "https://localhost:8080/"
        },
        "id": "IWt-w4wQwdoa",
        "outputId": "2ab5ec65-67f4-4bd3-bf44-4e8efe67e0a4"
      },
      "execution_count": 85,
      "outputs": [
        {
          "output_type": "execute_result",
          "data": {
            "text/plain": [
              "mpg         23.514573\n",
              "weight    2970.424623\n",
              "dtype: float64"
            ]
          },
          "metadata": {},
          "execution_count": 85
        }
      ]
    },
    {
      "cell_type": "code",
      "source": [
        "df.median()     #중간값"
      ],
      "metadata": {
        "colab": {
          "base_uri": "https://localhost:8080/"
        },
        "id": "EGsl-BLuwlvS",
        "outputId": "04e4b1f0-d2d4-46de-81a0-ab3da33b091a"
      },
      "execution_count": 78,
      "outputs": [
        {
          "output_type": "execute_result",
          "data": {
            "text/plain": [
              "Series([], dtype: float64)"
            ]
          },
          "metadata": {},
          "execution_count": 78
        }
      ]
    },
    {
      "cell_type": "code",
      "source": [
        "df.max()"
      ],
      "metadata": {
        "colab": {
          "base_uri": "https://localhost:8080/"
        },
        "id": "SnXd00FxwwOt",
        "outputId": "5815e856-bc67-4c31-bc02-ad9187f4a1ea"
      },
      "execution_count": 79,
      "outputs": [
        {
          "output_type": "execute_result",
          "data": {
            "text/plain": [
              "name     Riah\n",
              "algol       B\n",
              "basic       C\n",
              "c++        C+\n",
              "dtype: object"
            ]
          },
          "metadata": {},
          "execution_count": 79
        }
      ]
    },
    {
      "cell_type": "code",
      "source": [
        "df.min()"
      ],
      "metadata": {
        "colab": {
          "base_uri": "https://localhost:8080/"
        },
        "id": "gIdadEvRw16-",
        "outputId": "8b1a38d1-5748-4ce3-fc9b-2f6b0edb89b9"
      },
      "execution_count": 80,
      "outputs": [
        {
          "output_type": "execute_result",
          "data": {
            "text/plain": [
              "name     Jerry\n",
              "algol        A\n",
              "basic        B\n",
              "c++         B+\n",
              "dtype: object"
            ]
          },
          "metadata": {},
          "execution_count": 80
        }
      ]
    },
    {
      "cell_type": "code",
      "source": [
        "df.std()      #표준편차"
      ],
      "metadata": {
        "colab": {
          "base_uri": "https://localhost:8080/"
        },
        "id": "O8uUmGmAw6QO",
        "outputId": "1b073baf-59ea-4c19-91dd-31f9fb9b6f04"
      },
      "execution_count": 81,
      "outputs": [
        {
          "output_type": "execute_result",
          "data": {
            "text/plain": [
              "Series([], dtype: float64)"
            ]
          },
          "metadata": {},
          "execution_count": 81
        }
      ]
    },
    {
      "cell_type": "code",
      "source": [
        "df.corr()     #상관계수"
      ],
      "metadata": {
        "colab": {
          "base_uri": "https://localhost:8080/",
          "height": 32
        },
        "id": "6dEqDE0_xDQV",
        "outputId": "699c3a2c-d486-48c3-a172-12677e839fc7"
      },
      "execution_count": 82,
      "outputs": [
        {
          "output_type": "execute_result",
          "data": {
            "text/html": [
              "<div>\n",
              "<style scoped>\n",
              "    .dataframe tbody tr th:only-of-type {\n",
              "        vertical-align: middle;\n",
              "    }\n",
              "\n",
              "    .dataframe tbody tr th {\n",
              "        vertical-align: top;\n",
              "    }\n",
              "\n",
              "    .dataframe thead th {\n",
              "        text-align: right;\n",
              "    }\n",
              "</style>\n",
              "<table border=\"1\" class=\"dataframe\">\n",
              "  <thead>\n",
              "    <tr style=\"text-align: right;\">\n",
              "      <th></th>\n",
              "    </tr>\n",
              "  </thead>\n",
              "  <tbody>\n",
              "  </tbody>\n",
              "</table>\n",
              "</div>"
            ],
            "text/plain": [
              "Empty DataFrame\n",
              "Columns: []\n",
              "Index: []"
            ]
          },
          "metadata": {},
          "execution_count": 82
        }
      ]
    },
    {
      "cell_type": "code",
      "source": [
        "# 그래프\n",
        "# import matplotlib.pyplot as plt   # 그림 라이브러리\n",
        "# import seaborn as sns     # 그림 라이브러리 (좀더 세련)\n",
        "\n",
        "df = pd.read_excel('남북한발전전력량.xlsx')"
      ],
      "metadata": {
        "id": "ShxOODuWxQVX"
      },
      "execution_count": 91,
      "outputs": []
    },
    {
      "cell_type": "code",
      "source": [
        "df_ns = df.iloc[[0,5], 3:]    #[행, 열] = 0행과 5행, 3열부터 끝까지"
      ],
      "metadata": {
        "id": "V8VklZm01fuo"
      },
      "execution_count": 92,
      "outputs": []
    },
    {
      "cell_type": "code",
      "source": [
        "df_ns"
      ],
      "metadata": {
        "colab": {
          "base_uri": "https://localhost:8080/",
          "height": 132
        },
        "id": "CG34VBQy1ysL",
        "outputId": "f06374b3-8c03-4323-f497-1799c8190c1e"
      },
      "execution_count": 93,
      "outputs": [
        {
          "output_type": "execute_result",
          "data": {
            "text/html": [
              "<div>\n",
              "<style scoped>\n",
              "    .dataframe tbody tr th:only-of-type {\n",
              "        vertical-align: middle;\n",
              "    }\n",
              "\n",
              "    .dataframe tbody tr th {\n",
              "        vertical-align: top;\n",
              "    }\n",
              "\n",
              "    .dataframe thead th {\n",
              "        text-align: right;\n",
              "    }\n",
              "</style>\n",
              "<table border=\"1\" class=\"dataframe\">\n",
              "  <thead>\n",
              "    <tr style=\"text-align: right;\">\n",
              "      <th></th>\n",
              "      <th>1991</th>\n",
              "      <th>1992</th>\n",
              "      <th>1993</th>\n",
              "      <th>1994</th>\n",
              "      <th>1995</th>\n",
              "      <th>1996</th>\n",
              "      <th>1997</th>\n",
              "      <th>1998</th>\n",
              "      <th>1999</th>\n",
              "      <th>2000</th>\n",
              "      <th>2001</th>\n",
              "      <th>2002</th>\n",
              "      <th>2003</th>\n",
              "      <th>2004</th>\n",
              "      <th>2005</th>\n",
              "      <th>2006</th>\n",
              "      <th>2007</th>\n",
              "      <th>2008</th>\n",
              "      <th>2009</th>\n",
              "      <th>2010</th>\n",
              "      <th>2011</th>\n",
              "      <th>2012</th>\n",
              "      <th>2013</th>\n",
              "      <th>2014</th>\n",
              "      <th>2015</th>\n",
              "      <th>2016</th>\n",
              "    </tr>\n",
              "  </thead>\n",
              "  <tbody>\n",
              "    <tr>\n",
              "      <th>0</th>\n",
              "      <td>1186</td>\n",
              "      <td>1310</td>\n",
              "      <td>1444</td>\n",
              "      <td>1650</td>\n",
              "      <td>1847</td>\n",
              "      <td>2055</td>\n",
              "      <td>2244</td>\n",
              "      <td>2153</td>\n",
              "      <td>2393</td>\n",
              "      <td>2664</td>\n",
              "      <td>2852</td>\n",
              "      <td>3065</td>\n",
              "      <td>3225</td>\n",
              "      <td>3421</td>\n",
              "      <td>3646</td>\n",
              "      <td>3812</td>\n",
              "      <td>4031</td>\n",
              "      <td>4224</td>\n",
              "      <td>4336</td>\n",
              "      <td>4747</td>\n",
              "      <td>4969</td>\n",
              "      <td>5096</td>\n",
              "      <td>5171</td>\n",
              "      <td>5220</td>\n",
              "      <td>5281</td>\n",
              "      <td>5404</td>\n",
              "    </tr>\n",
              "    <tr>\n",
              "      <th>5</th>\n",
              "      <td>263</td>\n",
              "      <td>247</td>\n",
              "      <td>221</td>\n",
              "      <td>231</td>\n",
              "      <td>230</td>\n",
              "      <td>213</td>\n",
              "      <td>193</td>\n",
              "      <td>170</td>\n",
              "      <td>186</td>\n",
              "      <td>194</td>\n",
              "      <td>202</td>\n",
              "      <td>190</td>\n",
              "      <td>196</td>\n",
              "      <td>206</td>\n",
              "      <td>215</td>\n",
              "      <td>225</td>\n",
              "      <td>236</td>\n",
              "      <td>255</td>\n",
              "      <td>235</td>\n",
              "      <td>237</td>\n",
              "      <td>211</td>\n",
              "      <td>215</td>\n",
              "      <td>221</td>\n",
              "      <td>216</td>\n",
              "      <td>190</td>\n",
              "      <td>239</td>\n",
              "    </tr>\n",
              "  </tbody>\n",
              "</table>\n",
              "</div>"
            ],
            "text/plain": [
              "   1991  1992  1993  1994  1995  1996  ...  2011  2012  2013  2014  2015  2016\n",
              "0  1186  1310  1444  1650  1847  2055  ...  4969  5096  5171  5220  5281  5404\n",
              "5   263   247   221   231   230   213  ...   211   215   221   216   190   239\n",
              "\n",
              "[2 rows x 26 columns]"
            ]
          },
          "metadata": {},
          "execution_count": 93
        }
      ]
    },
    {
      "cell_type": "code",
      "source": [
        "df_ns.index = ['south','north']"
      ],
      "metadata": {
        "id": "N6KbKb611_aq"
      },
      "execution_count": 94,
      "outputs": []
    },
    {
      "cell_type": "code",
      "source": [
        "df_ns"
      ],
      "metadata": {
        "colab": {
          "base_uri": "https://localhost:8080/",
          "height": 132
        },
        "id": "oN16_MPP2L6y",
        "outputId": "85c589df-ff8c-4e18-8244-83ed13e58437"
      },
      "execution_count": 95,
      "outputs": [
        {
          "output_type": "execute_result",
          "data": {
            "text/html": [
              "<div>\n",
              "<style scoped>\n",
              "    .dataframe tbody tr th:only-of-type {\n",
              "        vertical-align: middle;\n",
              "    }\n",
              "\n",
              "    .dataframe tbody tr th {\n",
              "        vertical-align: top;\n",
              "    }\n",
              "\n",
              "    .dataframe thead th {\n",
              "        text-align: right;\n",
              "    }\n",
              "</style>\n",
              "<table border=\"1\" class=\"dataframe\">\n",
              "  <thead>\n",
              "    <tr style=\"text-align: right;\">\n",
              "      <th></th>\n",
              "      <th>1991</th>\n",
              "      <th>1992</th>\n",
              "      <th>1993</th>\n",
              "      <th>1994</th>\n",
              "      <th>1995</th>\n",
              "      <th>1996</th>\n",
              "      <th>1997</th>\n",
              "      <th>1998</th>\n",
              "      <th>1999</th>\n",
              "      <th>2000</th>\n",
              "      <th>2001</th>\n",
              "      <th>2002</th>\n",
              "      <th>2003</th>\n",
              "      <th>2004</th>\n",
              "      <th>2005</th>\n",
              "      <th>2006</th>\n",
              "      <th>2007</th>\n",
              "      <th>2008</th>\n",
              "      <th>2009</th>\n",
              "      <th>2010</th>\n",
              "      <th>2011</th>\n",
              "      <th>2012</th>\n",
              "      <th>2013</th>\n",
              "      <th>2014</th>\n",
              "      <th>2015</th>\n",
              "      <th>2016</th>\n",
              "    </tr>\n",
              "  </thead>\n",
              "  <tbody>\n",
              "    <tr>\n",
              "      <th>south</th>\n",
              "      <td>1186</td>\n",
              "      <td>1310</td>\n",
              "      <td>1444</td>\n",
              "      <td>1650</td>\n",
              "      <td>1847</td>\n",
              "      <td>2055</td>\n",
              "      <td>2244</td>\n",
              "      <td>2153</td>\n",
              "      <td>2393</td>\n",
              "      <td>2664</td>\n",
              "      <td>2852</td>\n",
              "      <td>3065</td>\n",
              "      <td>3225</td>\n",
              "      <td>3421</td>\n",
              "      <td>3646</td>\n",
              "      <td>3812</td>\n",
              "      <td>4031</td>\n",
              "      <td>4224</td>\n",
              "      <td>4336</td>\n",
              "      <td>4747</td>\n",
              "      <td>4969</td>\n",
              "      <td>5096</td>\n",
              "      <td>5171</td>\n",
              "      <td>5220</td>\n",
              "      <td>5281</td>\n",
              "      <td>5404</td>\n",
              "    </tr>\n",
              "    <tr>\n",
              "      <th>north</th>\n",
              "      <td>263</td>\n",
              "      <td>247</td>\n",
              "      <td>221</td>\n",
              "      <td>231</td>\n",
              "      <td>230</td>\n",
              "      <td>213</td>\n",
              "      <td>193</td>\n",
              "      <td>170</td>\n",
              "      <td>186</td>\n",
              "      <td>194</td>\n",
              "      <td>202</td>\n",
              "      <td>190</td>\n",
              "      <td>196</td>\n",
              "      <td>206</td>\n",
              "      <td>215</td>\n",
              "      <td>225</td>\n",
              "      <td>236</td>\n",
              "      <td>255</td>\n",
              "      <td>235</td>\n",
              "      <td>237</td>\n",
              "      <td>211</td>\n",
              "      <td>215</td>\n",
              "      <td>221</td>\n",
              "      <td>216</td>\n",
              "      <td>190</td>\n",
              "      <td>239</td>\n",
              "    </tr>\n",
              "  </tbody>\n",
              "</table>\n",
              "</div>"
            ],
            "text/plain": [
              "       1991  1992  1993  1994  1995  1996  ...  2011  2012  2013  2014  2015  2016\n",
              "south  1186  1310  1444  1650  1847  2055  ...  4969  5096  5171  5220  5281  5404\n",
              "north   263   247   221   231   230   213  ...   211   215   221   216   190   239\n",
              "\n",
              "[2 rows x 26 columns]"
            ]
          },
          "metadata": {},
          "execution_count": 95
        }
      ]
    },
    {
      "cell_type": "code",
      "source": [
        "df_ns.plot()"
      ],
      "metadata": {
        "colab": {
          "base_uri": "https://localhost:8080/",
          "height": 464
        },
        "id": "EOGfPJF-2NMJ",
        "outputId": "95430a52-6dbe-49b2-979d-606da710302a"
      },
      "execution_count": 96,
      "outputs": [
        {
          "output_type": "execute_result",
          "data": {
            "text/plain": [
              "<matplotlib.axes._subplots.AxesSubplot at 0x7f91cde03050>"
            ]
          },
          "metadata": {},
          "execution_count": 96
        },
        {
          "output_type": "display_data",
          "data": {
            "image/png": "[encoded data removed]",
            "text/plain": [
              "<Figure size 432x288 with 1 Axes>"
            ]
          },
          "metadata": {
            "needs_background": "light"
          }
        }
      ]
    },
    {
      "cell_type": "code",
      "source": [
        "# x축을 시간의 흐름에 따른 연도별 발전량\n",
        "tdf_ns = df_ns.T      #.T는 전환transform\n",
        "tdf_ns.plot()"
      ],
      "metadata": {
        "colab": {
          "base_uri": "https://localhost:8080/",
          "height": 284
        },
        "id": "ooyEnRfZ2ZEf",
        "outputId": "27c4a54b-4c08-4422-e8d3-63e53ad3b938"
      },
      "execution_count": 100,
      "outputs": [
        {
          "output_type": "execute_result",
          "data": {
            "text/plain": [
              "<matplotlib.axes._subplots.AxesSubplot at 0x7f91cbc95550>"
            ]
          },
          "metadata": {},
          "execution_count": 100
        },
        {
          "output_type": "display_data",
          "data": {
            "image/png": "[encoded data removed]",
            "text/plain": [
              "<Figure size 432x288 with 1 Axes>"
            ]
          },
          "metadata": {
            "needs_background": "light"
          }
        }
      ]
    },
    {
      "cell_type": "code",
      "source": [
        "tdf_ns.plot(kind='bar')"
      ],
      "metadata": {
        "colab": {
          "base_uri": "https://localhost:8080/",
          "height": 300
        },
        "id": "jTZN2VFP3Gnb",
        "outputId": "5586fa8c-0fe3-4439-8e51-00572b74e53b"
      },
      "execution_count": 101,
      "outputs": [
        {
          "output_type": "execute_result",
          "data": {
            "text/plain": [
              "<matplotlib.axes._subplots.AxesSubplot at 0x7f91ca3c4b50>"
            ]
          },
          "metadata": {},
          "execution_count": 101
        },
        {
          "output_type": "display_data",
          "data": {
            "image/png": "[encoded data removed]",
            "text/plain": [
              "<Figure size 432x288 with 1 Axes>"
            ]
          },
          "metadata": {
            "needs_background": "light"
          }
        }
      ]
    },
    {
      "cell_type": "code",
      "source": [
        "df = pd.read_excel('남북한발전전력량.xlsx')\n",
        "df_ns = df.iloc[[0,5],3:]\n",
        "df_ns.index = ['south', 'north']\n",
        "tdf_ns = df_ns.T\n",
        "tdf_ns.plot(kind='hist')"
      ],
      "metadata": {
        "colab": {
          "base_uri": "https://localhost:8080/",
          "height": 284
        },
        "id": "K0-YWaQw3XpH",
        "outputId": "dc3cbc0b-c661-4931-b12a-c29dc1b760f0"
      },
      "execution_count": 106,
      "outputs": [
        {
          "output_type": "execute_result",
          "data": {
            "text/plain": [
              "<matplotlib.axes._subplots.AxesSubplot at 0x7f91ca280c10>"
            ]
          },
          "metadata": {},
          "execution_count": 106
        },
        {
          "output_type": "display_data",
          "data": {
            "image/png": "[encoded data removed]",
            "text/plain": [
              "<Figure size 432x288 with 1 Axes>"
            ]
          },
          "metadata": {
            "needs_background": "light"
          }
        }
      ]
    },
    {
      "cell_type": "code",
      "source": [
        "df.head()"
      ],
      "metadata": {
        "colab": {
          "base_uri": "https://localhost:8080/",
          "height": 417
        },
        "id": "OcIZMnod3wu5",
        "outputId": "d8823810-61be-40df-aa02-09c2a9715262"
      },
      "execution_count": 104,
      "outputs": [
        {
          "output_type": "execute_result",
          "data": {
            "text/html": [
              "<div>\n",
              "<style scoped>\n",
              "    .dataframe tbody tr th:only-of-type {\n",
              "        vertical-align: middle;\n",
              "    }\n",
              "\n",
              "    .dataframe tbody tr th {\n",
              "        vertical-align: top;\n",
              "    }\n",
              "\n",
              "    .dataframe thead th {\n",
              "        text-align: right;\n",
              "    }\n",
              "</style>\n",
              "<table border=\"1\" class=\"dataframe\">\n",
              "  <thead>\n",
              "    <tr style=\"text-align: right;\">\n",
              "      <th></th>\n",
              "      <th>전력량 (억㎾h)</th>\n",
              "      <th>발전 전력별</th>\n",
              "      <th>1990</th>\n",
              "      <th>1991</th>\n",
              "      <th>1992</th>\n",
              "      <th>1993</th>\n",
              "      <th>1994</th>\n",
              "      <th>1995</th>\n",
              "      <th>1996</th>\n",
              "      <th>1997</th>\n",
              "      <th>1998</th>\n",
              "      <th>1999</th>\n",
              "      <th>2000</th>\n",
              "      <th>2001</th>\n",
              "      <th>2002</th>\n",
              "      <th>2003</th>\n",
              "      <th>2004</th>\n",
              "      <th>2005</th>\n",
              "      <th>2006</th>\n",
              "      <th>2007</th>\n",
              "      <th>2008</th>\n",
              "      <th>2009</th>\n",
              "      <th>2010</th>\n",
              "      <th>2011</th>\n",
              "      <th>2012</th>\n",
              "      <th>2013</th>\n",
              "      <th>2014</th>\n",
              "      <th>2015</th>\n",
              "      <th>2016</th>\n",
              "    </tr>\n",
              "  </thead>\n",
              "  <tbody>\n",
              "    <tr>\n",
              "      <th>0</th>\n",
              "      <td>남한</td>\n",
              "      <td>합계</td>\n",
              "      <td>1077</td>\n",
              "      <td>1186</td>\n",
              "      <td>1310</td>\n",
              "      <td>1444</td>\n",
              "      <td>1650</td>\n",
              "      <td>1847</td>\n",
              "      <td>2055</td>\n",
              "      <td>2244</td>\n",
              "      <td>2153</td>\n",
              "      <td>2393</td>\n",
              "      <td>2664</td>\n",
              "      <td>2852</td>\n",
              "      <td>3065</td>\n",
              "      <td>3225</td>\n",
              "      <td>3421</td>\n",
              "      <td>3646</td>\n",
              "      <td>3812</td>\n",
              "      <td>4031</td>\n",
              "      <td>4224</td>\n",
              "      <td>4336</td>\n",
              "      <td>4747</td>\n",
              "      <td>4969</td>\n",
              "      <td>5096</td>\n",
              "      <td>5171</td>\n",
              "      <td>5220</td>\n",
              "      <td>5281</td>\n",
              "      <td>5404</td>\n",
              "    </tr>\n",
              "    <tr>\n",
              "      <th>1</th>\n",
              "      <td>NaN</td>\n",
              "      <td>수력</td>\n",
              "      <td>64</td>\n",
              "      <td>51</td>\n",
              "      <td>49</td>\n",
              "      <td>60</td>\n",
              "      <td>41</td>\n",
              "      <td>55</td>\n",
              "      <td>52</td>\n",
              "      <td>54</td>\n",
              "      <td>61</td>\n",
              "      <td>61</td>\n",
              "      <td>56</td>\n",
              "      <td>42</td>\n",
              "      <td>53</td>\n",
              "      <td>69</td>\n",
              "      <td>59</td>\n",
              "      <td>52</td>\n",
              "      <td>52</td>\n",
              "      <td>50</td>\n",
              "      <td>56</td>\n",
              "      <td>56</td>\n",
              "      <td>65</td>\n",
              "      <td>78</td>\n",
              "      <td>77</td>\n",
              "      <td>84</td>\n",
              "      <td>78</td>\n",
              "      <td>58</td>\n",
              "      <td>66</td>\n",
              "    </tr>\n",
              "    <tr>\n",
              "      <th>2</th>\n",
              "      <td>NaN</td>\n",
              "      <td>화력</td>\n",
              "      <td>484</td>\n",
              "      <td>573</td>\n",
              "      <td>696</td>\n",
              "      <td>803</td>\n",
              "      <td>1022</td>\n",
              "      <td>1122</td>\n",
              "      <td>1264</td>\n",
              "      <td>1420</td>\n",
              "      <td>1195</td>\n",
              "      <td>1302</td>\n",
              "      <td>1518</td>\n",
              "      <td>1689</td>\n",
              "      <td>1821</td>\n",
              "      <td>1859</td>\n",
              "      <td>2056</td>\n",
              "      <td>2127</td>\n",
              "      <td>2272</td>\n",
              "      <td>2551</td>\n",
              "      <td>2658</td>\n",
              "      <td>2802</td>\n",
              "      <td>3196</td>\n",
              "      <td>3343</td>\n",
              "      <td>3430</td>\n",
              "      <td>3581</td>\n",
              "      <td>3427</td>\n",
              "      <td>3402</td>\n",
              "      <td>3523</td>\n",
              "    </tr>\n",
              "    <tr>\n",
              "      <th>3</th>\n",
              "      <td>NaN</td>\n",
              "      <td>원자력</td>\n",
              "      <td>529</td>\n",
              "      <td>563</td>\n",
              "      <td>565</td>\n",
              "      <td>581</td>\n",
              "      <td>587</td>\n",
              "      <td>670</td>\n",
              "      <td>739</td>\n",
              "      <td>771</td>\n",
              "      <td>897</td>\n",
              "      <td>1031</td>\n",
              "      <td>1090</td>\n",
              "      <td>1121</td>\n",
              "      <td>1191</td>\n",
              "      <td>1297</td>\n",
              "      <td>1307</td>\n",
              "      <td>1468</td>\n",
              "      <td>1487</td>\n",
              "      <td>1429</td>\n",
              "      <td>1510</td>\n",
              "      <td>1478</td>\n",
              "      <td>1486</td>\n",
              "      <td>1547</td>\n",
              "      <td>1503</td>\n",
              "      <td>1388</td>\n",
              "      <td>1564</td>\n",
              "      <td>1648</td>\n",
              "      <td>1620</td>\n",
              "    </tr>\n",
              "    <tr>\n",
              "      <th>4</th>\n",
              "      <td>NaN</td>\n",
              "      <td>신재생</td>\n",
              "      <td>-</td>\n",
              "      <td>-</td>\n",
              "      <td>-</td>\n",
              "      <td>-</td>\n",
              "      <td>-</td>\n",
              "      <td>-</td>\n",
              "      <td>-</td>\n",
              "      <td>-</td>\n",
              "      <td>-</td>\n",
              "      <td>-</td>\n",
              "      <td>-</td>\n",
              "      <td>-</td>\n",
              "      <td>-</td>\n",
              "      <td>-</td>\n",
              "      <td>-</td>\n",
              "      <td>-</td>\n",
              "      <td>-</td>\n",
              "      <td>-</td>\n",
              "      <td>-</td>\n",
              "      <td>-</td>\n",
              "      <td>-</td>\n",
              "      <td>-</td>\n",
              "      <td>86</td>\n",
              "      <td>118</td>\n",
              "      <td>151</td>\n",
              "      <td>173</td>\n",
              "      <td>195</td>\n",
              "    </tr>\n",
              "  </tbody>\n",
              "</table>\n",
              "</div>"
            ],
            "text/plain": [
              "  전력량 (억㎾h) 발전 전력별  1990  1991  1992  1993  ...  2011  2012  2013  2014  2015  2016\n",
              "0        남한     합계  1077  1186  1310  1444  ...  4969  5096  5171  5220  5281  5404\n",
              "1       NaN     수력    64    51    49    60  ...    78    77    84    78    58    66\n",
              "2       NaN     화력   484   573   696   803  ...  3343  3430  3581  3427  3402  3523\n",
              "3       NaN    원자력   529   563   565   581  ...  1547  1503  1388  1564  1648  1620\n",
              "4       NaN    신재생     -     -     -     -  ...     -    86   118   151   173   195\n",
              "\n",
              "[5 rows x 29 columns]"
            ]
          },
          "metadata": {},
          "execution_count": 104
        }
      ]
    },
    {
      "cell_type": "code",
      "source": [
        "df = pd.read_csv('auto-mpg.csv', header=None)\n",
        "\n",
        "df.columns = ['mpg','cylinder','displ','horsepower','weight','acce','year','origin','name']\n"
      ],
      "metadata": {
        "id": "Ajml5t4R39xB"
      },
      "execution_count": 107,
      "outputs": []
    },
    {
      "cell_type": "code",
      "source": [
        "df.plot(x='weight', y='mpg', kind='scatter')"
      ],
      "metadata": {
        "colab": {
          "base_uri": "https://localhost:8080/",
          "height": 297
        },
        "id": "zcjwgCK15NAV",
        "outputId": "41b736c6-2a3a-4d46-ad4c-8ae0f111209e"
      },
      "execution_count": 108,
      "outputs": [
        {
          "output_type": "execute_result",
          "data": {
            "text/plain": [
              "<matplotlib.axes._subplots.AxesSubplot at 0x7f91ca1c3f50>"
            ]
          },
          "metadata": {},
          "execution_count": 108
        },
        {
          "output_type": "display_data",
          "data": {
            "image/png": "[encoded data removed]",
            "text/plain": [
              "<Figure size 432x288 with 1 Axes>"
            ]
          },
          "metadata": {
            "needs_background": "light"
          }
        }
      ]
    },
    {
      "cell_type": "code",
      "source": [
        "df.plot(x='year', y='mpg', kind='scatter')"
      ],
      "metadata": {
        "colab": {
          "base_uri": "https://localhost:8080/",
          "height": 297
        },
        "id": "BalNZIdx5ZSD",
        "outputId": "b8c37877-33f0-477f-e42a-61262c64cc26"
      },
      "execution_count": 109,
      "outputs": [
        {
          "output_type": "execute_result",
          "data": {
            "text/plain": [
              "<matplotlib.axes._subplots.AxesSubplot at 0x7f91ca142710>"
            ]
          },
          "metadata": {},
          "execution_count": 109
        },
        {
          "output_type": "display_data",
          "data": {
            "image/png": "[encoded data removed]",
            "text/plain": [
              "<Figure size 432x288 with 1 Axes>"
            ]
          },
          "metadata": {
            "needs_background": "light"
          }
        }
      ]
    },
    {
      "cell_type": "code",
      "source": [
        "df[['mpg','cylinder']].plot(kind='box')"
      ],
      "metadata": {
        "colab": {
          "base_uri": "https://localhost:8080/",
          "height": 284
        },
        "id": "JcjrfnMC5kqz",
        "outputId": "2c171656-7872-401f-c3f0-2ec45ec98fe6"
      },
      "execution_count": 110,
      "outputs": [
        {
          "output_type": "execute_result",
          "data": {
            "text/plain": [
              "<matplotlib.axes._subplots.AxesSubplot at 0x7f91ca2b8c50>"
            ]
          },
          "metadata": {},
          "execution_count": 110
        },
        {
          "output_type": "display_data",
          "data": {
            "image/png": "[encoded data removed]",
            "text/plain": [
              "<Figure size 432x288 with 1 Axes>"
            ]
          },
          "metadata": {
            "needs_background": "light"
          }
        }
      ]
    },
    {
      "cell_type": "code",
      "source": [
        ""
      ],
      "metadata": {
        "id": "BTPeJrDG6lhj"
      },
      "execution_count": null,
      "outputs": []
    }
  ]
}