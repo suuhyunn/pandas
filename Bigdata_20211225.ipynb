{
  "nbformat": 4,
  "nbformat_minor": 0,
  "metadata": {
    "colab": {
      "name": "Bigdata_20211225.ipynb",
      "provenance": [],
      "collapsed_sections": [],
      "authorship_tag": "ABX9TyMKYYRN8LVrj6JfKkJBVBFI",
      "include_colab_link": true
    },
    "kernelspec": {
      "name": "python3",
      "display_name": "Python 3"
    },
    "language_info": {
      "name": "python"
    }
  },
  "cells": [
    {
      "cell_type": "markdown",
      "metadata": {
        "id": "view-in-github",
        "colab_type": "text"
      },
      "source": [
        "<a href=\"https://colab.research.google.com/github/suuhyunn/pandas/blob/main/Bigdata_20211225.ipynb\" target=\"_parent\"><img src=\"https://colab.research.google.com/assets/colab-badge.svg\" alt=\"Open In Colab\"/></a>"
      ]
    },
    {
      "cell_type": "markdown",
      "source": [
        "## 텐서플로 TensorFlow\n",
        "- 지난주는 머신러닝, 오늘은 딥러닝\n",
        "- 2015년 구글 브레인 팀에서 공개한 라이브러리\n",
        "- 파이썬 뿐만 아니라 JS Swift.. 등을 지원\n",
        "- 텐서플로는 딥러닝 연산 처리 라이브러리\n",
        "- 이름에서 볼수 잇듯 텐서 Tensor 라고 부르는 데이터를 사용\n",
        "- 노드와 노드를 연결하는 간선 edge로 이루어진 그래프 구조를 통해 데이터를 이용시키면서 연산이 이루어짐\n",
        "\n",
        "# 텐서플로2의 특징\n",
        "1. 모델 구조를 만들고 학습을 진행하는 과정이 직관적\n",
        "2. 실행 결과를 즉시 바로 확인할 수 있어 편리\n",
        "3. 파이썬 도구를 사용해서 학습과정을 설계\n",
        "\n",
        "- 텐서플로1은 일종의 컴파일러 방식\n",
        "- 텐서플로2는 일종의 인터프리터 방식 \n",
        "\n"
      ],
      "metadata": {
        "id": "YnJZgU9XPL8E"
      }
    },
    {
      "cell_type": "code",
      "execution_count": 32,
      "metadata": {
        "id": "mrpjRzH8NEOY"
      },
      "outputs": [],
      "source": [
        "import tensorflow as tf"
      ]
    },
    {
      "cell_type": "code",
      "source": [
        "a = 1\n",
        "b = 2 \n",
        "c = tf.math.add(a,b)\n",
        "print(c)"
      ],
      "metadata": {
        "colab": {
          "base_uri": "https://localhost:8080/"
        },
        "id": "phtvLB6oRBEE",
        "outputId": "b315366f-5298-488e-f524-b77eb08871d6"
      },
      "execution_count": 33,
      "outputs": [
        {
          "output_type": "stream",
          "name": "stdout",
          "text": [
            "tf.Tensor(3, shape=(), dtype=int32)\n"
          ]
        }
      ]
    },
    {
      "cell_type": "markdown",
      "source": [
        "# 텐서플로 자료구조\n",
        "- 텐서플로에서 자료를 표현하는 기본구조인 텐서\n",
        "- 0차원 텐서 - 스칼라 Scalar\n",
        "- 1차원 텐서 - 벡터 Vector\n",
        "- 2차원 텐서 - 행렬 Matrix\n",
        "- 점이 선으로 선이 면으로 면이 입체로 변하는 공간개념으로 생각하자 \n",
        "- 텐서에서의 차원은 각각 고유 정보를 나타내는 축이라고 이해하자 \n",
        "- tensor의 사전적 의미는 '어떤 방향으로 뻗다', '어떤 방향으로 잡아당기다'\n",
        "- 즉 방향성을 갖는 어떤 물리량 -> 벡터\n",
        "\n",
        "# 스칼라 Scalar\n",
        "- 스칼라는 정부, 실수와 같은 상수를 나타낸다\n",
        "- 양은 나타내지만 방향성은 없다\n",
        "- 따라서 차수가 0이 된다\n",
        "- 또다른 표현으로 rank - 0 텐서 (여기서 rank는 텐서의 차수를 나타냄) "
      ],
      "metadata": {
        "id": "44pSmifARzow"
      }
    },
    {
      "cell_type": "code",
      "source": [
        "a = tf.constant(1)\n",
        "b = tf.constant(2)\n",
        "print(a)\n",
        "print(b)\n",
        "# shape=() 차수가 0인 스칼라를 의미한다 \n",
        "# 정수 1과 2는 0차원 텐서인 스칼라로 저장이 되었다\n",
        "# dtype=int32       32비트 정수형"
      ],
      "metadata": {
        "colab": {
          "base_uri": "https://localhost:8080/"
        },
        "id": "dV13anKmRQgO",
        "outputId": "28c130ac-55df-45e6-81b2-450c508b59cb"
      },
      "execution_count": 34,
      "outputs": [
        {
          "output_type": "stream",
          "name": "stdout",
          "text": [
            "tf.Tensor(1, shape=(), dtype=int32)\n",
            "tf.Tensor(2, shape=(), dtype=int32)\n"
          ]
        }
      ]
    },
    {
      "cell_type": "code",
      "source": [
        "print(tf.rank(a))\n",
        "# 변수a에 저장된 텐서의 랭크 값은 0인 스칼라 텐서"
      ],
      "metadata": {
        "colab": {
          "base_uri": "https://localhost:8080/"
        },
        "id": "auObCN9VTj2F",
        "outputId": "c8ac485a-8723-493e-c226-9b7c5bc5a021"
      },
      "execution_count": 35,
      "outputs": [
        {
          "output_type": "stream",
          "name": "stdout",
          "text": [
            "tf.Tensor(0, shape=(), dtype=int32)\n"
          ]
        }
      ]
    },
    {
      "cell_type": "code",
      "source": [
        "# 텐서 자료형 변환\n",
        "a = tf.cast(a, tf.float32)"
      ],
      "metadata": {
        "id": "j2bagintUR2d"
      },
      "execution_count": 36,
      "outputs": []
    },
    {
      "cell_type": "code",
      "source": [
        "print(a.dtype)"
      ],
      "metadata": {
        "colab": {
          "base_uri": "https://localhost:8080/"
        },
        "id": "OW-51q5wUxYf",
        "outputId": "86a00a53-e31d-4419-b8a9-9478f59b8422"
      },
      "execution_count": 37,
      "outputs": [
        {
          "output_type": "stream",
          "name": "stdout",
          "text": [
            "<dtype: 'float32'>\n"
          ]
        }
      ]
    },
    {
      "cell_type": "code",
      "source": [
        "b = tf.cast(b, tf.float32)"
      ],
      "metadata": {
        "id": "gxLV0Eu3Uz1k"
      },
      "execution_count": 38,
      "outputs": []
    },
    {
      "cell_type": "code",
      "source": [
        "print(b.dtype)"
      ],
      "metadata": {
        "colab": {
          "base_uri": "https://localhost:8080/"
        },
        "id": "W-VJAaQnVFxk",
        "outputId": "66ec8ce6-5d9e-4ed9-f80b-c8e7e39ce849"
      },
      "execution_count": 39,
      "outputs": [
        {
          "output_type": "stream",
          "name": "stdout",
          "text": [
            "<dtype: 'float32'>\n"
          ]
        }
      ]
    },
    {
      "cell_type": "code",
      "source": [
        "# 텐서플로에서는 float32를 숫자의 기본 자료형으로 사용\n",
        "\n",
        "c = tf.math.add(a,b)\n",
        "print(c)"
      ],
      "metadata": {
        "colab": {
          "base_uri": "https://localhost:8080/"
        },
        "id": "vVg2qn6bVIM8",
        "outputId": "da7ba806-9582-489a-8cf5-7f24a12ca32e"
      },
      "execution_count": 40,
      "outputs": [
        {
          "output_type": "stream",
          "name": "stdout",
          "text": [
            "tf.Tensor(3.0, shape=(), dtype=float32)\n"
          ]
        }
      ]
    },
    {
      "cell_type": "code",
      "source": [
        "tf.rank(c)      #차원의 데이터타입 (0도 정수)"
      ],
      "metadata": {
        "colab": {
          "base_uri": "https://localhost:8080/"
        },
        "id": "N6O31ygaVpJ1",
        "outputId": "52cd6c3e-91d1-41f8-ce2b-f446192cddc0"
      },
      "execution_count": 41,
      "outputs": [
        {
          "output_type": "execute_result",
          "data": {
            "text/plain": [
              "<tf.Tensor: shape=(), dtype=int32, numpy=0>"
            ]
          },
          "metadata": {},
          "execution_count": 41
        }
      ]
    },
    {
      "cell_type": "code",
      "source": [
        "print(tf.math.subtract(a,b))      #뺄셈"
      ],
      "metadata": {
        "colab": {
          "base_uri": "https://localhost:8080/"
        },
        "id": "qkTPY3KQVwgR",
        "outputId": "63c9ce8b-fade-4343-a343-dfae253970dc"
      },
      "execution_count": 42,
      "outputs": [
        {
          "output_type": "stream",
          "name": "stdout",
          "text": [
            "tf.Tensor(-1.0, shape=(), dtype=float32)\n"
          ]
        }
      ]
    },
    {
      "cell_type": "code",
      "source": [
        "print(tf.math.multiply(a,b))     #곱셈"
      ],
      "metadata": {
        "colab": {
          "base_uri": "https://localhost:8080/"
        },
        "id": "Pp-gyACyZORp",
        "outputId": "5ef1b885-34a7-4961-b5dd-f6096dc45c81"
      },
      "execution_count": 43,
      "outputs": [
        {
          "output_type": "stream",
          "name": "stdout",
          "text": [
            "tf.Tensor(2.0, shape=(), dtype=float32)\n"
          ]
        }
      ]
    },
    {
      "cell_type": "code",
      "source": [
        "print(tf.math.divide(a,b))    #나눗셈"
      ],
      "metadata": {
        "colab": {
          "base_uri": "https://localhost:8080/"
        },
        "id": "gknym6_sZhWw",
        "outputId": "d8b2c399-47ea-4094-cb79-741a599b62c4"
      },
      "execution_count": 44,
      "outputs": [
        {
          "output_type": "stream",
          "name": "stdout",
          "text": [
            "tf.Tensor(0.5, shape=(), dtype=float32)\n"
          ]
        }
      ]
    },
    {
      "cell_type": "code",
      "source": [
        "print(tf.math.mod(a,b))     #나머지"
      ],
      "metadata": {
        "colab": {
          "base_uri": "https://localhost:8080/"
        },
        "id": "WZqKUxJ2Zp5f",
        "outputId": "238d23f9-246d-4aac-dbc0-22bc5085aa30"
      },
      "execution_count": 45,
      "outputs": [
        {
          "output_type": "stream",
          "name": "stdout",
          "text": [
            "tf.Tensor(1.0, shape=(), dtype=float32)\n"
          ]
        }
      ]
    },
    {
      "cell_type": "code",
      "source": [
        "print(tf.math.floordiv(a,b))      #몫"
      ],
      "metadata": {
        "colab": {
          "base_uri": "https://localhost:8080/"
        },
        "id": "Zdyv40fhZv6H",
        "outputId": "53ca9bc0-44fa-41ce-d9d4-4ba335fe9927"
      },
      "execution_count": 46,
      "outputs": [
        {
          "output_type": "stream",
          "name": "stdout",
          "text": [
            "tf.Tensor(0.0, shape=(), dtype=float32)\n"
          ]
        }
      ]
    },
    {
      "cell_type": "markdown",
      "source": [
        "# 벡터 (Vector)\n",
        "- 벡터는 여러개의 스칼라를 원소로 갖는 1차원의 배열\n",
        "- 스칼라 여러개가 동일한 축 방향으로 나열되는 개념\n",
        "- 벡터는 원소들로 구성되는 여러개의 값들이 모여서 하나의 대표성을 갖는 값이 된다 \n",
        "- 크기와 방향을 갖는다 \n",
        "- 각 원소들의 크기뿐만 아니라 원소들이 나열되는 순서에도 의미가 있다\n",
        "- 형태만 보면 파이썬의 리스트와 유사\n",
        "- 벡터는 하나의 축을 갖고 차수가 랭크-1 텐서라고 부른다"
      ],
      "metadata": {
        "id": "G6u22-7xaDCt"
      }
    },
    {
      "cell_type": "code",
      "source": [
        "py_list = [10,20,30]\n",
        "\n",
        "vec1 = tf.constant(py_list)\n",
        "print(vec1)\n"
      ],
      "metadata": {
        "colab": {
          "base_uri": "https://localhost:8080/"
        },
        "id": "ndMSfEQCZ14H",
        "outputId": "263ca40e-fcba-4d9f-c3cb-241595f12690"
      },
      "execution_count": 53,
      "outputs": [
        {
          "output_type": "stream",
          "name": "stdout",
          "text": [
            "tf.Tensor([10 20 30], shape=(3,), dtype=int32)\n"
          ]
        }
      ]
    },
    {
      "cell_type": "code",
      "source": [
        "import numpy as np\n",
        "num_arr = np.array([10.,10.,10.])\n",
        "# vec2 = tf.constant(num_arr, dtype=tf.float32)\n",
        "vec2 = tf.constant(num_arr, dtype=tf.int32)\n",
        "\n",
        "print(vec2)\n",
        "#shape(3,) 원소의 개수 1개의 축"
      ],
      "metadata": {
        "colab": {
          "base_uri": "https://localhost:8080/"
        },
        "id": "4PAPIitabTju",
        "outputId": "aa9c38ed-2be7-4e8f-c1af-953088fe0ed8"
      },
      "execution_count": 56,
      "outputs": [
        {
          "output_type": "stream",
          "name": "stdout",
          "text": [
            "tf.Tensor([10 10 10], shape=(3,), dtype=int32)\n"
          ]
        }
      ]
    },
    {
      "cell_type": "code",
      "source": [
        "print(tf.rank(vec1))      #0차원\n",
        "print(tf.rank(vec2))"
      ],
      "metadata": {
        "colab": {
          "base_uri": "https://localhost:8080/"
        },
        "id": "7QCWocakb6XW",
        "outputId": "bfe9d872-80a4-4558-9872-c465d1c7c3f0"
      },
      "execution_count": 57,
      "outputs": [
        {
          "output_type": "stream",
          "name": "stdout",
          "text": [
            "tf.Tensor(1, shape=(), dtype=int32)\n",
            "tf.Tensor(1, shape=(), dtype=int32)\n"
          ]
        }
      ]
    },
    {
      "cell_type": "code",
      "source": [
        "add2 = vec1 + vec2\n",
        "print(add2)\n",
        "print(tf.rank(add2))"
      ],
      "metadata": {
        "colab": {
          "base_uri": "https://localhost:8080/"
        },
        "id": "vohm9zdldVQf",
        "outputId": "e94bb948-2962-4c98-91d1-be0c663910f7"
      },
      "execution_count": 59,
      "outputs": [
        {
          "output_type": "stream",
          "name": "stdout",
          "text": [
            "tf.Tensor([20 30 40], shape=(3,), dtype=int32)\n",
            "tf.Tensor(1, shape=(), dtype=int32)\n"
          ]
        }
      ]
    },
    {
      "cell_type": "code",
      "source": [
        "  # 스칼라와 마찬가지로 벡터도 tf.math 모듈을 통해 다양한 함수 산술 연산 할 수 있다. \n",
        "  # 이때 같은 위치에 있는 원소들끼리 연산한다. \n",
        "\n",
        "\n",
        "print(tf.math.subtract(vec1, vec2))\n",
        "print(tf.math.add(vec1, vec2))\n",
        "print(tf.math.multiply(vec1, vec2))\n",
        "print(tf.math.mod(vec1, vec2))\n"
      ],
      "metadata": {
        "colab": {
          "base_uri": "https://localhost:8080/"
        },
        "id": "rW0p9OqLdjlm",
        "outputId": "807c689d-9c02-4e93-ad39-bfe73b77d7b6"
      },
      "execution_count": 60,
      "outputs": [
        {
          "output_type": "stream",
          "name": "stdout",
          "text": [
            "tf.Tensor([ 0 10 20], shape=(3,), dtype=int32)\n",
            "tf.Tensor([20 30 40], shape=(3,), dtype=int32)\n",
            "tf.Tensor([100 200 300], shape=(3,), dtype=int32)\n",
            "tf.Tensor([0 0 0], shape=(3,), dtype=int32)\n"
          ]
        }
      ]
    },
    {
      "cell_type": "code",
      "source": [
        "print(vec1-vec2)\n",
        "print(vec1+vec2)\n",
        "print(vec1*vec2)\n",
        "print(vec1/vec2)"
      ],
      "metadata": {
        "colab": {
          "base_uri": "https://localhost:8080/"
        },
        "id": "dMgjTs75eJ3d",
        "outputId": "e82287a1-3fe7-4596-f784-eb94087d64fa"
      },
      "execution_count": 61,
      "outputs": [
        {
          "output_type": "stream",
          "name": "stdout",
          "text": [
            "tf.Tensor([ 0 10 20], shape=(3,), dtype=int32)\n",
            "tf.Tensor([20 30 40], shape=(3,), dtype=int32)\n",
            "tf.Tensor([100 200 300], shape=(3,), dtype=int32)\n",
            "tf.Tensor([1. 2. 3.], shape=(3,), dtype=float64)\n"
          ]
        }
      ]
    },
    {
      "cell_type": "code",
      "source": [
        "# 여러 원소들의 합\n",
        "print(tf.reduce_sum(vec1))\n",
        "print(tf.reduce_sum(vec2))"
      ],
      "metadata": {
        "colab": {
          "base_uri": "https://localhost:8080/"
        },
        "id": "sowsIlh_eYy1",
        "outputId": "382b0bc2-c407-4fd5-ded6-9925cc1ce4f5"
      },
      "execution_count": 62,
      "outputs": [
        {
          "output_type": "stream",
          "name": "stdout",
          "text": [
            "tf.Tensor(60, shape=(), dtype=int32)\n",
            "tf.Tensor(30, shape=(), dtype=int32)\n"
          ]
        }
      ]
    },
    {
      "cell_type": "code",
      "source": [
        "# 브로드 캐스팅 \n",
        "\n",
        "print(vec1)\n",
        "print(vec1+1)"
      ],
      "metadata": {
        "colab": {
          "base_uri": "https://localhost:8080/"
        },
        "id": "in3VTm8FejQr",
        "outputId": "173fe831-bfd3-47b9-ed38-f25937032d12"
      },
      "execution_count": 64,
      "outputs": [
        {
          "output_type": "stream",
          "name": "stdout",
          "text": [
            "tf.Tensor([10 20 30], shape=(3,), dtype=int32)\n",
            "tf.Tensor([11 21 31], shape=(3,), dtype=int32)\n"
          ]
        }
      ]
    },
    {
      "cell_type": "code",
      "source": [
        ""
      ],
      "metadata": {
        "id": "BpCt3kdte8qI"
      },
      "execution_count": null,
      "outputs": []
    },
    {
      "cell_type": "markdown",
      "source": [
        "# 행렬 Matrix \n",
        "\n",
        "- 행렬은 차수가 1인 즉 벡터를 같은 축 방향으로 여러개를 나열하는 개념\n",
        "- 즉 1차원 벡터 여러개를 원소로 갖는 배열이다 \n",
        "- 텐서플로에서는 랭크-2\n",
        "- pandas에서의 dataframe과 유사"
      ],
      "metadata": {
        "id": "9otnHRMjffqe"
      }
    },
    {
      "cell_type": "code",
      "source": [
        "# 2차원 리스트 생성\n",
        "list = [[10,20],[30,40]]\n",
        "\n",
        "# 텐서 변환\n",
        "mat = tf.constant(list)\n",
        "print(mat)\n",
        "print(tf.rank(mat))"
      ],
      "metadata": {
        "colab": {
          "base_uri": "https://localhost:8080/"
        },
        "id": "lqK2h8DeeysG",
        "outputId": "c6900755-550f-40cf-9997-a3f60bb0ddfa"
      },
      "execution_count": 65,
      "outputs": [
        {
          "output_type": "stream",
          "name": "stdout",
          "text": [
            "tf.Tensor(\n",
            "[[10 20]\n",
            " [30 40]], shape=(2, 2), dtype=int32)\n",
            "tf.Tensor(2, shape=(), dtype=int32)\n"
          ]
        }
      ]
    },
    {
      "cell_type": "code",
      "source": [
        "vec1 = tf.constant([1,0])\n",
        "vec2 = tf.constant([-1, 2])\n",
        "# 텐서 변환\n",
        "mat2 = tf.stack([vec1, vec2])\n",
        "print(mat2)\n",
        "print(tf.rank(mat2))"
      ],
      "metadata": {
        "colab": {
          "base_uri": "https://localhost:8080/"
        },
        "id": "eVfnPvnbgKV1",
        "outputId": "019060ab-8ff8-431d-df39-832d8b9a7100"
      },
      "execution_count": 66,
      "outputs": [
        {
          "output_type": "stream",
          "name": "stdout",
          "text": [
            "tf.Tensor(\n",
            "[[ 1  0]\n",
            " [-1  2]], shape=(2, 2), dtype=int32)\n",
            "tf.Tensor(2, shape=(), dtype=int32)\n"
          ]
        }
      ]
    },
    {
      "cell_type": "code",
      "source": [
        "# 산술 연산\n",
        "mul = tf.math.multiply(mat, mat2)\n",
        "print(mul)\n",
        "print(tf.rank(mul))"
      ],
      "metadata": {
        "colab": {
          "base_uri": "https://localhost:8080/"
        },
        "id": "7fhv-CfFgy6e",
        "outputId": "94a3f250-109f-4d63-b559-81eb8476e868"
      },
      "execution_count": 68,
      "outputs": [
        {
          "output_type": "stream",
          "name": "stdout",
          "text": [
            "tf.Tensor(\n",
            "[[ 10   0]\n",
            " [-30  80]], shape=(2, 2), dtype=int32)\n",
            "tf.Tensor(2, shape=(), dtype=int32)\n"
          ]
        }
      ]
    },
    {
      "cell_type": "code",
      "source": [
        "mul = tf.math.multiply(mat, mat2)\n",
        "subtract = tf.math.subtract(mat, mat2)\n",
        "add = tf.math.add(mat, mat2)\n",
        "mod = tf.math.mod(mat2, mat)\n",
        "\n",
        "print(mul, subtract, add, mod)"
      ],
      "metadata": {
        "colab": {
          "base_uri": "https://localhost:8080/"
        },
        "id": "cxefldERhZAv",
        "outputId": "219a624e-da69-4990-ed36-751efaa39dd2"
      },
      "execution_count": 73,
      "outputs": [
        {
          "output_type": "stream",
          "name": "stdout",
          "text": [
            "tf.Tensor(\n",
            "[[ 10   0]\n",
            " [-30  80]], shape=(2, 2), dtype=int32) tf.Tensor(\n",
            "[[ 9 20]\n",
            " [31 38]], shape=(2, 2), dtype=int32) tf.Tensor(\n",
            "[[11 20]\n",
            " [29 42]], shape=(2, 2), dtype=int32) tf.Tensor(\n",
            "[[ 1  0]\n",
            " [29  2]], shape=(2, 2), dtype=int32)\n"
          ]
        }
      ]
    },
    {
      "cell_type": "code",
      "source": [
        "# 브로드 캐스팅\n",
        "bc = tf. math.multiply(mat, 3)    #각각에 3 곱함\n",
        "bc"
      ],
      "metadata": {
        "colab": {
          "base_uri": "https://localhost:8080/"
        },
        "id": "C1yWPh8uhxFF",
        "outputId": "057d7d0c-a77f-4e15-cf51-ea2f8abfc9e7"
      },
      "execution_count": 74,
      "outputs": [
        {
          "output_type": "execute_result",
          "data": {
            "text/plain": [
              "<tf.Tensor: shape=(2, 2), dtype=int32, numpy=\n",
              "array([[ 30,  60],\n",
              "       [ 90, 120]], dtype=int32)>"
            ]
          },
          "metadata": {},
          "execution_count": 74
        }
      ]
    },
    {
      "cell_type": "code",
      "source": [
        "add2 = mat + mat2\n",
        "add2"
      ],
      "metadata": {
        "colab": {
          "base_uri": "https://localhost:8080/"
        },
        "id": "hXFtHsmUiLcP",
        "outputId": "48f85ffe-aa51-4c85-cff8-4118c6efb60a"
      },
      "execution_count": 75,
      "outputs": [
        {
          "output_type": "execute_result",
          "data": {
            "text/plain": [
              "<tf.Tensor: shape=(2, 2), dtype=int32, numpy=\n",
              "array([[11, 20],\n",
              "       [29, 42]], dtype=int32)>"
            ]
          },
          "metadata": {},
          "execution_count": 75
        }
      ]
    },
    {
      "cell_type": "code",
      "source": [
        "# 텐서를 넘파이로 변환\n",
        "\n",
        "np_arr = mat.numpy()\n",
        "np_arr"
      ],
      "metadata": {
        "colab": {
          "base_uri": "https://localhost:8080/"
        },
        "id": "aJyGwjFAiY3I",
        "outputId": "7696c30c-5182-46fb-fe46-cf937687d0e5"
      },
      "execution_count": 76,
      "outputs": [
        {
          "output_type": "execute_result",
          "data": {
            "text/plain": [
              "array([[10, 20],\n",
              "       [30, 40]], dtype=int32)"
            ]
          },
          "metadata": {},
          "execution_count": 76
        }
      ]
    },
    {
      "cell_type": "code",
      "source": [
        "type(np_arr)"
      ],
      "metadata": {
        "colab": {
          "base_uri": "https://localhost:8080/"
        },
        "id": "dDvDShtCi0xC",
        "outputId": "5a72e4b2-1ca5-4b7c-833c-722e160dcaa8"
      },
      "execution_count": 77,
      "outputs": [
        {
          "output_type": "execute_result",
          "data": {
            "text/plain": [
              "numpy.ndarray"
            ]
          },
          "metadata": {},
          "execution_count": 77
        }
      ]
    },
    {
      "cell_type": "markdown",
      "source": [
        "# indexing 인덱싱 : 위치를 기준으로 원소를 추출하는 방법\n",
        "- 파이썬 리스트 또는 넘파이 배열의 인덱싱과 유사\n",
        "- 0부터 시작하고 마지막은 -1로 나타냄\n",
        "- 하나만 추출뿐 아니라 여러 원소를 추출하는 슬라이싱 slicing도 가능\n"
      ],
      "metadata": {
        "id": "4T-BxdPanX6m"
      }
    },
    {
      "cell_type": "code",
      "source": [
        "vec = tf.constant([10,20,30,40,50])\n",
        "print(vec)    #5개 원소의 1차원 텐서인 벡터 작성"
      ],
      "metadata": {
        "colab": {
          "base_uri": "https://localhost:8080/"
        },
        "id": "aagn9Z1mi3Mm",
        "outputId": "98f3680e-9f7a-4747-a6ce-f71cc7da38ef"
      },
      "execution_count": 78,
      "outputs": [
        {
          "output_type": "stream",
          "name": "stdout",
          "text": [
            "tf.Tensor([10 20 30 40 50], shape=(5,), dtype=int32)\n"
          ]
        }
      ]
    },
    {
      "cell_type": "code",
      "source": [
        "print(vec[0])"
      ],
      "metadata": {
        "colab": {
          "base_uri": "https://localhost:8080/"
        },
        "id": "luuqTxeonvpe",
        "outputId": "8dcd1031-3f15-477a-f83e-96deeb879fcd"
      },
      "execution_count": 80,
      "outputs": [
        {
          "output_type": "stream",
          "name": "stdout",
          "text": [
            "tf.Tensor(10, shape=(), dtype=int32)\n"
          ]
        }
      ]
    },
    {
      "cell_type": "code",
      "source": [
        "print(vec[-1])"
      ],
      "metadata": {
        "colab": {
          "base_uri": "https://localhost:8080/"
        },
        "id": "YhJB1q5_oA-e",
        "outputId": "5a154371-3e23-4596-8a8f-ec9800891504"
      },
      "execution_count": 81,
      "outputs": [
        {
          "output_type": "stream",
          "name": "stdout",
          "text": [
            "tf.Tensor(50, shape=(), dtype=int32)\n"
          ]
        }
      ]
    },
    {
      "cell_type": "code",
      "source": [
        "print(vec[:3])"
      ],
      "metadata": {
        "colab": {
          "base_uri": "https://localhost:8080/"
        },
        "id": "H7qHrmcvoNT7",
        "outputId": "57a41509-45c8-4650-f0e6-9988c076f755"
      },
      "execution_count": 82,
      "outputs": [
        {
          "output_type": "stream",
          "name": "stdout",
          "text": [
            "tf.Tensor([10 20 30], shape=(3,), dtype=int32)\n"
          ]
        }
      ]
    },
    {
      "cell_type": "code",
      "source": [
        "mat = tf.constant([[10,20,30],\n",
        "                  [40,50,60]])\n",
        "print(mat)\n",
        "                "
      ],
      "metadata": {
        "colab": {
          "base_uri": "https://localhost:8080/"
        },
        "id": "i4XmOkNDobv9",
        "outputId": "7016b00b-d67e-4b2c-8dee-97daad408c4f"
      },
      "execution_count": 84,
      "outputs": [
        {
          "output_type": "stream",
          "name": "stdout",
          "text": [
            "tf.Tensor(\n",
            "[[10 20 30]\n",
            " [40 50 60]], shape=(2, 3), dtype=int32)\n"
          ]
        }
      ]
    },
    {
      "cell_type": "code",
      "source": [
        "print(mat[0,:])   # : 모든 열 0번째 행"
      ],
      "metadata": {
        "colab": {
          "base_uri": "https://localhost:8080/"
        },
        "id": "lAYRSDzIor9o",
        "outputId": "82346976-8d99-4e69-9532-fd72627d749c"
      },
      "execution_count": 85,
      "outputs": [
        {
          "output_type": "stream",
          "name": "stdout",
          "text": [
            "tf.Tensor([10 20 30], shape=(3,), dtype=int32)\n"
          ]
        }
      ]
    },
    {
      "cell_type": "code",
      "source": [
        "print(mat[:, 1])     # 모든 행, 열 1 만 출력 "
      ],
      "metadata": {
        "colab": {
          "base_uri": "https://localhost:8080/"
        },
        "id": "Iphspvvqo800",
        "outputId": "bd519398-fff9-4f97-9283-d4f4fcd523d2"
      },
      "execution_count": 86,
      "outputs": [
        {
          "output_type": "stream",
          "name": "stdout",
          "text": [
            "tf.Tensor([20 50], shape=(2,), dtype=int32)\n"
          ]
        }
      ]
    },
    {
      "cell_type": "code",
      "source": [
        "# 형태 변환 reshape\n",
        "# 앞으로의 머신러닝, 딥러닝에서 텐서 형태를 변환하는 것 매우 중요\n",
        "\n",
        "tensor = tf.constant(range(0,24))\n",
        "tensor"
      ],
      "metadata": {
        "colab": {
          "base_uri": "https://localhost:8080/"
        },
        "id": "O1LKS_fFpC7I",
        "outputId": "16ae3f27-a953-49cb-ed7f-f5a747f5741a"
      },
      "execution_count": 88,
      "outputs": [
        {
          "output_type": "execute_result",
          "data": {
            "text/plain": [
              "<tf.Tensor: shape=(24,), dtype=int32, numpy=\n",
              "array([ 0,  1,  2,  3,  4,  5,  6,  7,  8,  9, 10, 11, 12, 13, 14, 15, 16,\n",
              "       17, 18, 19, 20, 21, 22, 23], dtype=int32)>"
            ]
          },
          "metadata": {},
          "execution_count": 88
        }
      ]
    },
    {
      "cell_type": "code",
      "source": [
        "# (24, ) -> (3,8)\n",
        "tensor1 = tf.reshape(tensor, [3,8])\n",
        "print(tensor1)"
      ],
      "metadata": {
        "colab": {
          "base_uri": "https://localhost:8080/"
        },
        "id": "FIYWjJgIqK6I",
        "outputId": "b27823d5-677c-403f-b50d-d7be2804b76c"
      },
      "execution_count": 89,
      "outputs": [
        {
          "output_type": "stream",
          "name": "stdout",
          "text": [
            "tf.Tensor(\n",
            "[[ 0  1  2  3  4  5  6  7]\n",
            " [ 8  9 10 11 12 13 14 15]\n",
            " [16 17 18 19 20 21 22 23]], shape=(3, 8), dtype=int32)\n"
          ]
        }
      ]
    },
    {
      "cell_type": "code",
      "source": [
        "# -1을 지정하면 '어떤 값이 와도 상관없다.'\n",
        "tensor2 = tf.reshape(tensor1,[-1, 4])\n",
        "print(tensor2)"
      ],
      "metadata": {
        "colab": {
          "base_uri": "https://localhost:8080/"
        },
        "id": "ZQG2KT5-qhbT",
        "outputId": "80fe58de-0176-4c97-b17a-9a7d18320a19"
      },
      "execution_count": 92,
      "outputs": [
        {
          "output_type": "stream",
          "name": "stdout",
          "text": [
            "tf.Tensor(\n",
            "[[ 0  1  2  3]\n",
            " [ 4  5  6  7]\n",
            " [ 8  9 10 11]\n",
            " [12 13 14 15]\n",
            " [16 17 18 19]\n",
            " [20 21 22 23]], shape=(6, 4), dtype=int32)\n"
          ]
        }
      ]
    },
    {
      "cell_type": "code",
      "source": [
        "# 배열을 구성하는 원소가 매우 많고 배열 구조를 알지 못할때\n",
        "# -1 을 사용하면 편리하다\n",
        "tensor3 = tf.reshape(tensor2, [-1])\n",
        "print(tensor3)"
      ],
      "metadata": {
        "colab": {
          "base_uri": "https://localhost:8080/"
        },
        "id": "IPjjb1EFq9RT",
        "outputId": "b0eae958-be36-4129-c71e-21feafc19f64"
      },
      "execution_count": 94,
      "outputs": [
        {
          "output_type": "stream",
          "name": "stdout",
          "text": [
            "tf.Tensor([ 0  1  2  3  4  5  6  7  8  9 10 11 12 13 14 15 16 17 18 19 20 21 22 23], shape=(24,), dtype=int32)\n"
          ]
        }
      ]
    },
    {
      "cell_type": "code",
      "source": [
        "# 다차원 텐서 \n",
        "tensor4 = tf.reshape(tensor3, [-1, 3, 4])\n",
        "print(tensor4)"
      ],
      "metadata": {
        "colab": {
          "base_uri": "https://localhost:8080/"
        },
        "id": "UFzd-RrYrYJW",
        "outputId": "b7d57b3e-6019-4f60-bc68-9796b72abe34"
      },
      "execution_count": 96,
      "outputs": [
        {
          "output_type": "stream",
          "name": "stdout",
          "text": [
            "tf.Tensor(\n",
            "[[[ 0  1  2  3]\n",
            "  [ 4  5  6  7]\n",
            "  [ 8  9 10 11]]\n",
            "\n",
            " [[12 13 14 15]\n",
            "  [16 17 18 19]\n",
            "  [20 21 22 23]]], shape=(2, 3, 4), dtype=int32)\n"
          ]
        }
      ]
    },
    {
      "cell_type": "code",
      "source": [
        "tensor5 = tf.reshape(tensor4, [3,2,4])\n",
        "print(tensor5)"
      ],
      "metadata": {
        "colab": {
          "base_uri": "https://localhost:8080/"
        },
        "id": "np3-IyeArV3i",
        "outputId": "459fae83-cfc1-497e-bc3a-fd079d390823"
      },
      "execution_count": 97,
      "outputs": [
        {
          "output_type": "stream",
          "name": "stdout",
          "text": [
            "tf.Tensor(\n",
            "[[[ 0  1  2  3]\n",
            "  [ 4  5  6  7]]\n",
            "\n",
            " [[ 8  9 10 11]\n",
            "  [12 13 14 15]]\n",
            "\n",
            " [[16 17 18 19]\n",
            "  [20 21 22 23]]], shape=(3, 2, 4), dtype=int32)\n"
          ]
        }
      ]
    },
    {
      "cell_type": "code",
      "source": [
        "tensor6 = tf.reshape(tensor5, [3,2,2,2])\n",
        "print(tensor6)"
      ],
      "metadata": {
        "colab": {
          "base_uri": "https://localhost:8080/"
        },
        "id": "NMNjnp0SsLax",
        "outputId": "df98dd3e-e543-4928-a96f-c8bd458224a2"
      },
      "execution_count": 98,
      "outputs": [
        {
          "output_type": "stream",
          "name": "stdout",
          "text": [
            "tf.Tensor(\n",
            "[[[[ 0  1]\n",
            "   [ 2  3]]\n",
            "\n",
            "  [[ 4  5]\n",
            "   [ 6  7]]]\n",
            "\n",
            "\n",
            " [[[ 8  9]\n",
            "   [10 11]]\n",
            "\n",
            "  [[12 13]\n",
            "   [14 15]]]\n",
            "\n",
            "\n",
            " [[[16 17]\n",
            "   [18 19]]\n",
            "\n",
            "  [[20 21]\n",
            "   [22 23]]]], shape=(3, 2, 2, 2), dtype=int32)\n"
          ]
        }
      ]
    },
    {
      "cell_type": "markdown",
      "source": [
        "\n",
        "# tf.Variable 변수\n",
        "\n",
        "- 텐서 플로는 그래프 구조를 이용하여 복잡한 미분 연산을 한다. 이때 수많은 미분연산을 반복하게 된다. 이때 각각의 중간 연산 결과를 저장하는 용도로도 변수를 이용하게 된다. 모델을 학습하는 중간 단계마다 모델의 가중치를 변수에 저장하고 계속 반복하면서 변수 값을 업데이트한다 \n"
      ],
      "metadata": {
        "id": "1ikOEUYSstk4"
      }
    },
    {
      "cell_type": "code",
      "source": [
        "tensor1 = tf.constant([[0,2,3],[3,4,5]])\n",
        "print(tensor1)"
      ],
      "metadata": {
        "colab": {
          "base_uri": "https://localhost:8080/"
        },
        "id": "NwVNK8dLsfta",
        "outputId": "f826b90e-a172-4737-8d97-95262759dc32"
      },
      "execution_count": 100,
      "outputs": [
        {
          "output_type": "stream",
          "name": "stdout",
          "text": [
            "tf.Tensor(\n",
            "[[0 2 3]\n",
            " [3 4 5]], shape=(2, 3), dtype=int32)\n"
          ]
        }
      ]
    },
    {
      "cell_type": "code",
      "source": [
        "tensor_var1 = tf.Variable(tensor1)\n",
        "print(tensor_var1)"
      ],
      "metadata": {
        "colab": {
          "base_uri": "https://localhost:8080/"
        },
        "id": "w1Pj5dgEtKd_",
        "outputId": "de99b923-5b1a-49a3-d51e-e29e096e1c65"
      },
      "execution_count": 101,
      "outputs": [
        {
          "output_type": "stream",
          "name": "stdout",
          "text": [
            "<tf.Variable 'Variable:0' shape=(2, 3) dtype=int32, numpy=\n",
            "array([[0, 2, 3],\n",
            "       [3, 4, 5]], dtype=int32)>\n"
          ]
        }
      ]
    },
    {
      "cell_type": "code",
      "source": [
        "tensor_var1.name"
      ],
      "metadata": {
        "colab": {
          "base_uri": "https://localhost:8080/",
          "height": 36
        },
        "id": "N-_fOcnMtbXG",
        "outputId": "528107ff-b81a-4bcb-8bbf-d74974632078"
      },
      "execution_count": 102,
      "outputs": [
        {
          "output_type": "execute_result",
          "data": {
            "application/vnd.google.colaboratory.intrinsic+json": {
              "type": "string"
            },
            "text/plain": [
              "'Variable:0'"
            ]
          },
          "metadata": {},
          "execution_count": 102
        }
      ]
    },
    {
      "cell_type": "code",
      "source": [
        "tensor_var1.shape\n"
      ],
      "metadata": {
        "colab": {
          "base_uri": "https://localhost:8080/"
        },
        "id": "lS6IKz5Mt-eK",
        "outputId": "42bf8bf3-b8f8-4aca-bace-de37b1fbe474"
      },
      "execution_count": 104,
      "outputs": [
        {
          "output_type": "execute_result",
          "data": {
            "text/plain": [
              "TensorShape([2, 3])"
            ]
          },
          "metadata": {},
          "execution_count": 104
        }
      ]
    },
    {
      "cell_type": "code",
      "source": [
        "tensor_var1.dtype"
      ],
      "metadata": {
        "colab": {
          "base_uri": "https://localhost:8080/"
        },
        "id": "mUcUZU3iuAWg",
        "outputId": "762d9441-285e-4636-e76a-8ac6381b5e58"
      },
      "execution_count": 105,
      "outputs": [
        {
          "output_type": "execute_result",
          "data": {
            "text/plain": [
              "tf.int32"
            ]
          },
          "metadata": {},
          "execution_count": 105
        }
      ]
    },
    {
      "cell_type": "code",
      "source": [
        "tensor_var1.numpy()\n",
        "\n",
        "# 변수로 설정하면 변수의 이름 크기 자료형 배열을 확인할 수 있다. "
      ],
      "metadata": {
        "colab": {
          "base_uri": "https://localhost:8080/"
        },
        "id": "QktdFfKKuEma",
        "outputId": "add43027-3e7b-434a-c99b-c8815830f23c"
      },
      "execution_count": 106,
      "outputs": [
        {
          "output_type": "execute_result",
          "data": {
            "text/plain": [
              "array([[0, 2, 3],\n",
              "       [3, 4, 5]], dtype=int32)"
            ]
          },
          "metadata": {},
          "execution_count": 106
        }
      ]
    },
    {
      "cell_type": "code",
      "source": [
        "# assig() 매소드를 이용하여 변수에 새로운 데이터를 할당 할수도 잇다\n"
      ],
      "metadata": {
        "id": "6HfD9EmquGTo"
      },
      "execution_count": 108,
      "outputs": []
    },
    {
      "cell_type": "code",
      "source": [
        "tensor_var1.assign([[1,1,1],[2,2,2]])\n",
        "print(tensor_var1)"
      ],
      "metadata": {
        "colab": {
          "base_uri": "https://localhost:8080/"
        },
        "id": "PXMEMGgmuZsC",
        "outputId": "97ff5fa4-10a9-43ff-b55d-4152e7b52266"
      },
      "execution_count": 110,
      "outputs": [
        {
          "output_type": "stream",
          "name": "stdout",
          "text": [
            "<tf.Variable 'Variable:0' shape=(2, 3) dtype=int32, numpy=\n",
            "array([[1, 1, 1],\n",
            "       [2, 2, 2]], dtype=int32)>\n"
          ]
        }
      ]
    },
    {
      "cell_type": "code",
      "source": [
        "# convert_to_tensor() 함수를 사용하면 변수를 텐서로 변환할 수 있다\n",
        "# 텐서로 변환하고 나면 그 텐서의 크기와 값을 변경할 수 없다. \n",
        "\n",
        "tensor2 = tf.convert_to_tensor(tensor_var1)\n",
        "print(tensor2)"
      ],
      "metadata": {
        "colab": {
          "base_uri": "https://localhost:8080/"
        },
        "id": "YYlDrcaYulhU",
        "outputId": "90ce5969-d6b6-49c3-e589-dcb6832b11e9"
      },
      "execution_count": 111,
      "outputs": [
        {
          "output_type": "stream",
          "name": "stdout",
          "text": [
            "tf.Tensor(\n",
            "[[1 1 1]\n",
            " [2 2 2]], shape=(2, 3), dtype=int32)\n"
          ]
        }
      ]
    },
    {
      "cell_type": "code",
      "source": [
        "# 특히 텐서 변수는 name 속성을 가질 수 있다.\n",
        "tensor_var2 = tf.Variable(tensor2, name='New Name')\n",
        "print(tensor_var2)"
      ],
      "metadata": {
        "colab": {
          "base_uri": "https://localhost:8080/"
        },
        "id": "gxrlCl9Nui8A",
        "outputId": "9a0516c8-a1af-412b-d671-e73b380bf98e"
      },
      "execution_count": 113,
      "outputs": [
        {
          "output_type": "stream",
          "name": "stdout",
          "text": [
            "<tf.Variable 'New Name:0' shape=(2, 3) dtype=int32, numpy=\n",
            "array([[1, 1, 1],\n",
            "       [2, 2, 2]], dtype=int32)>\n"
          ]
        }
      ]
    },
    {
      "cell_type": "code",
      "source": [
        "# 텐서 변수도 텐서 연산과 동일하게 사칙연산 등의 계산을 처리할 수 있다\n",
        "tensor_var1 + tensor_var2"
      ],
      "metadata": {
        "colab": {
          "base_uri": "https://localhost:8080/"
        },
        "id": "knAKxuXSv5-d",
        "outputId": "71a3ff5d-f2c4-4c45-c3ea-0bb9e8f8e98b"
      },
      "execution_count": 115,
      "outputs": [
        {
          "output_type": "execute_result",
          "data": {
            "text/plain": [
              "<tf.Tensor: shape=(2, 3), dtype=int32, numpy=\n",
              "array([[2, 2, 2],\n",
              "       [4, 4, 4]], dtype=int32)>"
            ]
          },
          "metadata": {},
          "execution_count": 115
        }
      ]
    },
    {
      "cell_type": "markdown",
      "source": [
        "# 자동 미분 automatic differentiation \n",
        "\n",
        "- 텐서플로는 딥러닝 모델을 구성하는 복잡한 인공 신경망의 각 노드에서 계산되는 미분을 자동으로 계산해준다. 특히 각 변수의 기울기에 해당하는 그래디언트를 계산하는데 특화되어 있다\n"
      ],
      "metadata": {
        "id": "t70JmJMSw7Cw"
      }
    },
    {
      "cell_type": "code",
      "source": [
        "# y = 3x - 2  함수식에서 기울기와 y절편 값을 텐서 자동 미분을 통해 계산\n",
        "\n",
        "# y = 3x - 2 \n",
        "g = tf.random.Generator.from_seed(2020)\n",
        "X = g.normal(shape=(10,))\n",
        "Y = 3 * X - 2\n",
        "print(X.numpy())\n",
        "print(Y.numpy())"
      ],
      "metadata": {
        "colab": {
          "base_uri": "https://localhost:8080/"
        },
        "id": "OYhMcDCnwReX",
        "outputId": "ff9dc85b-88cb-4554-ab7b-65350dc4ce99"
      },
      "execution_count": 117,
      "outputs": [
        {
          "output_type": "stream",
          "name": "stdout",
          "text": [
            "[-0.20943771  1.2746525   1.213214   -0.17576952  1.876984    0.16379918\n",
            "  1.082245    0.6199966  -0.44402212  1.3048344 ]\n",
            "[-2.628313    1.8239574   1.6396422  -2.5273085   3.630952   -1.5086024\n",
            "  1.2467351  -0.14001012 -3.3320663   1.9145031 ]\n"
          ]
        }
      ]
    },
    {
      "cell_type": "markdown",
      "source": [
        "# Keras \n",
        "- 딥러닝 라이브러리들을 쉽고 간결하게 사용할 수 있도록 하는 것이 목적\n",
        "- 케라스 2.3까지는 다른 딥러닝 라이브러리들도 지원했지만 2.4부터는 더이상 다른 라이브러리 지원하지 않고 오직 텐서플로만 지원\n",
        "\n",
        "# 하이퍼파라미터 hyper parameter\n",
        "- 파이썬에서의 하이퍼파라미터와는 다른 의미를 가진다. 하이퍼 파라미터는 딥러닝뿐 아니라 머신러닝 모델을 훈련할때 사용자가 직접 설정해주는 설정 값을 뜻한다. \n",
        "- 가중치weights 변향bias는 자동으로 업데이트 되지만 학습 속도나 반복 훈련 횟수 등 사용자가 직접 설정해야 하는 값들이 많다. 사용자가 어떤 값을 설정하느냐에 따라 모델의 성능과 결과가 많이 달라진다. 따라서 매우 중요하다 \n",
        "\n",
        "# 과소 적합 unerfitting vs 과대 적합 overfitting \n",
        "\n",
        "# 에포크 (epoch) \n",
        "- 딥러닝은 데이터셋을 학습하는 과정을 엄청나게 많이 반복하면서 최적의 모델 가중치를 찾는 과정이다. 반복 훈련을 할때 데이터셋을 전부 학습에 사용하는 1회의 훈련 루프를 1 epoch\n",
        "- 특히 에폭은 중요한 파라미터이다. 과소적합이라고 판단되면 epoch를 늘려서 다시 학습시킬 필요가 있다\n",
        "- 과대적합이라고 판단되면 epoch를 줄여서 학습을 조기 종료 시키는 것이 과대 적합을 방지하는 하나의 방법이다\n",
        "\n",
        "# 손실 함수 loss function\n",
        "- 예측 값과 정답 간의 차이 또는 오차 \n",
        "- 출력값과 실제값의 차이 0 "
      ],
      "metadata": {
        "id": "k_krlbpr1b88"
      }
    },
    {
      "cell_type": "code",
      "source": [
        "import numpy as np\n",
        "import matplotlib.pyplot as plt\n",
        "\n",
        "def make_linear(w=0.5, b=0.8, size = 50, noise=1.0):\n",
        "  x = np.random.rand(size)\n",
        "  y = w * x + b\n",
        "  noise = np.random.uniform(-abs(noise), abs(noise), size=y.shape)\n",
        "  yy = y + noise\n",
        "  plt.figure(figsize=(10,7))\n",
        "  plt.plot(x,y,color='r',label = f'y={w}*x+{b}')\n",
        "  plt.scatter(x,yy, label='data')\n",
        "  plt.legend(fontsize=20)\n",
        "  plt.show()\n",
        "  print(f'w:{w}, b:{b}')\n",
        "  return x, yy\n",
        "\n",
        "x,y = make_linear(w=0.3, b=0.5, size=100, noise=0.01)\n",
        "# 생성된 y 데이터는 y = 0.3x + 0.5 식과 완전히 일치하지 않고 \n",
        "# 약간의 노이즈가 추가되었다. "
      ],
      "metadata": {
        "colab": {
          "base_uri": "https://localhost:8080/",
          "height": 447
        },
        "id": "FXuNz92qxgIO",
        "outputId": "b1cb8cd7-c980-45ec-ac25-3f782863d500"
      },
      "execution_count": 119,
      "outputs": [
        {
          "output_type": "display_data",
          "data": {
            "image/png": "[encoded data removed]",
            "text/plain": [
              "<Figure size 720x504 with 1 Axes>"
            ]
          },
          "metadata": {
            "needs_background": "light"
          }
        },
        {
          "output_type": "stream",
          "name": "stdout",
          "text": [
            "w:0.3, b:0.5\n"
          ]
        }
      ]
    },
    {
      "cell_type": "code",
      "source": [
        "# 딥러닝 프로세스\n",
        "\n",
        "# : 데이터 로드 -> 데이터 전처리 -> 데이터 분할 -> 모델 생성 -> 훈련 -> 검증 -> 예측-"
      ],
      "metadata": {
        "id": "RdTbJLwi5ju7"
      },
      "execution_count": null,
      "outputs": []
    },
    {
      "cell_type": "code",
      "source": [
        "import numpy as np\n",
        "\n",
        "x = np.arange(1,6)\n",
        "y = 3*x + 2 \n",
        "print(x)\n",
        "print(y)"
      ],
      "metadata": {
        "colab": {
          "base_uri": "https://localhost:8080/"
        },
        "id": "rpSUQrRz6zw1",
        "outputId": "b14b8df5-38a9-4968-8a3c-4bf4bc7967cd"
      },
      "execution_count": 121,
      "outputs": [
        {
          "output_type": "stream",
          "name": "stdout",
          "text": [
            "[1 2 3 4 5]\n",
            "[ 5  8 11 14 17]\n"
          ]
        }
      ]
    },
    {
      "cell_type": "code",
      "source": [
        "plt.plot(x,y)"
      ],
      "metadata": {
        "colab": {
          "base_uri": "https://localhost:8080/",
          "height": 284
        },
        "id": "xXnbvcVA7jMy",
        "outputId": "9b272483-7079-450c-989b-5d61a9484be2"
      },
      "execution_count": 122,
      "outputs": [
        {
          "output_type": "execute_result",
          "data": {
            "text/plain": [
              "[<matplotlib.lines.Line2D at 0x7f8dbee919d0>]"
            ]
          },
          "metadata": {},
          "execution_count": 122
        },
        {
          "output_type": "display_data",
          "data": {
            "image/png": "[encoded data removed]",
            "text/plain": [
              "<Figure size 432x288 with 1 Axes>"
            ]
          },
          "metadata": {
            "needs_background": "light"
          }
        }
      ]
    },
    {
      "cell_type": "markdown",
      "source": [
        "# 텐서플로 케라스는 세가지 방식으로 모델을 생성한다. \n",
        "- 그 중 제일 간결한 Sequential API 방식을 사용하면 쉽게 만들수 있다.\n",
        "- 층을 이어 붙이듯 일렬로 연결하는 방식이다. \n",
        "- 따라서 입력 레이어부터 \n",
        "출력 레이어까지 순서를 갖는다. \n",
        "- 입력 데이터는 시퀀스에 가장 앞에 위치하고 순서대로 각 층을 하나씩 통과하면서 딥러닝 연산을 수행하게 된다\n",
        "- 직관적으로 구조를 이해할 수 있기 때문에 케라스 중 가장 간단한 방법이다 \n",
        "- 2개 이상의 다중 입력이나 다중 출력을 갖는 복잡한 구조를 만들 수는 없다 \n"
      ],
      "metadata": {
        "id": "sWAruKWH8M4L"
      }
    },
    {
      "cell_type": "code",
      "source": [
        "model = tf.keras.Sequential([\n",
        "        tf.keras.layers.Dense(10),\n",
        "        tf.keras.layers.Dense(5),\n",
        "        tf.keras.layers.Dense(1)\n",
        "])"
      ],
      "metadata": {
        "id": "gOSYsjjO7o8L"
      },
      "execution_count": 123,
      "outputs": []
    },
    {
      "cell_type": "code",
      "source": [
        "# add 함수를 통해서 추가로 층을 추가할 수 있다\n",
        "model = tf.keras.Sequential()\n",
        "model.add(tf.keras.layers.Dense(10))\n",
        "model.add(tf.keras.layers.Dense(5))\n",
        "model.add(tf.keras.layers.Dense(1))"
      ],
      "metadata": {
        "id": "-Q8wMQre9K2M"
      },
      "execution_count": 124,
      "outputs": []
    },
    {
      "cell_type": "code",
      "source": [
        "#Sequential API 를 사용하여 모델을 구성할 때는 반드시 첫번째 층은\n",
        "#input_shape 매개변수를 지정해야 한다. \n",
        "#input_shape 매개변수는 주일할 데이터 셋의 shape을 튜플 혹은 리스트로 지정할 수 있다\n",
        "# 예를 들면 데이터셋의 shape이 (150, 4)로 구성되었다고 가정하면 \n",
        "# input_shape은 (4,) 혹은 [4]로 지정한다 \n",
        "\n",
        "model = tf.keras.Sequential([\n",
        "        tf.keras.layers.Dense(10, input_shape=[4]),\n",
        "        tf.keras.layers.Dense(5),\n",
        "        tf.keras.layers.Dense(1),\n",
        "])"
      ],
      "metadata": {
        "id": "URjCfpPh94RA"
      },
      "execution_count": 133,
      "outputs": []
    },
    {
      "cell_type": "code",
      "source": [
        "# 단순선형회귀모델\n",
        "model = tf.keras.Sequential([\n",
        "        tf.keras.layers.Dense(1, input_shape=[1])\n",
        "])"
      ],
      "metadata": {
        "id": "IbsU7yT7_Ms8"
      },
      "execution_count": 134,
      "outputs": []
    },
    {
      "cell_type": "code",
      "source": [
        "model.summary()\n",
        "# 모델의 요약 : 구조를 확인할 수 있고 층별 노드의 개수가 표기된다. \n",
        "#               하단에는 훈련시 업데이트 할 파라미터의 개수가 표시된다. \n",
        "# Total params 모델 내부에 존재하는 모든 파라미터의 합계\n",
        "# Trainable params 모델 훈련 시 업데이트 할 파라미터의 홍 개수\n",
        "# Non ---- 훈련시 업데이트 하지 않을 파라미터의 총 개수\n",
        "# 단순선형회귀 모델에서는 업데이트 파라미터가 가중치 w편향 b두개이다.\n",
        "# 따라서 총 Param의 개수가 2개로 표기되는 것을 확인할 수 있다 "
      ],
      "metadata": {
        "colab": {
          "base_uri": "https://localhost:8080/"
        },
        "id": "s4VEPSnw_aBn",
        "outputId": "67a4ab64-5c1f-420f-9959-ab520ab8ebf8"
      },
      "execution_count": 138,
      "outputs": [
        {
          "output_type": "stream",
          "name": "stdout",
          "text": [
            "Model: \"sequential_10\"\n",
            "_________________________________________________________________\n",
            " Layer (type)                Output Shape              Param #   \n",
            "=================================================================\n",
            " dense_22 (Dense)            (None, 1)                 2         \n",
            "                                                                 \n",
            "=================================================================\n",
            "Total params: 2\n",
            "Trainable params: 2\n",
            "Non-trainable params: 0\n",
            "_________________________________________________________________\n"
          ]
        }
      ]
    },
    {
      "cell_type": "code",
      "source": [
        "# 컴파일\n",
        "model.compile(optimizer='sgd', loss='mse', metrics=['mse','mae'])\n",
        "# sgd 경사하강법 - 최적화 방법\n",
        "# 평가 지표와 손실 함수 : mse 평균 제곱 오차    mae 평균 절대 오차 "
      ],
      "metadata": {
        "id": "Opo4C50lDoH0"
      },
      "execution_count": 143,
      "outputs": []
    },
    {
      "cell_type": "code",
      "source": [
        "history = model.fit(x,y, epochs=1000)"
      ],
      "metadata": {
        "colab": {
          "base_uri": "https://localhost:8080/"
        },
        "id": "bb0mZ3MrCZxo",
        "outputId": "dbc84716-ce2a-469c-ed00-42d3f4b0baba"
      },
      "execution_count": 146,
      "outputs": [
        {
          "output_type": "stream",
          "name": "stdout",
          "text": [
            "Epoch 1/1000\n",
            "1/1 [==============================] - 0s 12ms/step - loss: 0.6926 - mse: 0.6926 - mae: 0.8051\n",
            "Epoch 2/1000\n",
            "1/1 [==============================] - 0s 10ms/step - loss: 0.5115 - mse: 0.5115 - mae: 0.6620\n",
            "Epoch 3/1000\n",
            "1/1 [==============================] - 0s 13ms/step - loss: 0.4052 - mse: 0.4052 - mae: 0.5525\n",
            "Epoch 4/1000\n",
            "1/1 [==============================] - 0s 12ms/step - loss: 0.3426 - mse: 0.3426 - mae: 0.4795\n",
            "Epoch 5/1000\n",
            "1/1 [==============================] - 0s 16ms/step - loss: 0.3053 - mse: 0.3053 - mae: 0.4556\n",
            "Epoch 6/1000\n",
            "1/1 [==============================] - 0s 14ms/step - loss: 0.2829 - mse: 0.2829 - mae: 0.4371\n",
            "Epoch 7/1000\n",
            "1/1 [==============================] - 0s 11ms/step - loss: 0.2692 - mse: 0.2692 - mae: 0.4227\n",
            "Epoch 8/1000\n",
            "1/1 [==============================] - 0s 13ms/step - loss: 0.2604 - mse: 0.2604 - mae: 0.4146\n",
            "Epoch 9/1000\n",
            "1/1 [==============================] - 0s 11ms/step - loss: 0.2546 - mse: 0.2546 - mae: 0.4167\n",
            "Epoch 10/1000\n",
            "1/1 [==============================] - 0s 13ms/step - loss: 0.2506 - mse: 0.2506 - mae: 0.4180\n",
            "Epoch 11/1000\n",
            "1/1 [==============================] - 0s 12ms/step - loss: 0.2475 - mse: 0.2475 - mae: 0.4186\n",
            "Epoch 12/1000\n",
            "1/1 [==============================] - 0s 12ms/step - loss: 0.2450 - mse: 0.2450 - mae: 0.4188\n",
            "Epoch 13/1000\n",
            "1/1 [==============================] - 0s 13ms/step - loss: 0.2429 - mse: 0.2429 - mae: 0.4186\n",
            "Epoch 14/1000\n",
            "1/1 [==============================] - 0s 11ms/step - loss: 0.2410 - mse: 0.2410 - mae: 0.4181\n",
            "Epoch 15/1000\n",
            "1/1 [==============================] - 0s 21ms/step - loss: 0.2392 - mse: 0.2392 - mae: 0.4173\n",
            "Epoch 16/1000\n",
            "1/1 [==============================] - 0s 14ms/step - loss: 0.2375 - mse: 0.2375 - mae: 0.4165\n",
            "Epoch 17/1000\n",
            "1/1 [==============================] - 0s 10ms/step - loss: 0.2359 - mse: 0.2359 - mae: 0.4155\n",
            "Epoch 18/1000\n",
            "1/1 [==============================] - 0s 17ms/step - loss: 0.2342 - mse: 0.2342 - mae: 0.4144\n",
            "Epoch 19/1000\n",
            "1/1 [==============================] - 0s 9ms/step - loss: 0.2326 - mse: 0.2326 - mae: 0.4132\n",
            "Epoch 20/1000\n",
            "1/1 [==============================] - 0s 12ms/step - loss: 0.2311 - mse: 0.2311 - mae: 0.4120\n",
            "Epoch 21/1000\n",
            "1/1 [==============================] - 0s 14ms/step - loss: 0.2295 - mse: 0.2295 - mae: 0.4107\n",
            "Epoch 22/1000\n",
            "1/1 [==============================] - 0s 10ms/step - loss: 0.2279 - mse: 0.2279 - mae: 0.4094\n",
            "Epoch 23/1000\n",
            "1/1 [==============================] - 0s 14ms/step - loss: 0.2264 - mse: 0.2264 - mae: 0.4081\n",
            "Epoch 24/1000\n",
            "1/1 [==============================] - 0s 11ms/step - loss: 0.2249 - mse: 0.2249 - mae: 0.4068\n",
            "Epoch 25/1000\n",
            "1/1 [==============================] - 0s 17ms/step - loss: 0.2234 - mse: 0.2234 - mae: 0.4055\n",
            "Epoch 26/1000\n",
            "1/1 [==============================] - 0s 11ms/step - loss: 0.2218 - mse: 0.2218 - mae: 0.4042\n",
            "Epoch 27/1000\n",
            "1/1 [==============================] - 0s 8ms/step - loss: 0.2204 - mse: 0.2204 - mae: 0.4028\n",
            "Epoch 28/1000\n",
            "1/1 [==============================] - 0s 13ms/step - loss: 0.2189 - mse: 0.2189 - mae: 0.4015\n",
            "Epoch 29/1000\n",
            "1/1 [==============================] - 0s 11ms/step - loss: 0.2174 - mse: 0.2174 - mae: 0.4001\n",
            "Epoch 30/1000\n",
            "1/1 [==============================] - 0s 9ms/step - loss: 0.2159 - mse: 0.2159 - mae: 0.3988\n",
            "Epoch 31/1000\n",
            "1/1 [==============================] - 0s 12ms/step - loss: 0.2145 - mse: 0.2145 - mae: 0.3975\n",
            "Epoch 32/1000\n",
            "1/1 [==============================] - 0s 16ms/step - loss: 0.2130 - mse: 0.2130 - mae: 0.3961\n",
            "Epoch 33/1000\n",
            "1/1 [==============================] - 0s 15ms/step - loss: 0.2116 - mse: 0.2116 - mae: 0.3948\n",
            "Epoch 34/1000\n",
            "1/1 [==============================] - 0s 13ms/step - loss: 0.2101 - mse: 0.2101 - mae: 0.3935\n",
            "Epoch 35/1000\n",
            "1/1 [==============================] - 0s 10ms/step - loss: 0.2087 - mse: 0.2087 - mae: 0.3921\n",
            "Epoch 36/1000\n",
            "1/1 [==============================] - 0s 17ms/step - loss: 0.2073 - mse: 0.2073 - mae: 0.3908\n",
            "Epoch 37/1000\n",
            "1/1 [==============================] - 0s 16ms/step - loss: 0.2059 - mse: 0.2059 - mae: 0.3895\n",
            "Epoch 38/1000\n",
            "1/1 [==============================] - 0s 14ms/step - loss: 0.2045 - mse: 0.2045 - mae: 0.3882\n",
            "Epoch 39/1000\n",
            "1/1 [==============================] - 0s 12ms/step - loss: 0.2031 - mse: 0.2031 - mae: 0.3869\n",
            "Epoch 40/1000\n",
            "1/1 [==============================] - 0s 9ms/step - loss: 0.2018 - mse: 0.2018 - mae: 0.3856\n",
            "Epoch 41/1000\n",
            "1/1 [==============================] - 0s 22ms/step - loss: 0.2004 - mse: 0.2004 - mae: 0.3843\n",
            "Epoch 42/1000\n",
            "1/1 [==============================] - 0s 16ms/step - loss: 0.1991 - mse: 0.1991 - mae: 0.3830\n",
            "Epoch 43/1000\n",
            "1/1 [==============================] - 0s 12ms/step - loss: 0.1977 - mse: 0.1977 - mae: 0.3817\n",
            "Epoch 44/1000\n",
            "1/1 [==============================] - 0s 16ms/step - loss: 0.1964 - mse: 0.1964 - mae: 0.3804\n",
            "Epoch 45/1000\n",
            "1/1 [==============================] - 0s 14ms/step - loss: 0.1951 - mse: 0.1951 - mae: 0.3791\n",
            "Epoch 46/1000\n",
            "1/1 [==============================] - 0s 18ms/step - loss: 0.1937 - mse: 0.1937 - mae: 0.3778\n",
            "Epoch 47/1000\n",
            "1/1 [==============================] - 0s 15ms/step - loss: 0.1924 - mse: 0.1924 - mae: 0.3765\n",
            "Epoch 48/1000\n",
            "1/1 [==============================] - 0s 12ms/step - loss: 0.1911 - mse: 0.1911 - mae: 0.3752\n",
            "Epoch 49/1000\n",
            "1/1 [==============================] - 0s 13ms/step - loss: 0.1898 - mse: 0.1898 - mae: 0.3740\n",
            "Epoch 50/1000\n",
            "1/1 [==============================] - 0s 14ms/step - loss: 0.1886 - mse: 0.1886 - mae: 0.3727\n",
            "Epoch 51/1000\n",
            "1/1 [==============================] - 0s 13ms/step - loss: 0.1873 - mse: 0.1873 - mae: 0.3715\n",
            "Epoch 52/1000\n",
            "1/1 [==============================] - 0s 9ms/step - loss: 0.1860 - mse: 0.1860 - mae: 0.3702\n",
            "Epoch 53/1000\n",
            "1/1 [==============================] - 0s 12ms/step - loss: 0.1848 - mse: 0.1848 - mae: 0.3689\n",
            "Epoch 54/1000\n",
            "1/1 [==============================] - 0s 8ms/step - loss: 0.1835 - mse: 0.1835 - mae: 0.3677\n",
            "Epoch 55/1000\n",
            "1/1 [==============================] - 0s 24ms/step - loss: 0.1823 - mse: 0.1823 - mae: 0.3665\n",
            "Epoch 56/1000\n",
            "1/1 [==============================] - 0s 7ms/step - loss: 0.1811 - mse: 0.1811 - mae: 0.3652\n",
            "Epoch 57/1000\n",
            "1/1 [==============================] - 0s 8ms/step - loss: 0.1798 - mse: 0.1798 - mae: 0.3640\n",
            "Epoch 58/1000\n",
            "1/1 [==============================] - 0s 17ms/step - loss: 0.1786 - mse: 0.1786 - mae: 0.3628\n",
            "Epoch 59/1000\n",
            "1/1 [==============================] - 0s 10ms/step - loss: 0.1774 - mse: 0.1774 - mae: 0.3615\n",
            "Epoch 60/1000\n",
            "1/1 [==============================] - 0s 27ms/step - loss: 0.1762 - mse: 0.1762 - mae: 0.3603\n",
            "Epoch 61/1000\n",
            "1/1 [==============================] - 0s 10ms/step - loss: 0.1750 - mse: 0.1750 - mae: 0.3591\n",
            "Epoch 62/1000\n",
            "1/1 [==============================] - 0s 7ms/step - loss: 0.1738 - mse: 0.1738 - mae: 0.3579\n",
            "Epoch 63/1000\n",
            "1/1 [==============================] - 0s 10ms/step - loss: 0.1727 - mse: 0.1727 - mae: 0.3567\n",
            "Epoch 64/1000\n",
            "1/1 [==============================] - 0s 12ms/step - loss: 0.1715 - mse: 0.1715 - mae: 0.3555\n",
            "Epoch 65/1000\n",
            "1/1 [==============================] - 0s 12ms/step - loss: 0.1703 - mse: 0.1703 - mae: 0.3543\n",
            "Epoch 66/1000\n",
            "1/1 [==============================] - 0s 12ms/step - loss: 0.1692 - mse: 0.1692 - mae: 0.3531\n",
            "Epoch 67/1000\n",
            "1/1 [==============================] - 0s 17ms/step - loss: 0.1681 - mse: 0.1681 - mae: 0.3519\n",
            "Epoch 68/1000\n",
            "1/1 [==============================] - 0s 12ms/step - loss: 0.1669 - mse: 0.1669 - mae: 0.3507\n",
            "Epoch 69/1000\n",
            "1/1 [==============================] - 0s 11ms/step - loss: 0.1658 - mse: 0.1658 - mae: 0.3495\n",
            "Epoch 70/1000\n",
            "1/1 [==============================] - 0s 23ms/step - loss: 0.1647 - mse: 0.1647 - mae: 0.3483\n",
            "Epoch 71/1000\n",
            "1/1 [==============================] - 0s 8ms/step - loss: 0.1636 - mse: 0.1636 - mae: 0.3471\n",
            "Epoch 72/1000\n",
            "1/1 [==============================] - 0s 12ms/step - loss: 0.1625 - mse: 0.1625 - mae: 0.3460\n",
            "Epoch 73/1000\n",
            "1/1 [==============================] - 0s 11ms/step - loss: 0.1614 - mse: 0.1614 - mae: 0.3448\n",
            "Epoch 74/1000\n",
            "1/1 [==============================] - 0s 15ms/step - loss: 0.1603 - mse: 0.1603 - mae: 0.3436\n",
            "Epoch 75/1000\n",
            "1/1 [==============================] - 0s 10ms/step - loss: 0.1592 - mse: 0.1592 - mae: 0.3425\n",
            "Epoch 76/1000\n",
            "1/1 [==============================] - 0s 13ms/step - loss: 0.1581 - mse: 0.1581 - mae: 0.3413\n",
            "Epoch 77/1000\n",
            "1/1 [==============================] - 0s 9ms/step - loss: 0.1570 - mse: 0.1570 - mae: 0.3401\n",
            "Epoch 78/1000\n",
            "1/1 [==============================] - 0s 9ms/step - loss: 0.1560 - mse: 0.1560 - mae: 0.3390\n",
            "Epoch 79/1000\n",
            "1/1 [==============================] - 0s 23ms/step - loss: 0.1549 - mse: 0.1549 - mae: 0.3379\n",
            "Epoch 80/1000\n",
            "1/1 [==============================] - 0s 17ms/step - loss: 0.1539 - mse: 0.1539 - mae: 0.3367\n",
            "Epoch 81/1000\n",
            "1/1 [==============================] - 0s 10ms/step - loss: 0.1529 - mse: 0.1529 - mae: 0.3356\n",
            "Epoch 82/1000\n",
            "1/1 [==============================] - 0s 14ms/step - loss: 0.1518 - mse: 0.1518 - mae: 0.3344\n",
            "Epoch 83/1000\n",
            "1/1 [==============================] - 0s 12ms/step - loss: 0.1508 - mse: 0.1508 - mae: 0.3333\n",
            "Epoch 84/1000\n",
            "1/1 [==============================] - 0s 10ms/step - loss: 0.1498 - mse: 0.1498 - mae: 0.3322\n",
            "Epoch 85/1000\n",
            "1/1 [==============================] - 0s 16ms/step - loss: 0.1488 - mse: 0.1488 - mae: 0.3311\n",
            "Epoch 86/1000\n",
            "1/1 [==============================] - 0s 10ms/step - loss: 0.1478 - mse: 0.1478 - mae: 0.3299\n",
            "Epoch 87/1000\n",
            "1/1 [==============================] - 0s 12ms/step - loss: 0.1468 - mse: 0.1468 - mae: 0.3288\n",
            "Epoch 88/1000\n",
            "1/1 [==============================] - 0s 16ms/step - loss: 0.1458 - mse: 0.1458 - mae: 0.3277\n",
            "Epoch 89/1000\n",
            "1/1 [==============================] - 0s 16ms/step - loss: 0.1448 - mse: 0.1448 - mae: 0.3266\n",
            "Epoch 90/1000\n",
            "1/1 [==============================] - 0s 13ms/step - loss: 0.1438 - mse: 0.1438 - mae: 0.3255\n",
            "Epoch 91/1000\n",
            "1/1 [==============================] - 0s 11ms/step - loss: 0.1428 - mse: 0.1428 - mae: 0.3244\n",
            "Epoch 92/1000\n",
            "1/1 [==============================] - 0s 10ms/step - loss: 0.1419 - mse: 0.1419 - mae: 0.3233\n",
            "Epoch 93/1000\n",
            "1/1 [==============================] - 0s 13ms/step - loss: 0.1409 - mse: 0.1409 - mae: 0.3222\n",
            "Epoch 94/1000\n",
            "1/1 [==============================] - 0s 15ms/step - loss: 0.1400 - mse: 0.1400 - mae: 0.3211\n",
            "Epoch 95/1000\n",
            "1/1 [==============================] - 0s 17ms/step - loss: 0.1390 - mse: 0.1390 - mae: 0.3200\n",
            "Epoch 96/1000\n",
            "1/1 [==============================] - 0s 12ms/step - loss: 0.1381 - mse: 0.1381 - mae: 0.3189\n",
            "Epoch 97/1000\n",
            "1/1 [==============================] - 0s 11ms/step - loss: 0.1372 - mse: 0.1372 - mae: 0.3179\n",
            "Epoch 98/1000\n",
            "1/1 [==============================] - 0s 14ms/step - loss: 0.1362 - mse: 0.1362 - mae: 0.3168\n",
            "Epoch 99/1000\n",
            "1/1 [==============================] - 0s 13ms/step - loss: 0.1353 - mse: 0.1353 - mae: 0.3157\n",
            "Epoch 100/1000\n",
            "1/1 [==============================] - 0s 17ms/step - loss: 0.1344 - mse: 0.1344 - mae: 0.3147\n",
            "Epoch 101/1000\n",
            "1/1 [==============================] - 0s 14ms/step - loss: 0.1335 - mse: 0.1335 - mae: 0.3136\n",
            "Epoch 102/1000\n",
            "1/1 [==============================] - 0s 14ms/step - loss: 0.1326 - mse: 0.1326 - mae: 0.3125\n",
            "Epoch 103/1000\n",
            "1/1 [==============================] - 0s 19ms/step - loss: 0.1317 - mse: 0.1317 - mae: 0.3115\n",
            "Epoch 104/1000\n",
            "1/1 [==============================] - 0s 17ms/step - loss: 0.1308 - mse: 0.1308 - mae: 0.3104\n",
            "Epoch 105/1000\n",
            "1/1 [==============================] - 0s 25ms/step - loss: 0.1299 - mse: 0.1299 - mae: 0.3094\n",
            "Epoch 106/1000\n",
            "1/1 [==============================] - 0s 11ms/step - loss: 0.1290 - mse: 0.1290 - mae: 0.3083\n",
            "Epoch 107/1000\n",
            "1/1 [==============================] - 0s 14ms/step - loss: 0.1282 - mse: 0.1282 - mae: 0.3073\n",
            "Epoch 108/1000\n",
            "1/1 [==============================] - 0s 14ms/step - loss: 0.1273 - mse: 0.1273 - mae: 0.3062\n",
            "Epoch 109/1000\n",
            "1/1 [==============================] - 0s 11ms/step - loss: 0.1264 - mse: 0.1264 - mae: 0.3052\n",
            "Epoch 110/1000\n",
            "1/1 [==============================] - 0s 12ms/step - loss: 0.1256 - mse: 0.1256 - mae: 0.3042\n",
            "Epoch 111/1000\n",
            "1/1 [==============================] - 0s 9ms/step - loss: 0.1247 - mse: 0.1247 - mae: 0.3032\n",
            "Epoch 112/1000\n",
            "1/1 [==============================] - 0s 15ms/step - loss: 0.1239 - mse: 0.1239 - mae: 0.3021\n",
            "Epoch 113/1000\n",
            "1/1 [==============================] - 0s 11ms/step - loss: 0.1231 - mse: 0.1231 - mae: 0.3011\n",
            "Epoch 114/1000\n",
            "1/1 [==============================] - 0s 27ms/step - loss: 0.1222 - mse: 0.1222 - mae: 0.3001\n",
            "Epoch 115/1000\n",
            "1/1 [==============================] - 0s 13ms/step - loss: 0.1214 - mse: 0.1214 - mae: 0.2991\n",
            "Epoch 116/1000\n",
            "1/1 [==============================] - 0s 10ms/step - loss: 0.1206 - mse: 0.1206 - mae: 0.2981\n",
            "Epoch 117/1000\n",
            "1/1 [==============================] - 0s 11ms/step - loss: 0.1198 - mse: 0.1198 - mae: 0.2971\n",
            "Epoch 118/1000\n",
            "1/1 [==============================] - 0s 6ms/step - loss: 0.1190 - mse: 0.1190 - mae: 0.2960\n",
            "Epoch 119/1000\n",
            "1/1 [==============================] - 0s 15ms/step - loss: 0.1182 - mse: 0.1182 - mae: 0.2950\n",
            "Epoch 120/1000\n",
            "1/1 [==============================] - 0s 16ms/step - loss: 0.1174 - mse: 0.1174 - mae: 0.2941\n",
            "Epoch 121/1000\n",
            "1/1 [==============================] - 0s 14ms/step - loss: 0.1166 - mse: 0.1166 - mae: 0.2931\n",
            "Epoch 122/1000\n",
            "1/1 [==============================] - 0s 11ms/step - loss: 0.1158 - mse: 0.1158 - mae: 0.2921\n",
            "Epoch 123/1000\n",
            "1/1 [==============================] - 0s 12ms/step - loss: 0.1150 - mse: 0.1150 - mae: 0.2911\n",
            "Epoch 124/1000\n",
            "1/1 [==============================] - 0s 9ms/step - loss: 0.1142 - mse: 0.1142 - mae: 0.2901\n",
            "Epoch 125/1000\n",
            "1/1 [==============================] - 0s 12ms/step - loss: 0.1135 - mse: 0.1135 - mae: 0.2891\n",
            "Epoch 126/1000\n",
            "1/1 [==============================] - 0s 30ms/step - loss: 0.1127 - mse: 0.1127 - mae: 0.2881\n",
            "Epoch 127/1000\n",
            "1/1 [==============================] - 0s 12ms/step - loss: 0.1119 - mse: 0.1119 - mae: 0.2872\n",
            "Epoch 128/1000\n",
            "1/1 [==============================] - 0s 10ms/step - loss: 0.1112 - mse: 0.1112 - mae: 0.2862\n",
            "Epoch 129/1000\n",
            "1/1 [==============================] - 0s 17ms/step - loss: 0.1104 - mse: 0.1104 - mae: 0.2852\n",
            "Epoch 130/1000\n",
            "1/1 [==============================] - 0s 12ms/step - loss: 0.1097 - mse: 0.1097 - mae: 0.2843\n",
            "Epoch 131/1000\n",
            "1/1 [==============================] - 0s 12ms/step - loss: 0.1089 - mse: 0.1089 - mae: 0.2833\n",
            "Epoch 132/1000\n",
            "1/1 [==============================] - 0s 11ms/step - loss: 0.1082 - mse: 0.1082 - mae: 0.2823\n",
            "Epoch 133/1000\n",
            "1/1 [==============================] - 0s 12ms/step - loss: 0.1075 - mse: 0.1075 - mae: 0.2814\n",
            "Epoch 134/1000\n",
            "1/1 [==============================] - 0s 13ms/step - loss: 0.1067 - mse: 0.1067 - mae: 0.2804\n",
            "Epoch 135/1000\n",
            "1/1 [==============================] - 0s 13ms/step - loss: 0.1060 - mse: 0.1060 - mae: 0.2795\n",
            "Epoch 136/1000\n",
            "1/1 [==============================] - 0s 14ms/step - loss: 0.1053 - mse: 0.1053 - mae: 0.2785\n",
            "Epoch 137/1000\n",
            "1/1 [==============================] - 0s 12ms/step - loss: 0.1046 - mse: 0.1046 - mae: 0.2776\n",
            "Epoch 138/1000\n",
            "1/1 [==============================] - 0s 13ms/step - loss: 0.1039 - mse: 0.1039 - mae: 0.2767\n",
            "Epoch 139/1000\n",
            "1/1 [==============================] - 0s 17ms/step - loss: 0.1032 - mse: 0.1032 - mae: 0.2757\n",
            "Epoch 140/1000\n",
            "1/1 [==============================] - 0s 33ms/step - loss: 0.1025 - mse: 0.1025 - mae: 0.2748\n",
            "Epoch 141/1000\n",
            "1/1 [==============================] - 0s 19ms/step - loss: 0.1018 - mse: 0.1018 - mae: 0.2739\n",
            "Epoch 142/1000\n",
            "1/1 [==============================] - 0s 11ms/step - loss: 0.1011 - mse: 0.1011 - mae: 0.2729\n",
            "Epoch 143/1000\n",
            "1/1 [==============================] - 0s 13ms/step - loss: 0.1004 - mse: 0.1004 - mae: 0.2720\n",
            "Epoch 144/1000\n",
            "1/1 [==============================] - 0s 19ms/step - loss: 0.0998 - mse: 0.0998 - mae: 0.2711\n",
            "Epoch 145/1000\n",
            "1/1 [==============================] - 0s 16ms/step - loss: 0.0991 - mse: 0.0991 - mae: 0.2702\n",
            "Epoch 146/1000\n",
            "1/1 [==============================] - 0s 16ms/step - loss: 0.0984 - mse: 0.0984 - mae: 0.2693\n",
            "Epoch 147/1000\n",
            "1/1 [==============================] - 0s 11ms/step - loss: 0.0978 - mse: 0.0978 - mae: 0.2684\n",
            "Epoch 148/1000\n",
            "1/1 [==============================] - 0s 14ms/step - loss: 0.0971 - mse: 0.0971 - mae: 0.2674\n",
            "Epoch 149/1000\n",
            "1/1 [==============================] - 0s 16ms/step - loss: 0.0964 - mse: 0.0964 - mae: 0.2665\n",
            "Epoch 150/1000\n",
            "1/1 [==============================] - 0s 9ms/step - loss: 0.0958 - mse: 0.0958 - mae: 0.2656\n",
            "Epoch 151/1000\n",
            "1/1 [==============================] - 0s 18ms/step - loss: 0.0951 - mse: 0.0951 - mae: 0.2647\n",
            "Epoch 152/1000\n",
            "1/1 [==============================] - 0s 16ms/step - loss: 0.0945 - mse: 0.0945 - mae: 0.2638\n",
            "Epoch 153/1000\n",
            "1/1 [==============================] - 0s 10ms/step - loss: 0.0939 - mse: 0.0939 - mae: 0.2630\n",
            "Epoch 154/1000\n",
            "1/1 [==============================] - 0s 18ms/step - loss: 0.0932 - mse: 0.0932 - mae: 0.2621\n",
            "Epoch 155/1000\n",
            "1/1 [==============================] - 0s 9ms/step - loss: 0.0926 - mse: 0.0926 - mae: 0.2612\n",
            "Epoch 156/1000\n",
            "1/1 [==============================] - 0s 17ms/step - loss: 0.0920 - mse: 0.0920 - mae: 0.2603\n",
            "Epoch 157/1000\n",
            "1/1 [==============================] - 0s 8ms/step - loss: 0.0913 - mse: 0.0913 - mae: 0.2594\n",
            "Epoch 158/1000\n",
            "1/1 [==============================] - 0s 16ms/step - loss: 0.0907 - mse: 0.0907 - mae: 0.2585\n",
            "Epoch 159/1000\n",
            "1/1 [==============================] - 0s 17ms/step - loss: 0.0901 - mse: 0.0901 - mae: 0.2577\n",
            "Epoch 160/1000\n",
            "1/1 [==============================] - 0s 19ms/step - loss: 0.0895 - mse: 0.0895 - mae: 0.2568\n",
            "Epoch 161/1000\n",
            "1/1 [==============================] - 0s 9ms/step - loss: 0.0889 - mse: 0.0889 - mae: 0.2559\n",
            "Epoch 162/1000\n",
            "1/1 [==============================] - 0s 6ms/step - loss: 0.0883 - mse: 0.0883 - mae: 0.2551\n",
            "Epoch 163/1000\n",
            "1/1 [==============================] - 0s 10ms/step - loss: 0.0877 - mse: 0.0877 - mae: 0.2542\n",
            "Epoch 164/1000\n",
            "1/1 [==============================] - 0s 9ms/step - loss: 0.0871 - mse: 0.0871 - mae: 0.2533\n",
            "Epoch 165/1000\n",
            "1/1 [==============================] - 0s 6ms/step - loss: 0.0865 - mse: 0.0865 - mae: 0.2525\n",
            "Epoch 166/1000\n",
            "1/1 [==============================] - 0s 11ms/step - loss: 0.0859 - mse: 0.0859 - mae: 0.2516\n",
            "Epoch 167/1000\n",
            "1/1 [==============================] - 0s 7ms/step - loss: 0.0854 - mse: 0.0854 - mae: 0.2508\n",
            "Epoch 168/1000\n",
            "1/1 [==============================] - 0s 10ms/step - loss: 0.0848 - mse: 0.0848 - mae: 0.2499\n",
            "Epoch 169/1000\n",
            "1/1 [==============================] - 0s 10ms/step - loss: 0.0842 - mse: 0.0842 - mae: 0.2491\n",
            "Epoch 170/1000\n",
            "1/1 [==============================] - 0s 17ms/step - loss: 0.0836 - mse: 0.0836 - mae: 0.2482\n",
            "Epoch 171/1000\n",
            "1/1 [==============================] - 0s 8ms/step - loss: 0.0831 - mse: 0.0831 - mae: 0.2474\n",
            "Epoch 172/1000\n",
            "1/1 [==============================] - 0s 10ms/step - loss: 0.0825 - mse: 0.0825 - mae: 0.2466\n",
            "Epoch 173/1000\n",
            "1/1 [==============================] - 0s 29ms/step - loss: 0.0820 - mse: 0.0820 - mae: 0.2457\n",
            "Epoch 174/1000\n",
            "1/1 [==============================] - 0s 12ms/step - loss: 0.0814 - mse: 0.0814 - mae: 0.2449\n",
            "Epoch 175/1000\n",
            "1/1 [==============================] - 0s 21ms/step - loss: 0.0809 - mse: 0.0809 - mae: 0.2441\n",
            "Epoch 176/1000\n",
            "1/1 [==============================] - 0s 20ms/step - loss: 0.0803 - mse: 0.0803 - mae: 0.2433\n",
            "Epoch 177/1000\n",
            "1/1 [==============================] - 0s 18ms/step - loss: 0.0798 - mse: 0.0798 - mae: 0.2424\n",
            "Epoch 178/1000\n",
            "1/1 [==============================] - 0s 12ms/step - loss: 0.0792 - mse: 0.0792 - mae: 0.2416\n",
            "Epoch 179/1000\n",
            "1/1 [==============================] - 0s 26ms/step - loss: 0.0787 - mse: 0.0787 - mae: 0.2408\n",
            "Epoch 180/1000\n",
            "1/1 [==============================] - 0s 21ms/step - loss: 0.0782 - mse: 0.0782 - mae: 0.2400\n",
            "Epoch 181/1000\n",
            "1/1 [==============================] - 0s 11ms/step - loss: 0.0776 - mse: 0.0776 - mae: 0.2392\n",
            "Epoch 182/1000\n",
            "1/1 [==============================] - 0s 15ms/step - loss: 0.0771 - mse: 0.0771 - mae: 0.2384\n",
            "Epoch 183/1000\n",
            "1/1 [==============================] - 0s 21ms/step - loss: 0.0766 - mse: 0.0766 - mae: 0.2376\n",
            "Epoch 184/1000\n",
            "1/1 [==============================] - 0s 22ms/step - loss: 0.0761 - mse: 0.0761 - mae: 0.2367\n",
            "Epoch 185/1000\n",
            "1/1 [==============================] - 0s 8ms/step - loss: 0.0756 - mse: 0.0756 - mae: 0.2359\n",
            "Epoch 186/1000\n",
            "1/1 [==============================] - 0s 13ms/step - loss: 0.0751 - mse: 0.0751 - mae: 0.2352\n",
            "Epoch 187/1000\n",
            "1/1 [==============================] - 0s 7ms/step - loss: 0.0746 - mse: 0.0746 - mae: 0.2344\n",
            "Epoch 188/1000\n",
            "1/1 [==============================] - 0s 9ms/step - loss: 0.0740 - mse: 0.0740 - mae: 0.2336\n",
            "Epoch 189/1000\n",
            "1/1 [==============================] - 0s 11ms/step - loss: 0.0735 - mse: 0.0735 - mae: 0.2328\n",
            "Epoch 190/1000\n",
            "1/1 [==============================] - 0s 15ms/step - loss: 0.0731 - mse: 0.0731 - mae: 0.2320\n",
            "Epoch 191/1000\n",
            "1/1 [==============================] - 0s 7ms/step - loss: 0.0726 - mse: 0.0726 - mae: 0.2312\n",
            "Epoch 192/1000\n",
            "1/1 [==============================] - 0s 13ms/step - loss: 0.0721 - mse: 0.0721 - mae: 0.2304\n",
            "Epoch 193/1000\n",
            "1/1 [==============================] - 0s 17ms/step - loss: 0.0716 - mse: 0.0716 - mae: 0.2296\n",
            "Epoch 194/1000\n",
            "1/1 [==============================] - 0s 27ms/step - loss: 0.0711 - mse: 0.0711 - mae: 0.2289\n",
            "Epoch 195/1000\n",
            "1/1 [==============================] - 0s 17ms/step - loss: 0.0706 - mse: 0.0706 - mae: 0.2281\n",
            "Epoch 196/1000\n",
            "1/1 [==============================] - 0s 17ms/step - loss: 0.0701 - mse: 0.0701 - mae: 0.2273\n",
            "Epoch 197/1000\n",
            "1/1 [==============================] - 0s 16ms/step - loss: 0.0697 - mse: 0.0697 - mae: 0.2266\n",
            "Epoch 198/1000\n",
            "1/1 [==============================] - 0s 21ms/step - loss: 0.0692 - mse: 0.0692 - mae: 0.2258\n",
            "Epoch 199/1000\n",
            "1/1 [==============================] - 0s 7ms/step - loss: 0.0687 - mse: 0.0687 - mae: 0.2250\n",
            "Epoch 200/1000\n",
            "1/1 [==============================] - 0s 10ms/step - loss: 0.0683 - mse: 0.0683 - mae: 0.2243\n",
            "Epoch 201/1000\n",
            "1/1 [==============================] - 0s 8ms/step - loss: 0.0678 - mse: 0.0678 - mae: 0.2235\n",
            "Epoch 202/1000\n",
            "1/1 [==============================] - 0s 8ms/step - loss: 0.0673 - mse: 0.0673 - mae: 0.2227\n",
            "Epoch 203/1000\n",
            "1/1 [==============================] - 0s 10ms/step - loss: 0.0669 - mse: 0.0669 - mae: 0.2220\n",
            "Epoch 204/1000\n",
            "1/1 [==============================] - 0s 9ms/step - loss: 0.0664 - mse: 0.0664 - mae: 0.2212\n",
            "Epoch 205/1000\n",
            "1/1 [==============================] - 0s 10ms/step - loss: 0.0660 - mse: 0.0660 - mae: 0.2205\n",
            "Epoch 206/1000\n",
            "1/1 [==============================] - 0s 20ms/step - loss: 0.0655 - mse: 0.0655 - mae: 0.2198\n",
            "Epoch 207/1000\n",
            "1/1 [==============================] - 0s 18ms/step - loss: 0.0651 - mse: 0.0651 - mae: 0.2190\n",
            "Epoch 208/1000\n",
            "1/1 [==============================] - 0s 22ms/step - loss: 0.0647 - mse: 0.0647 - mae: 0.2183\n",
            "Epoch 209/1000\n",
            "1/1 [==============================] - 0s 19ms/step - loss: 0.0642 - mse: 0.0642 - mae: 0.2175\n",
            "Epoch 210/1000\n",
            "1/1 [==============================] - 0s 15ms/step - loss: 0.0638 - mse: 0.0638 - mae: 0.2168\n",
            "Epoch 211/1000\n",
            "1/1 [==============================] - 0s 16ms/step - loss: 0.0634 - mse: 0.0634 - mae: 0.2161\n",
            "Epoch 212/1000\n",
            "1/1 [==============================] - 0s 6ms/step - loss: 0.0629 - mse: 0.0629 - mae: 0.2153\n",
            "Epoch 213/1000\n",
            "1/1 [==============================] - 0s 11ms/step - loss: 0.0625 - mse: 0.0625 - mae: 0.2146\n",
            "Epoch 214/1000\n",
            "1/1 [==============================] - 0s 11ms/step - loss: 0.0621 - mse: 0.0621 - mae: 0.2139\n",
            "Epoch 215/1000\n",
            "1/1 [==============================] - 0s 8ms/step - loss: 0.0617 - mse: 0.0617 - mae: 0.2132\n",
            "Epoch 216/1000\n",
            "1/1 [==============================] - 0s 9ms/step - loss: 0.0613 - mse: 0.0613 - mae: 0.2124\n",
            "Epoch 217/1000\n",
            "1/1 [==============================] - 0s 9ms/step - loss: 0.0608 - mse: 0.0608 - mae: 0.2117\n",
            "Epoch 218/1000\n",
            "1/1 [==============================] - 0s 6ms/step - loss: 0.0604 - mse: 0.0604 - mae: 0.2110\n",
            "Epoch 219/1000\n",
            "1/1 [==============================] - 0s 14ms/step - loss: 0.0600 - mse: 0.0600 - mae: 0.2103\n",
            "Epoch 220/1000\n",
            "1/1 [==============================] - 0s 5ms/step - loss: 0.0596 - mse: 0.0596 - mae: 0.2096\n",
            "Epoch 221/1000\n",
            "1/1 [==============================] - 0s 6ms/step - loss: 0.0592 - mse: 0.0592 - mae: 0.2089\n",
            "Epoch 222/1000\n",
            "1/1 [==============================] - 0s 13ms/step - loss: 0.0588 - mse: 0.0588 - mae: 0.2082\n",
            "Epoch 223/1000\n",
            "1/1 [==============================] - 0s 12ms/step - loss: 0.0584 - mse: 0.0584 - mae: 0.2075\n",
            "Epoch 224/1000\n",
            "1/1 [==============================] - 0s 6ms/step - loss: 0.0580 - mse: 0.0580 - mae: 0.2068\n",
            "Epoch 225/1000\n",
            "1/1 [==============================] - 0s 14ms/step - loss: 0.0576 - mse: 0.0576 - mae: 0.2061\n",
            "Epoch 226/1000\n",
            "1/1 [==============================] - 0s 6ms/step - loss: 0.0572 - mse: 0.0572 - mae: 0.2054\n",
            "Epoch 227/1000\n",
            "1/1 [==============================] - 0s 12ms/step - loss: 0.0569 - mse: 0.0569 - mae: 0.2047\n",
            "Epoch 228/1000\n",
            "1/1 [==============================] - 0s 5ms/step - loss: 0.0565 - mse: 0.0565 - mae: 0.2040\n",
            "Epoch 229/1000\n",
            "1/1 [==============================] - 0s 8ms/step - loss: 0.0561 - mse: 0.0561 - mae: 0.2033\n",
            "Epoch 230/1000\n",
            "1/1 [==============================] - 0s 6ms/step - loss: 0.0557 - mse: 0.0557 - mae: 0.2026\n",
            "Epoch 231/1000\n",
            "1/1 [==============================] - 0s 17ms/step - loss: 0.0553 - mse: 0.0553 - mae: 0.2019\n",
            "Epoch 232/1000\n",
            "1/1 [==============================] - 0s 9ms/step - loss: 0.0550 - mse: 0.0550 - mae: 0.2012\n",
            "Epoch 233/1000\n",
            "1/1 [==============================] - 0s 9ms/step - loss: 0.0546 - mse: 0.0546 - mae: 0.2005\n",
            "Epoch 234/1000\n",
            "1/1 [==============================] - 0s 9ms/step - loss: 0.0542 - mse: 0.0542 - mae: 0.1999\n",
            "Epoch 235/1000\n",
            "1/1 [==============================] - 0s 13ms/step - loss: 0.0539 - mse: 0.0539 - mae: 0.1992\n",
            "Epoch 236/1000\n",
            "1/1 [==============================] - 0s 6ms/step - loss: 0.0535 - mse: 0.0535 - mae: 0.1985\n",
            "Epoch 237/1000\n",
            "1/1 [==============================] - 0s 11ms/step - loss: 0.0531 - mse: 0.0531 - mae: 0.1978\n",
            "Epoch 238/1000\n",
            "1/1 [==============================] - 0s 6ms/step - loss: 0.0528 - mse: 0.0528 - mae: 0.1972\n",
            "Epoch 239/1000\n",
            "1/1 [==============================] - 0s 8ms/step - loss: 0.0524 - mse: 0.0524 - mae: 0.1965\n",
            "Epoch 240/1000\n",
            "1/1 [==============================] - 0s 8ms/step - loss: 0.0521 - mse: 0.0521 - mae: 0.1958\n",
            "Epoch 241/1000\n",
            "1/1 [==============================] - 0s 9ms/step - loss: 0.0517 - mse: 0.0517 - mae: 0.1952\n",
            "Epoch 242/1000\n",
            "1/1 [==============================] - 0s 5ms/step - loss: 0.0514 - mse: 0.0514 - mae: 0.1945\n",
            "Epoch 243/1000\n",
            "1/1 [==============================] - 0s 9ms/step - loss: 0.0510 - mse: 0.0510 - mae: 0.1939\n",
            "Epoch 244/1000\n",
            "1/1 [==============================] - 0s 6ms/step - loss: 0.0507 - mse: 0.0507 - mae: 0.1932\n",
            "Epoch 245/1000\n",
            "1/1 [==============================] - 0s 8ms/step - loss: 0.0503 - mse: 0.0503 - mae: 0.1926\n",
            "Epoch 246/1000\n",
            "1/1 [==============================] - 0s 8ms/step - loss: 0.0500 - mse: 0.0500 - mae: 0.1919\n",
            "Epoch 247/1000\n",
            "1/1 [==============================] - 0s 10ms/step - loss: 0.0497 - mse: 0.0497 - mae: 0.1913\n",
            "Epoch 248/1000\n",
            "1/1 [==============================] - 0s 9ms/step - loss: 0.0493 - mse: 0.0493 - mae: 0.1906\n",
            "Epoch 249/1000\n",
            "1/1 [==============================] - 0s 5ms/step - loss: 0.0490 - mse: 0.0490 - mae: 0.1900\n",
            "Epoch 250/1000\n",
            "1/1 [==============================] - 0s 10ms/step - loss: 0.0487 - mse: 0.0487 - mae: 0.1893\n",
            "Epoch 251/1000\n",
            "1/1 [==============================] - 0s 5ms/step - loss: 0.0483 - mse: 0.0483 - mae: 0.1887\n",
            "Epoch 252/1000\n",
            "1/1 [==============================] - 0s 8ms/step - loss: 0.0480 - mse: 0.0480 - mae: 0.1880\n",
            "Epoch 253/1000\n",
            "1/1 [==============================] - 0s 10ms/step - loss: 0.0477 - mse: 0.0477 - mae: 0.1874\n",
            "Epoch 254/1000\n",
            "1/1 [==============================] - 0s 8ms/step - loss: 0.0474 - mse: 0.0474 - mae: 0.1868\n",
            "Epoch 255/1000\n",
            "1/1 [==============================] - 0s 8ms/step - loss: 0.0470 - mse: 0.0470 - mae: 0.1861\n",
            "Epoch 256/1000\n",
            "1/1 [==============================] - 0s 8ms/step - loss: 0.0467 - mse: 0.0467 - mae: 0.1855\n",
            "Epoch 257/1000\n",
            "1/1 [==============================] - 0s 11ms/step - loss: 0.0464 - mse: 0.0464 - mae: 0.1849\n",
            "Epoch 258/1000\n",
            "1/1 [==============================] - 0s 5ms/step - loss: 0.0461 - mse: 0.0461 - mae: 0.1843\n",
            "Epoch 259/1000\n",
            "1/1 [==============================] - 0s 9ms/step - loss: 0.0458 - mse: 0.0458 - mae: 0.1836\n",
            "Epoch 260/1000\n",
            "1/1 [==============================] - 0s 6ms/step - loss: 0.0455 - mse: 0.0455 - mae: 0.1830\n",
            "Epoch 261/1000\n",
            "1/1 [==============================] - 0s 11ms/step - loss: 0.0452 - mse: 0.0452 - mae: 0.1824\n",
            "Epoch 262/1000\n",
            "1/1 [==============================] - 0s 6ms/step - loss: 0.0449 - mse: 0.0449 - mae: 0.1818\n",
            "Epoch 263/1000\n",
            "1/1 [==============================] - 0s 6ms/step - loss: 0.0446 - mse: 0.0446 - mae: 0.1812\n",
            "Epoch 264/1000\n",
            "1/1 [==============================] - 0s 8ms/step - loss: 0.0443 - mse: 0.0443 - mae: 0.1806\n",
            "Epoch 265/1000\n",
            "1/1 [==============================] - 0s 9ms/step - loss: 0.0440 - mse: 0.0440 - mae: 0.1800\n",
            "Epoch 266/1000\n",
            "1/1 [==============================] - 0s 6ms/step - loss: 0.0437 - mse: 0.0437 - mae: 0.1793\n",
            "Epoch 267/1000\n",
            "1/1 [==============================] - 0s 8ms/step - loss: 0.0434 - mse: 0.0434 - mae: 0.1787\n",
            "Epoch 268/1000\n",
            "1/1 [==============================] - 0s 9ms/step - loss: 0.0431 - mse: 0.0431 - mae: 0.1781\n",
            "Epoch 269/1000\n",
            "1/1 [==============================] - 0s 8ms/step - loss: 0.0428 - mse: 0.0428 - mae: 0.1775\n",
            "Epoch 270/1000\n",
            "1/1 [==============================] - 0s 11ms/step - loss: 0.0425 - mse: 0.0425 - mae: 0.1769\n",
            "Epoch 271/1000\n",
            "1/1 [==============================] - 0s 5ms/step - loss: 0.0422 - mse: 0.0422 - mae: 0.1763\n",
            "Epoch 272/1000\n",
            "1/1 [==============================] - 0s 7ms/step - loss: 0.0419 - mse: 0.0419 - mae: 0.1757\n",
            "Epoch 273/1000\n",
            "1/1 [==============================] - 0s 12ms/step - loss: 0.0416 - mse: 0.0416 - mae: 0.1751\n",
            "Epoch 274/1000\n",
            "1/1 [==============================] - 0s 6ms/step - loss: 0.0414 - mse: 0.0414 - mae: 0.1745\n",
            "Epoch 275/1000\n",
            "1/1 [==============================] - 0s 7ms/step - loss: 0.0411 - mse: 0.0411 - mae: 0.1740\n",
            "Epoch 276/1000\n",
            "1/1 [==============================] - 0s 9ms/step - loss: 0.0408 - mse: 0.0408 - mae: 0.1734\n",
            "Epoch 277/1000\n",
            "1/1 [==============================] - 0s 15ms/step - loss: 0.0405 - mse: 0.0405 - mae: 0.1728\n",
            "Epoch 278/1000\n",
            "1/1 [==============================] - 0s 18ms/step - loss: 0.0402 - mse: 0.0402 - mae: 0.1722\n",
            "Epoch 279/1000\n",
            "1/1 [==============================] - 0s 8ms/step - loss: 0.0400 - mse: 0.0400 - mae: 0.1716\n",
            "Epoch 280/1000\n",
            "1/1 [==============================] - 0s 8ms/step - loss: 0.0397 - mse: 0.0397 - mae: 0.1710\n",
            "Epoch 281/1000\n",
            "1/1 [==============================] - 0s 7ms/step - loss: 0.0394 - mse: 0.0394 - mae: 0.1705\n",
            "Epoch 282/1000\n",
            "1/1 [==============================] - 0s 10ms/step - loss: 0.0392 - mse: 0.0392 - mae: 0.1699\n",
            "Epoch 283/1000\n",
            "1/1 [==============================] - 0s 15ms/step - loss: 0.0389 - mse: 0.0389 - mae: 0.1693\n",
            "Epoch 284/1000\n",
            "1/1 [==============================] - 0s 9ms/step - loss: 0.0386 - mse: 0.0386 - mae: 0.1687\n",
            "Epoch 285/1000\n",
            "1/1 [==============================] - 0s 8ms/step - loss: 0.0384 - mse: 0.0384 - mae: 0.1682\n",
            "Epoch 286/1000\n",
            "1/1 [==============================] - 0s 11ms/step - loss: 0.0381 - mse: 0.0381 - mae: 0.1676\n",
            "Epoch 287/1000\n",
            "1/1 [==============================] - 0s 9ms/step - loss: 0.0379 - mse: 0.0379 - mae: 0.1670\n",
            "Epoch 288/1000\n",
            "1/1 [==============================] - 0s 9ms/step - loss: 0.0376 - mse: 0.0376 - mae: 0.1665\n",
            "Epoch 289/1000\n",
            "1/1 [==============================] - 0s 8ms/step - loss: 0.0374 - mse: 0.0374 - mae: 0.1659\n",
            "Epoch 290/1000\n",
            "1/1 [==============================] - 0s 8ms/step - loss: 0.0371 - mse: 0.0371 - mae: 0.1653\n",
            "Epoch 291/1000\n",
            "1/1 [==============================] - 0s 7ms/step - loss: 0.0369 - mse: 0.0369 - mae: 0.1648\n",
            "Epoch 292/1000\n",
            "1/1 [==============================] - 0s 8ms/step - loss: 0.0366 - mse: 0.0366 - mae: 0.1642\n",
            "Epoch 293/1000\n",
            "1/1 [==============================] - 0s 9ms/step - loss: 0.0364 - mse: 0.0364 - mae: 0.1637\n",
            "Epoch 294/1000\n",
            "1/1 [==============================] - 0s 7ms/step - loss: 0.0361 - mse: 0.0361 - mae: 0.1631\n",
            "Epoch 295/1000\n",
            "1/1 [==============================] - 0s 19ms/step - loss: 0.0359 - mse: 0.0359 - mae: 0.1626\n",
            "Epoch 296/1000\n",
            "1/1 [==============================] - 0s 11ms/step - loss: 0.0356 - mse: 0.0356 - mae: 0.1620\n",
            "Epoch 297/1000\n",
            "1/1 [==============================] - 0s 12ms/step - loss: 0.0354 - mse: 0.0354 - mae: 0.1615\n",
            "Epoch 298/1000\n",
            "1/1 [==============================] - 0s 11ms/step - loss: 0.0352 - mse: 0.0352 - mae: 0.1609\n",
            "Epoch 299/1000\n",
            "1/1 [==============================] - 0s 11ms/step - loss: 0.0349 - mse: 0.0349 - mae: 0.1604\n",
            "Epoch 300/1000\n",
            "1/1 [==============================] - 0s 6ms/step - loss: 0.0347 - mse: 0.0347 - mae: 0.1598\n",
            "Epoch 301/1000\n",
            "1/1 [==============================] - 0s 13ms/step - loss: 0.0344 - mse: 0.0344 - mae: 0.1593\n",
            "Epoch 302/1000\n",
            "1/1 [==============================] - 0s 6ms/step - loss: 0.0342 - mse: 0.0342 - mae: 0.1588\n",
            "Epoch 303/1000\n",
            "1/1 [==============================] - 0s 16ms/step - loss: 0.0340 - mse: 0.0340 - mae: 0.1582\n",
            "Epoch 304/1000\n",
            "1/1 [==============================] - 0s 15ms/step - loss: 0.0338 - mse: 0.0338 - mae: 0.1577\n",
            "Epoch 305/1000\n",
            "1/1 [==============================] - 0s 8ms/step - loss: 0.0335 - mse: 0.0335 - mae: 0.1572\n",
            "Epoch 306/1000\n",
            "1/1 [==============================] - 0s 17ms/step - loss: 0.0333 - mse: 0.0333 - mae: 0.1566\n",
            "Epoch 307/1000\n",
            "1/1 [==============================] - 0s 9ms/step - loss: 0.0331 - mse: 0.0331 - mae: 0.1561\n",
            "Epoch 308/1000\n",
            "1/1 [==============================] - 0s 8ms/step - loss: 0.0328 - mse: 0.0328 - mae: 0.1556\n",
            "Epoch 309/1000\n",
            "1/1 [==============================] - 0s 11ms/step - loss: 0.0326 - mse: 0.0326 - mae: 0.1550\n",
            "Epoch 310/1000\n",
            "1/1 [==============================] - 0s 12ms/step - loss: 0.0324 - mse: 0.0324 - mae: 0.1545\n",
            "Epoch 311/1000\n",
            "1/1 [==============================] - 0s 11ms/step - loss: 0.0322 - mse: 0.0322 - mae: 0.1540\n",
            "Epoch 312/1000\n",
            "1/1 [==============================] - 0s 8ms/step - loss: 0.0320 - mse: 0.0320 - mae: 0.1535\n",
            "Epoch 313/1000\n",
            "1/1 [==============================] - 0s 9ms/step - loss: 0.0318 - mse: 0.0318 - mae: 0.1530\n",
            "Epoch 314/1000\n",
            "1/1 [==============================] - 0s 10ms/step - loss: 0.0315 - mse: 0.0315 - mae: 0.1524\n",
            "Epoch 315/1000\n",
            "1/1 [==============================] - 0s 11ms/step - loss: 0.0313 - mse: 0.0313 - mae: 0.1519\n",
            "Epoch 316/1000\n",
            "1/1 [==============================] - 0s 6ms/step - loss: 0.0311 - mse: 0.0311 - mae: 0.1514\n",
            "Epoch 317/1000\n",
            "1/1 [==============================] - 0s 8ms/step - loss: 0.0309 - mse: 0.0309 - mae: 0.1509\n",
            "Epoch 318/1000\n",
            "1/1 [==============================] - 0s 10ms/step - loss: 0.0307 - mse: 0.0307 - mae: 0.1504\n",
            "Epoch 319/1000\n",
            "1/1 [==============================] - 0s 12ms/step - loss: 0.0305 - mse: 0.0305 - mae: 0.1499\n",
            "Epoch 320/1000\n",
            "1/1 [==============================] - 0s 11ms/step - loss: 0.0303 - mse: 0.0303 - mae: 0.1494\n",
            "Epoch 321/1000\n",
            "1/1 [==============================] - 0s 12ms/step - loss: 0.0301 - mse: 0.0301 - mae: 0.1489\n",
            "Epoch 322/1000\n",
            "1/1 [==============================] - 0s 9ms/step - loss: 0.0299 - mse: 0.0299 - mae: 0.1484\n",
            "Epoch 323/1000\n",
            "1/1 [==============================] - 0s 9ms/step - loss: 0.0297 - mse: 0.0297 - mae: 0.1479\n",
            "Epoch 324/1000\n",
            "1/1 [==============================] - 0s 10ms/step - loss: 0.0295 - mse: 0.0295 - mae: 0.1474\n",
            "Epoch 325/1000\n",
            "1/1 [==============================] - 0s 8ms/step - loss: 0.0293 - mse: 0.0293 - mae: 0.1469\n",
            "Epoch 326/1000\n",
            "1/1 [==============================] - 0s 8ms/step - loss: 0.0291 - mse: 0.0291 - mae: 0.1464\n",
            "Epoch 327/1000\n",
            "1/1 [==============================] - 0s 9ms/step - loss: 0.0289 - mse: 0.0289 - mae: 0.1459\n",
            "Epoch 328/1000\n",
            "1/1 [==============================] - 0s 13ms/step - loss: 0.0287 - mse: 0.0287 - mae: 0.1454\n",
            "Epoch 329/1000\n",
            "1/1 [==============================] - 0s 9ms/step - loss: 0.0285 - mse: 0.0285 - mae: 0.1449\n",
            "Epoch 330/1000\n",
            "1/1 [==============================] - 0s 9ms/step - loss: 0.0283 - mse: 0.0283 - mae: 0.1444\n",
            "Epoch 331/1000\n",
            "1/1 [==============================] - 0s 11ms/step - loss: 0.0281 - mse: 0.0281 - mae: 0.1439\n",
            "Epoch 332/1000\n",
            "1/1 [==============================] - 0s 9ms/step - loss: 0.0279 - mse: 0.0279 - mae: 0.1434\n",
            "Epoch 333/1000\n",
            "1/1 [==============================] - 0s 9ms/step - loss: 0.0277 - mse: 0.0277 - mae: 0.1429\n",
            "Epoch 334/1000\n",
            "1/1 [==============================] - 0s 16ms/step - loss: 0.0275 - mse: 0.0275 - mae: 0.1425\n",
            "Epoch 335/1000\n",
            "1/1 [==============================] - 0s 11ms/step - loss: 0.0274 - mse: 0.0274 - mae: 0.1420\n",
            "Epoch 336/1000\n",
            "1/1 [==============================] - 0s 10ms/step - loss: 0.0272 - mse: 0.0272 - mae: 0.1415\n",
            "Epoch 337/1000\n",
            "1/1 [==============================] - 0s 11ms/step - loss: 0.0270 - mse: 0.0270 - mae: 0.1410\n",
            "Epoch 338/1000\n",
            "1/1 [==============================] - 0s 14ms/step - loss: 0.0268 - mse: 0.0268 - mae: 0.1405\n",
            "Epoch 339/1000\n",
            "1/1 [==============================] - 0s 17ms/step - loss: 0.0266 - mse: 0.0266 - mae: 0.1401\n",
            "Epoch 340/1000\n",
            "1/1 [==============================] - 0s 13ms/step - loss: 0.0264 - mse: 0.0264 - mae: 0.1396\n",
            "Epoch 341/1000\n",
            "1/1 [==============================] - 0s 11ms/step - loss: 0.0263 - mse: 0.0263 - mae: 0.1391\n",
            "Epoch 342/1000\n",
            "1/1 [==============================] - 0s 10ms/step - loss: 0.0261 - mse: 0.0261 - mae: 0.1386\n",
            "Epoch 343/1000\n",
            "1/1 [==============================] - 0s 12ms/step - loss: 0.0259 - mse: 0.0259 - mae: 0.1382\n",
            "Epoch 344/1000\n",
            "1/1 [==============================] - 0s 6ms/step - loss: 0.0257 - mse: 0.0257 - mae: 0.1377\n",
            "Epoch 345/1000\n",
            "1/1 [==============================] - 0s 9ms/step - loss: 0.0256 - mse: 0.0256 - mae: 0.1372\n",
            "Epoch 346/1000\n",
            "1/1 [==============================] - 0s 13ms/step - loss: 0.0254 - mse: 0.0254 - mae: 0.1368\n",
            "Epoch 347/1000\n",
            "1/1 [==============================] - 0s 12ms/step - loss: 0.0252 - mse: 0.0252 - mae: 0.1363\n",
            "Epoch 348/1000\n",
            "1/1 [==============================] - 0s 12ms/step - loss: 0.0251 - mse: 0.0251 - mae: 0.1359\n",
            "Epoch 349/1000\n",
            "1/1 [==============================] - 0s 5ms/step - loss: 0.0249 - mse: 0.0249 - mae: 0.1354\n",
            "Epoch 350/1000\n",
            "1/1 [==============================] - 0s 10ms/step - loss: 0.0247 - mse: 0.0247 - mae: 0.1349\n",
            "Epoch 351/1000\n",
            "1/1 [==============================] - 0s 7ms/step - loss: 0.0245 - mse: 0.0245 - mae: 0.1345\n",
            "Epoch 352/1000\n",
            "1/1 [==============================] - 0s 6ms/step - loss: 0.0244 - mse: 0.0244 - mae: 0.1340\n",
            "Epoch 353/1000\n",
            "1/1 [==============================] - 0s 11ms/step - loss: 0.0242 - mse: 0.0242 - mae: 0.1336\n",
            "Epoch 354/1000\n",
            "1/1 [==============================] - 0s 12ms/step - loss: 0.0241 - mse: 0.0241 - mae: 0.1331\n",
            "Epoch 355/1000\n",
            "1/1 [==============================] - 0s 12ms/step - loss: 0.0239 - mse: 0.0239 - mae: 0.1327\n",
            "Epoch 356/1000\n",
            "1/1 [==============================] - 0s 11ms/step - loss: 0.0237 - mse: 0.0237 - mae: 0.1322\n",
            "Epoch 357/1000\n",
            "1/1 [==============================] - 0s 12ms/step - loss: 0.0236 - mse: 0.0236 - mae: 0.1318\n",
            "Epoch 358/1000\n",
            "1/1 [==============================] - 0s 7ms/step - loss: 0.0234 - mse: 0.0234 - mae: 0.1313\n",
            "Epoch 359/1000\n",
            "1/1 [==============================] - 0s 12ms/step - loss: 0.0233 - mse: 0.0233 - mae: 0.1309\n",
            "Epoch 360/1000\n",
            "1/1 [==============================] - 0s 10ms/step - loss: 0.0231 - mse: 0.0231 - mae: 0.1304\n",
            "Epoch 361/1000\n",
            "1/1 [==============================] - 0s 14ms/step - loss: 0.0229 - mse: 0.0229 - mae: 0.1300\n",
            "Epoch 362/1000\n",
            "1/1 [==============================] - 0s 17ms/step - loss: 0.0228 - mse: 0.0228 - mae: 0.1296\n",
            "Epoch 363/1000\n",
            "1/1 [==============================] - 0s 9ms/step - loss: 0.0226 - mse: 0.0226 - mae: 0.1291\n",
            "Epoch 364/1000\n",
            "1/1 [==============================] - 0s 14ms/step - loss: 0.0225 - mse: 0.0225 - mae: 0.1287\n",
            "Epoch 365/1000\n",
            "1/1 [==============================] - 0s 10ms/step - loss: 0.0223 - mse: 0.0223 - mae: 0.1283\n",
            "Epoch 366/1000\n",
            "1/1 [==============================] - 0s 8ms/step - loss: 0.0222 - mse: 0.0222 - mae: 0.1278\n",
            "Epoch 367/1000\n",
            "1/1 [==============================] - 0s 11ms/step - loss: 0.0220 - mse: 0.0220 - mae: 0.1274\n",
            "Epoch 368/1000\n",
            "1/1 [==============================] - 0s 11ms/step - loss: 0.0219 - mse: 0.0219 - mae: 0.1270\n",
            "Epoch 369/1000\n",
            "1/1 [==============================] - 0s 7ms/step - loss: 0.0217 - mse: 0.0217 - mae: 0.1265\n",
            "Epoch 370/1000\n",
            "1/1 [==============================] - 0s 10ms/step - loss: 0.0216 - mse: 0.0216 - mae: 0.1261\n",
            "Epoch 371/1000\n",
            "1/1 [==============================] - 0s 9ms/step - loss: 0.0214 - mse: 0.0214 - mae: 0.1257\n",
            "Epoch 372/1000\n",
            "1/1 [==============================] - 0s 9ms/step - loss: 0.0213 - mse: 0.0213 - mae: 0.1252\n",
            "Epoch 373/1000\n",
            "1/1 [==============================] - 0s 7ms/step - loss: 0.0211 - mse: 0.0211 - mae: 0.1248\n",
            "Epoch 374/1000\n",
            "1/1 [==============================] - 0s 9ms/step - loss: 0.0210 - mse: 0.0210 - mae: 0.1244\n",
            "Epoch 375/1000\n",
            "1/1 [==============================] - 0s 12ms/step - loss: 0.0209 - mse: 0.0209 - mae: 0.1240\n",
            "Epoch 376/1000\n",
            "1/1 [==============================] - 0s 11ms/step - loss: 0.0207 - mse: 0.0207 - mae: 0.1236\n",
            "Epoch 377/1000\n",
            "1/1 [==============================] - 0s 8ms/step - loss: 0.0206 - mse: 0.0206 - mae: 0.1231\n",
            "Epoch 378/1000\n",
            "1/1 [==============================] - 0s 28ms/step - loss: 0.0204 - mse: 0.0204 - mae: 0.1227\n",
            "Epoch 379/1000\n",
            "1/1 [==============================] - 0s 8ms/step - loss: 0.0203 - mse: 0.0203 - mae: 0.1223\n",
            "Epoch 380/1000\n",
            "1/1 [==============================] - 0s 10ms/step - loss: 0.0202 - mse: 0.0202 - mae: 0.1219\n",
            "Epoch 381/1000\n",
            "1/1 [==============================] - 0s 13ms/step - loss: 0.0200 - mse: 0.0200 - mae: 0.1215\n",
            "Epoch 382/1000\n",
            "1/1 [==============================] - 0s 7ms/step - loss: 0.0199 - mse: 0.0199 - mae: 0.1211\n",
            "Epoch 383/1000\n",
            "1/1 [==============================] - 0s 6ms/step - loss: 0.0198 - mse: 0.0198 - mae: 0.1207\n",
            "Epoch 384/1000\n",
            "1/1 [==============================] - 0s 9ms/step - loss: 0.0196 - mse: 0.0196 - mae: 0.1203\n",
            "Epoch 385/1000\n",
            "1/1 [==============================] - 0s 10ms/step - loss: 0.0195 - mse: 0.0195 - mae: 0.1199\n",
            "Epoch 386/1000\n",
            "1/1 [==============================] - 0s 8ms/step - loss: 0.0194 - mse: 0.0194 - mae: 0.1194\n",
            "Epoch 387/1000\n",
            "1/1 [==============================] - 0s 9ms/step - loss: 0.0192 - mse: 0.0192 - mae: 0.1190\n",
            "Epoch 388/1000\n",
            "1/1 [==============================] - 0s 6ms/step - loss: 0.0191 - mse: 0.0191 - mae: 0.1186\n",
            "Epoch 389/1000\n",
            "1/1 [==============================] - 0s 11ms/step - loss: 0.0190 - mse: 0.0190 - mae: 0.1182\n",
            "Epoch 390/1000\n",
            "1/1 [==============================] - 0s 6ms/step - loss: 0.0188 - mse: 0.0188 - mae: 0.1178\n",
            "Epoch 391/1000\n",
            "1/1 [==============================] - 0s 11ms/step - loss: 0.0187 - mse: 0.0187 - mae: 0.1174\n",
            "Epoch 392/1000\n",
            "1/1 [==============================] - 0s 14ms/step - loss: 0.0186 - mse: 0.0186 - mae: 0.1170\n",
            "Epoch 393/1000\n",
            "1/1 [==============================] - 0s 10ms/step - loss: 0.0185 - mse: 0.0185 - mae: 0.1167\n",
            "Epoch 394/1000\n",
            "1/1 [==============================] - 0s 11ms/step - loss: 0.0183 - mse: 0.0183 - mae: 0.1163\n",
            "Epoch 395/1000\n",
            "1/1 [==============================] - 0s 13ms/step - loss: 0.0182 - mse: 0.0182 - mae: 0.1159\n",
            "Epoch 396/1000\n",
            "1/1 [==============================] - 0s 10ms/step - loss: 0.0181 - mse: 0.0181 - mae: 0.1155\n",
            "Epoch 397/1000\n",
            "1/1 [==============================] - 0s 11ms/step - loss: 0.0180 - mse: 0.0180 - mae: 0.1151\n",
            "Epoch 398/1000\n",
            "1/1 [==============================] - 0s 10ms/step - loss: 0.0179 - mse: 0.0179 - mae: 0.1147\n",
            "Epoch 399/1000\n",
            "1/1 [==============================] - 0s 10ms/step - loss: 0.0177 - mse: 0.0177 - mae: 0.1143\n",
            "Epoch 400/1000\n",
            "1/1 [==============================] - 0s 10ms/step - loss: 0.0176 - mse: 0.0176 - mae: 0.1139\n",
            "Epoch 401/1000\n",
            "1/1 [==============================] - 0s 13ms/step - loss: 0.0175 - mse: 0.0175 - mae: 0.1135\n",
            "Epoch 402/1000\n",
            "1/1 [==============================] - 0s 11ms/step - loss: 0.0174 - mse: 0.0174 - mae: 0.1131\n",
            "Epoch 403/1000\n",
            "1/1 [==============================] - 0s 9ms/step - loss: 0.0173 - mse: 0.0173 - mae: 0.1128\n",
            "Epoch 404/1000\n",
            "1/1 [==============================] - 0s 14ms/step - loss: 0.0171 - mse: 0.0171 - mae: 0.1124\n",
            "Epoch 405/1000\n",
            "1/1 [==============================] - 0s 24ms/step - loss: 0.0170 - mse: 0.0170 - mae: 0.1120\n",
            "Epoch 406/1000\n",
            "1/1 [==============================] - 0s 6ms/step - loss: 0.0169 - mse: 0.0169 - mae: 0.1116\n",
            "Epoch 407/1000\n",
            "1/1 [==============================] - 0s 7ms/step - loss: 0.0168 - mse: 0.0168 - mae: 0.1112\n",
            "Epoch 408/1000\n",
            "1/1 [==============================] - 0s 11ms/step - loss: 0.0167 - mse: 0.0167 - mae: 0.1109\n",
            "Epoch 409/1000\n",
            "1/1 [==============================] - 0s 8ms/step - loss: 0.0166 - mse: 0.0166 - mae: 0.1105\n",
            "Epoch 410/1000\n",
            "1/1 [==============================] - 0s 14ms/step - loss: 0.0165 - mse: 0.0165 - mae: 0.1101\n",
            "Epoch 411/1000\n",
            "1/1 [==============================] - 0s 7ms/step - loss: 0.0164 - mse: 0.0164 - mae: 0.1098\n",
            "Epoch 412/1000\n",
            "1/1 [==============================] - 0s 7ms/step - loss: 0.0162 - mse: 0.0162 - mae: 0.1094\n",
            "Epoch 413/1000\n",
            "1/1 [==============================] - 0s 9ms/step - loss: 0.0161 - mse: 0.0161 - mae: 0.1090\n",
            "Epoch 414/1000\n",
            "1/1 [==============================] - 0s 12ms/step - loss: 0.0160 - mse: 0.0160 - mae: 0.1086\n",
            "Epoch 415/1000\n",
            "1/1 [==============================] - 0s 8ms/step - loss: 0.0159 - mse: 0.0159 - mae: 0.1083\n",
            "Epoch 416/1000\n",
            "1/1 [==============================] - 0s 8ms/step - loss: 0.0158 - mse: 0.0158 - mae: 0.1079\n",
            "Epoch 417/1000\n",
            "1/1 [==============================] - 0s 7ms/step - loss: 0.0157 - mse: 0.0157 - mae: 0.1075\n",
            "Epoch 418/1000\n",
            "1/1 [==============================] - 0s 10ms/step - loss: 0.0156 - mse: 0.0156 - mae: 0.1072\n",
            "Epoch 419/1000\n",
            "1/1 [==============================] - 0s 11ms/step - loss: 0.0155 - mse: 0.0155 - mae: 0.1068\n",
            "Epoch 420/1000\n",
            "1/1 [==============================] - 0s 9ms/step - loss: 0.0154 - mse: 0.0154 - mae: 0.1065\n",
            "Epoch 421/1000\n",
            "1/1 [==============================] - 0s 8ms/step - loss: 0.0153 - mse: 0.0153 - mae: 0.1061\n",
            "Epoch 422/1000\n",
            "1/1 [==============================] - 0s 11ms/step - loss: 0.0152 - mse: 0.0152 - mae: 0.1057\n",
            "Epoch 423/1000\n",
            "1/1 [==============================] - 0s 15ms/step - loss: 0.0151 - mse: 0.0151 - mae: 0.1054\n",
            "Epoch 424/1000\n",
            "1/1 [==============================] - 0s 9ms/step - loss: 0.0150 - mse: 0.0150 - mae: 0.1050\n",
            "Epoch 425/1000\n",
            "1/1 [==============================] - 0s 9ms/step - loss: 0.0149 - mse: 0.0149 - mae: 0.1047\n",
            "Epoch 426/1000\n",
            "1/1 [==============================] - 0s 12ms/step - loss: 0.0148 - mse: 0.0148 - mae: 0.1043\n",
            "Epoch 427/1000\n",
            "1/1 [==============================] - 0s 12ms/step - loss: 0.0147 - mse: 0.0147 - mae: 0.1040\n",
            "Epoch 428/1000\n",
            "1/1 [==============================] - 0s 12ms/step - loss: 0.0146 - mse: 0.0146 - mae: 0.1036\n",
            "Epoch 429/1000\n",
            "1/1 [==============================] - 0s 13ms/step - loss: 0.0145 - mse: 0.0145 - mae: 0.1033\n",
            "Epoch 430/1000\n",
            "1/1 [==============================] - 0s 12ms/step - loss: 0.0144 - mse: 0.0144 - mae: 0.1029\n",
            "Epoch 431/1000\n",
            "1/1 [==============================] - 0s 10ms/step - loss: 0.0143 - mse: 0.0143 - mae: 0.1026\n",
            "Epoch 432/1000\n",
            "1/1 [==============================] - 0s 10ms/step - loss: 0.0142 - mse: 0.0142 - mae: 0.1022\n",
            "Epoch 433/1000\n",
            "1/1 [==============================] - 0s 13ms/step - loss: 0.0141 - mse: 0.0141 - mae: 0.1019\n",
            "Epoch 434/1000\n",
            "1/1 [==============================] - 0s 9ms/step - loss: 0.0140 - mse: 0.0140 - mae: 0.1015\n",
            "Epoch 435/1000\n",
            "1/1 [==============================] - 0s 12ms/step - loss: 0.0139 - mse: 0.0139 - mae: 0.1012\n",
            "Epoch 436/1000\n",
            "1/1 [==============================] - 0s 16ms/step - loss: 0.0138 - mse: 0.0138 - mae: 0.1008\n",
            "Epoch 437/1000\n",
            "1/1 [==============================] - 0s 11ms/step - loss: 0.0137 - mse: 0.0137 - mae: 0.1005\n",
            "Epoch 438/1000\n",
            "1/1 [==============================] - 0s 12ms/step - loss: 0.0136 - mse: 0.0136 - mae: 0.1002\n",
            "Epoch 439/1000\n",
            "1/1 [==============================] - 0s 9ms/step - loss: 0.0135 - mse: 0.0135 - mae: 0.0998\n",
            "Epoch 440/1000\n",
            "1/1 [==============================] - 0s 10ms/step - loss: 0.0134 - mse: 0.0134 - mae: 0.0995\n",
            "Epoch 441/1000\n",
            "1/1 [==============================] - 0s 10ms/step - loss: 0.0133 - mse: 0.0133 - mae: 0.0991\n",
            "Epoch 442/1000\n",
            "1/1 [==============================] - 0s 10ms/step - loss: 0.0133 - mse: 0.0133 - mae: 0.0988\n",
            "Epoch 443/1000\n",
            "1/1 [==============================] - 0s 15ms/step - loss: 0.0132 - mse: 0.0132 - mae: 0.0985\n",
            "Epoch 444/1000\n",
            "1/1 [==============================] - 0s 13ms/step - loss: 0.0131 - mse: 0.0131 - mae: 0.0981\n",
            "Epoch 445/1000\n",
            "1/1 [==============================] - 0s 7ms/step - loss: 0.0130 - mse: 0.0130 - mae: 0.0978\n",
            "Epoch 446/1000\n",
            "1/1 [==============================] - 0s 15ms/step - loss: 0.0129 - mse: 0.0129 - mae: 0.0975\n",
            "Epoch 447/1000\n",
            "1/1 [==============================] - 0s 17ms/step - loss: 0.0128 - mse: 0.0128 - mae: 0.0972\n",
            "Epoch 448/1000\n",
            "1/1 [==============================] - 0s 10ms/step - loss: 0.0127 - mse: 0.0127 - mae: 0.0968\n",
            "Epoch 449/1000\n",
            "1/1 [==============================] - 0s 11ms/step - loss: 0.0126 - mse: 0.0126 - mae: 0.0965\n",
            "Epoch 450/1000\n",
            "1/1 [==============================] - 0s 13ms/step - loss: 0.0126 - mse: 0.0126 - mae: 0.0962\n",
            "Epoch 451/1000\n",
            "1/1 [==============================] - 0s 18ms/step - loss: 0.0125 - mse: 0.0125 - mae: 0.0958\n",
            "Epoch 452/1000\n",
            "1/1 [==============================] - 0s 11ms/step - loss: 0.0124 - mse: 0.0124 - mae: 0.0955\n",
            "Epoch 453/1000\n",
            "1/1 [==============================] - 0s 13ms/step - loss: 0.0123 - mse: 0.0123 - mae: 0.0952\n",
            "Epoch 454/1000\n",
            "1/1 [==============================] - 0s 8ms/step - loss: 0.0122 - mse: 0.0122 - mae: 0.0949\n",
            "Epoch 455/1000\n",
            "1/1 [==============================] - 0s 12ms/step - loss: 0.0121 - mse: 0.0121 - mae: 0.0946\n",
            "Epoch 456/1000\n",
            "1/1 [==============================] - 0s 7ms/step - loss: 0.0121 - mse: 0.0121 - mae: 0.0942\n",
            "Epoch 457/1000\n",
            "1/1 [==============================] - 0s 9ms/step - loss: 0.0120 - mse: 0.0120 - mae: 0.0939\n",
            "Epoch 458/1000\n",
            "1/1 [==============================] - 0s 11ms/step - loss: 0.0119 - mse: 0.0119 - mae: 0.0936\n",
            "Epoch 459/1000\n",
            "1/1 [==============================] - 0s 8ms/step - loss: 0.0118 - mse: 0.0118 - mae: 0.0933\n",
            "Epoch 460/1000\n",
            "1/1 [==============================] - 0s 13ms/step - loss: 0.0117 - mse: 0.0117 - mae: 0.0930\n",
            "Epoch 461/1000\n",
            "1/1 [==============================] - 0s 7ms/step - loss: 0.0117 - mse: 0.0117 - mae: 0.0927\n",
            "Epoch 462/1000\n",
            "1/1 [==============================] - 0s 10ms/step - loss: 0.0116 - mse: 0.0116 - mae: 0.0923\n",
            "Epoch 463/1000\n",
            "1/1 [==============================] - 0s 10ms/step - loss: 0.0115 - mse: 0.0115 - mae: 0.0920\n",
            "Epoch 464/1000\n",
            "1/1 [==============================] - 0s 6ms/step - loss: 0.0114 - mse: 0.0114 - mae: 0.0917\n",
            "Epoch 465/1000\n",
            "1/1 [==============================] - 0s 7ms/step - loss: 0.0113 - mse: 0.0113 - mae: 0.0914\n",
            "Epoch 466/1000\n",
            "1/1 [==============================] - 0s 8ms/step - loss: 0.0113 - mse: 0.0113 - mae: 0.0911\n",
            "Epoch 467/1000\n",
            "1/1 [==============================] - 0s 8ms/step - loss: 0.0112 - mse: 0.0112 - mae: 0.0908\n",
            "Epoch 468/1000\n",
            "1/1 [==============================] - 0s 8ms/step - loss: 0.0111 - mse: 0.0111 - mae: 0.0905\n",
            "Epoch 469/1000\n",
            "1/1 [==============================] - 0s 7ms/step - loss: 0.0110 - mse: 0.0110 - mae: 0.0902\n",
            "Epoch 470/1000\n",
            "1/1 [==============================] - 0s 10ms/step - loss: 0.0110 - mse: 0.0110 - mae: 0.0899\n",
            "Epoch 471/1000\n",
            "1/1 [==============================] - 0s 8ms/step - loss: 0.0109 - mse: 0.0109 - mae: 0.0896\n",
            "Epoch 472/1000\n",
            "1/1 [==============================] - 0s 10ms/step - loss: 0.0108 - mse: 0.0108 - mae: 0.0893\n",
            "Epoch 473/1000\n",
            "1/1 [==============================] - 0s 10ms/step - loss: 0.0107 - mse: 0.0107 - mae: 0.0890\n",
            "Epoch 474/1000\n",
            "1/1 [==============================] - 0s 9ms/step - loss: 0.0107 - mse: 0.0107 - mae: 0.0887\n",
            "Epoch 475/1000\n",
            "1/1 [==============================] - 0s 9ms/step - loss: 0.0106 - mse: 0.0106 - mae: 0.0884\n",
            "Epoch 476/1000\n",
            "1/1 [==============================] - 0s 6ms/step - loss: 0.0105 - mse: 0.0105 - mae: 0.0881\n",
            "Epoch 477/1000\n",
            "1/1 [==============================] - 0s 17ms/step - loss: 0.0105 - mse: 0.0105 - mae: 0.0878\n",
            "Epoch 478/1000\n",
            "1/1 [==============================] - 0s 14ms/step - loss: 0.0104 - mse: 0.0104 - mae: 0.0875\n",
            "Epoch 479/1000\n",
            "1/1 [==============================] - 0s 11ms/step - loss: 0.0103 - mse: 0.0103 - mae: 0.0872\n",
            "Epoch 480/1000\n",
            "1/1 [==============================] - 0s 9ms/step - loss: 0.0102 - mse: 0.0102 - mae: 0.0869\n",
            "Epoch 481/1000\n",
            "1/1 [==============================] - 0s 7ms/step - loss: 0.0102 - mse: 0.0102 - mae: 0.0866\n",
            "Epoch 482/1000\n",
            "1/1 [==============================] - 0s 10ms/step - loss: 0.0101 - mse: 0.0101 - mae: 0.0863\n",
            "Epoch 483/1000\n",
            "1/1 [==============================] - 0s 11ms/step - loss: 0.0100 - mse: 0.0100 - mae: 0.0860\n",
            "Epoch 484/1000\n",
            "1/1 [==============================] - 0s 11ms/step - loss: 0.0100 - mse: 0.0100 - mae: 0.0857\n",
            "Epoch 485/1000\n",
            "1/1 [==============================] - 0s 11ms/step - loss: 0.0099 - mse: 0.0099 - mae: 0.0854\n",
            "Epoch 486/1000\n",
            "1/1 [==============================] - 0s 7ms/step - loss: 0.0098 - mse: 0.0098 - mae: 0.0851\n",
            "Epoch 487/1000\n",
            "1/1 [==============================] - 0s 12ms/step - loss: 0.0098 - mse: 0.0098 - mae: 0.0848\n",
            "Epoch 488/1000\n",
            "1/1 [==============================] - 0s 11ms/step - loss: 0.0097 - mse: 0.0097 - mae: 0.0846\n",
            "Epoch 489/1000\n",
            "1/1 [==============================] - 0s 7ms/step - loss: 0.0096 - mse: 0.0096 - mae: 0.0843\n",
            "Epoch 490/1000\n",
            "1/1 [==============================] - 0s 8ms/step - loss: 0.0096 - mse: 0.0096 - mae: 0.0840\n",
            "Epoch 491/1000\n",
            "1/1 [==============================] - 0s 6ms/step - loss: 0.0095 - mse: 0.0095 - mae: 0.0837\n",
            "Epoch 492/1000\n",
            "1/1 [==============================] - 0s 8ms/step - loss: 0.0094 - mse: 0.0094 - mae: 0.0834\n",
            "Epoch 493/1000\n",
            "1/1 [==============================] - 0s 6ms/step - loss: 0.0094 - mse: 0.0094 - mae: 0.0831\n",
            "Epoch 494/1000\n",
            "1/1 [==============================] - 0s 16ms/step - loss: 0.0093 - mse: 0.0093 - mae: 0.0829\n",
            "Epoch 495/1000\n",
            "1/1 [==============================] - 0s 11ms/step - loss: 0.0093 - mse: 0.0093 - mae: 0.0826\n",
            "Epoch 496/1000\n",
            "1/1 [==============================] - 0s 14ms/step - loss: 0.0092 - mse: 0.0092 - mae: 0.0823\n",
            "Epoch 497/1000\n",
            "1/1 [==============================] - 0s 11ms/step - loss: 0.0091 - mse: 0.0091 - mae: 0.0820\n",
            "Epoch 498/1000\n",
            "1/1 [==============================] - 0s 15ms/step - loss: 0.0091 - mse: 0.0091 - mae: 0.0817\n",
            "Epoch 499/1000\n",
            "1/1 [==============================] - 0s 10ms/step - loss: 0.0090 - mse: 0.0090 - mae: 0.0815\n",
            "Epoch 500/1000\n",
            "1/1 [==============================] - 0s 15ms/step - loss: 0.0089 - mse: 0.0089 - mae: 0.0812\n",
            "Epoch 501/1000\n",
            "1/1 [==============================] - 0s 9ms/step - loss: 0.0089 - mse: 0.0089 - mae: 0.0809\n",
            "Epoch 502/1000\n",
            "1/1 [==============================] - 0s 9ms/step - loss: 0.0088 - mse: 0.0088 - mae: 0.0806\n",
            "Epoch 503/1000\n",
            "1/1 [==============================] - 0s 11ms/step - loss: 0.0088 - mse: 0.0088 - mae: 0.0804\n",
            "Epoch 504/1000\n",
            "1/1 [==============================] - 0s 9ms/step - loss: 0.0087 - mse: 0.0087 - mae: 0.0801\n",
            "Epoch 505/1000\n",
            "1/1 [==============================] - 0s 11ms/step - loss: 0.0086 - mse: 0.0086 - mae: 0.0798\n",
            "Epoch 506/1000\n",
            "1/1 [==============================] - 0s 8ms/step - loss: 0.0086 - mse: 0.0086 - mae: 0.0796\n",
            "Epoch 507/1000\n",
            "1/1 [==============================] - 0s 10ms/step - loss: 0.0085 - mse: 0.0085 - mae: 0.0793\n",
            "Epoch 508/1000\n",
            "1/1 [==============================] - 0s 11ms/step - loss: 0.0085 - mse: 0.0085 - mae: 0.0790\n",
            "Epoch 509/1000\n",
            "1/1 [==============================] - 0s 9ms/step - loss: 0.0084 - mse: 0.0084 - mae: 0.0788\n",
            "Epoch 510/1000\n",
            "1/1 [==============================] - 0s 11ms/step - loss: 0.0084 - mse: 0.0084 - mae: 0.0785\n",
            "Epoch 511/1000\n",
            "1/1 [==============================] - 0s 6ms/step - loss: 0.0083 - mse: 0.0083 - mae: 0.0782\n",
            "Epoch 512/1000\n",
            "1/1 [==============================] - 0s 8ms/step - loss: 0.0082 - mse: 0.0082 - mae: 0.0780\n",
            "Epoch 513/1000\n",
            "1/1 [==============================] - 0s 5ms/step - loss: 0.0082 - mse: 0.0082 - mae: 0.0777\n",
            "Epoch 514/1000\n",
            "1/1 [==============================] - 0s 11ms/step - loss: 0.0081 - mse: 0.0081 - mae: 0.0774\n",
            "Epoch 515/1000\n",
            "1/1 [==============================] - 0s 9ms/step - loss: 0.0081 - mse: 0.0081 - mae: 0.0772\n",
            "Epoch 516/1000\n",
            "1/1 [==============================] - 0s 8ms/step - loss: 0.0080 - mse: 0.0080 - mae: 0.0769\n",
            "Epoch 517/1000\n",
            "1/1 [==============================] - 0s 7ms/step - loss: 0.0080 - mse: 0.0080 - mae: 0.0766\n",
            "Epoch 518/1000\n",
            "1/1 [==============================] - 0s 11ms/step - loss: 0.0079 - mse: 0.0079 - mae: 0.0764\n",
            "Epoch 519/1000\n",
            "1/1 [==============================] - 0s 8ms/step - loss: 0.0079 - mse: 0.0079 - mae: 0.0761\n",
            "Epoch 520/1000\n",
            "1/1 [==============================] - 0s 8ms/step - loss: 0.0078 - mse: 0.0078 - mae: 0.0759\n",
            "Epoch 521/1000\n",
            "1/1 [==============================] - 0s 10ms/step - loss: 0.0078 - mse: 0.0078 - mae: 0.0756\n",
            "Epoch 522/1000\n",
            "1/1 [==============================] - 0s 10ms/step - loss: 0.0077 - mse: 0.0077 - mae: 0.0754\n",
            "Epoch 523/1000\n",
            "1/1 [==============================] - 0s 9ms/step - loss: 0.0077 - mse: 0.0077 - mae: 0.0751\n",
            "Epoch 524/1000\n",
            "1/1 [==============================] - 0s 8ms/step - loss: 0.0076 - mse: 0.0076 - mae: 0.0749\n",
            "Epoch 525/1000\n",
            "1/1 [==============================] - 0s 13ms/step - loss: 0.0076 - mse: 0.0076 - mae: 0.0746\n",
            "Epoch 526/1000\n",
            "1/1 [==============================] - 0s 7ms/step - loss: 0.0075 - mse: 0.0075 - mae: 0.0743\n",
            "Epoch 527/1000\n",
            "1/1 [==============================] - 0s 11ms/step - loss: 0.0075 - mse: 0.0075 - mae: 0.0741\n",
            "Epoch 528/1000\n",
            "1/1 [==============================] - 0s 6ms/step - loss: 0.0074 - mse: 0.0074 - mae: 0.0738\n",
            "Epoch 529/1000\n",
            "1/1 [==============================] - 0s 22ms/step - loss: 0.0074 - mse: 0.0074 - mae: 0.0736\n",
            "Epoch 530/1000\n",
            "1/1 [==============================] - 0s 18ms/step - loss: 0.0073 - mse: 0.0073 - mae: 0.0733\n",
            "Epoch 531/1000\n",
            "1/1 [==============================] - 0s 11ms/step - loss: 0.0073 - mse: 0.0073 - mae: 0.0731\n",
            "Epoch 532/1000\n",
            "1/1 [==============================] - 0s 16ms/step - loss: 0.0072 - mse: 0.0072 - mae: 0.0729\n",
            "Epoch 533/1000\n",
            "1/1 [==============================] - 0s 10ms/step - loss: 0.0072 - mse: 0.0072 - mae: 0.0726\n",
            "Epoch 534/1000\n",
            "1/1 [==============================] - 0s 9ms/step - loss: 0.0071 - mse: 0.0071 - mae: 0.0724\n",
            "Epoch 535/1000\n",
            "1/1 [==============================] - 0s 14ms/step - loss: 0.0071 - mse: 0.0071 - mae: 0.0721\n",
            "Epoch 536/1000\n",
            "1/1 [==============================] - 0s 9ms/step - loss: 0.0070 - mse: 0.0070 - mae: 0.0719\n",
            "Epoch 537/1000\n",
            "1/1 [==============================] - 0s 12ms/step - loss: 0.0070 - mse: 0.0070 - mae: 0.0716\n",
            "Epoch 538/1000\n",
            "1/1 [==============================] - 0s 18ms/step - loss: 0.0069 - mse: 0.0069 - mae: 0.0714\n",
            "Epoch 539/1000\n",
            "1/1 [==============================] - 0s 20ms/step - loss: 0.0069 - mse: 0.0069 - mae: 0.0711\n",
            "Epoch 540/1000\n",
            "1/1 [==============================] - 0s 15ms/step - loss: 0.0068 - mse: 0.0068 - mae: 0.0709\n",
            "Epoch 541/1000\n",
            "1/1 [==============================] - 0s 11ms/step - loss: 0.0068 - mse: 0.0068 - mae: 0.0707\n",
            "Epoch 542/1000\n",
            "1/1 [==============================] - 0s 11ms/step - loss: 0.0067 - mse: 0.0067 - mae: 0.0704\n",
            "Epoch 543/1000\n",
            "1/1 [==============================] - 0s 12ms/step - loss: 0.0067 - mse: 0.0067 - mae: 0.0702\n",
            "Epoch 544/1000\n",
            "1/1 [==============================] - 0s 7ms/step - loss: 0.0066 - mse: 0.0066 - mae: 0.0700\n",
            "Epoch 545/1000\n",
            "1/1 [==============================] - 0s 12ms/step - loss: 0.0066 - mse: 0.0066 - mae: 0.0697\n",
            "Epoch 546/1000\n",
            "1/1 [==============================] - 0s 12ms/step - loss: 0.0066 - mse: 0.0066 - mae: 0.0695\n",
            "Epoch 547/1000\n",
            "1/1 [==============================] - 0s 9ms/step - loss: 0.0065 - mse: 0.0065 - mae: 0.0692\n",
            "Epoch 548/1000\n",
            "1/1 [==============================] - 0s 10ms/step - loss: 0.0065 - mse: 0.0065 - mae: 0.0690\n",
            "Epoch 549/1000\n",
            "1/1 [==============================] - 0s 7ms/step - loss: 0.0064 - mse: 0.0064 - mae: 0.0688\n",
            "Epoch 550/1000\n",
            "1/1 [==============================] - 0s 16ms/step - loss: 0.0064 - mse: 0.0064 - mae: 0.0685\n",
            "Epoch 551/1000\n",
            "1/1 [==============================] - 0s 10ms/step - loss: 0.0063 - mse: 0.0063 - mae: 0.0683\n",
            "Epoch 552/1000\n",
            "1/1 [==============================] - 0s 16ms/step - loss: 0.0063 - mse: 0.0063 - mae: 0.0681\n",
            "Epoch 553/1000\n",
            "1/1 [==============================] - 0s 12ms/step - loss: 0.0062 - mse: 0.0062 - mae: 0.0679\n",
            "Epoch 554/1000\n",
            "1/1 [==============================] - 0s 10ms/step - loss: 0.0062 - mse: 0.0062 - mae: 0.0676\n",
            "Epoch 555/1000\n",
            "1/1 [==============================] - 0s 5ms/step - loss: 0.0062 - mse: 0.0062 - mae: 0.0674\n",
            "Epoch 556/1000\n",
            "1/1 [==============================] - 0s 9ms/step - loss: 0.0061 - mse: 0.0061 - mae: 0.0672\n",
            "Epoch 557/1000\n",
            "1/1 [==============================] - 0s 7ms/step - loss: 0.0061 - mse: 0.0061 - mae: 0.0669\n",
            "Epoch 558/1000\n",
            "1/1 [==============================] - 0s 8ms/step - loss: 0.0060 - mse: 0.0060 - mae: 0.0667\n",
            "Epoch 559/1000\n",
            "1/1 [==============================] - 0s 14ms/step - loss: 0.0060 - mse: 0.0060 - mae: 0.0665\n",
            "Epoch 560/1000\n",
            "1/1 [==============================] - 0s 15ms/step - loss: 0.0060 - mse: 0.0060 - mae: 0.0663\n",
            "Epoch 561/1000\n",
            "1/1 [==============================] - 0s 9ms/step - loss: 0.0059 - mse: 0.0059 - mae: 0.0660\n",
            "Epoch 562/1000\n",
            "1/1 [==============================] - 0s 11ms/step - loss: 0.0059 - mse: 0.0059 - mae: 0.0658\n",
            "Epoch 563/1000\n",
            "1/1 [==============================] - 0s 14ms/step - loss: 0.0058 - mse: 0.0058 - mae: 0.0656\n",
            "Epoch 564/1000\n",
            "1/1 [==============================] - 0s 14ms/step - loss: 0.0058 - mse: 0.0058 - mae: 0.0654\n",
            "Epoch 565/1000\n",
            "1/1 [==============================] - 0s 10ms/step - loss: 0.0058 - mse: 0.0058 - mae: 0.0651\n",
            "Epoch 566/1000\n",
            "1/1 [==============================] - 0s 9ms/step - loss: 0.0057 - mse: 0.0057 - mae: 0.0649\n",
            "Epoch 567/1000\n",
            "1/1 [==============================] - 0s 12ms/step - loss: 0.0057 - mse: 0.0057 - mae: 0.0647\n",
            "Epoch 568/1000\n",
            "1/1 [==============================] - 0s 12ms/step - loss: 0.0056 - mse: 0.0056 - mae: 0.0645\n",
            "Epoch 569/1000\n",
            "1/1 [==============================] - 0s 10ms/step - loss: 0.0056 - mse: 0.0056 - mae: 0.0643\n",
            "Epoch 570/1000\n",
            "1/1 [==============================] - 0s 10ms/step - loss: 0.0056 - mse: 0.0056 - mae: 0.0641\n",
            "Epoch 571/1000\n",
            "1/1 [==============================] - 0s 7ms/step - loss: 0.0055 - mse: 0.0055 - mae: 0.0638\n",
            "Epoch 572/1000\n",
            "1/1 [==============================] - 0s 9ms/step - loss: 0.0055 - mse: 0.0055 - mae: 0.0636\n",
            "Epoch 573/1000\n",
            "1/1 [==============================] - 0s 12ms/step - loss: 0.0055 - mse: 0.0055 - mae: 0.0634\n",
            "Epoch 574/1000\n",
            "1/1 [==============================] - 0s 6ms/step - loss: 0.0054 - mse: 0.0054 - mae: 0.0632\n",
            "Epoch 575/1000\n",
            "1/1 [==============================] - 0s 7ms/step - loss: 0.0054 - mse: 0.0054 - mae: 0.0630\n",
            "Epoch 576/1000\n",
            "1/1 [==============================] - 0s 9ms/step - loss: 0.0053 - mse: 0.0053 - mae: 0.0628\n",
            "Epoch 577/1000\n",
            "1/1 [==============================] - 0s 15ms/step - loss: 0.0053 - mse: 0.0053 - mae: 0.0626\n",
            "Epoch 578/1000\n",
            "1/1 [==============================] - 0s 13ms/step - loss: 0.0053 - mse: 0.0053 - mae: 0.0623\n",
            "Epoch 579/1000\n",
            "1/1 [==============================] - 0s 7ms/step - loss: 0.0052 - mse: 0.0052 - mae: 0.0621\n",
            "Epoch 580/1000\n",
            "1/1 [==============================] - 0s 12ms/step - loss: 0.0052 - mse: 0.0052 - mae: 0.0619\n",
            "Epoch 581/1000\n",
            "1/1 [==============================] - 0s 8ms/step - loss: 0.0052 - mse: 0.0052 - mae: 0.0617\n",
            "Epoch 582/1000\n",
            "1/1 [==============================] - 0s 14ms/step - loss: 0.0051 - mse: 0.0051 - mae: 0.0615\n",
            "Epoch 583/1000\n",
            "1/1 [==============================] - 0s 11ms/step - loss: 0.0051 - mse: 0.0051 - mae: 0.0613\n",
            "Epoch 584/1000\n",
            "1/1 [==============================] - 0s 10ms/step - loss: 0.0051 - mse: 0.0051 - mae: 0.0611\n",
            "Epoch 585/1000\n",
            "1/1 [==============================] - 0s 7ms/step - loss: 0.0050 - mse: 0.0050 - mae: 0.0609\n",
            "Epoch 586/1000\n",
            "1/1 [==============================] - 0s 13ms/step - loss: 0.0050 - mse: 0.0050 - mae: 0.0607\n",
            "Epoch 587/1000\n",
            "1/1 [==============================] - 0s 11ms/step - loss: 0.0050 - mse: 0.0050 - mae: 0.0605\n",
            "Epoch 588/1000\n",
            "1/1 [==============================] - 0s 8ms/step - loss: 0.0049 - mse: 0.0049 - mae: 0.0603\n",
            "Epoch 589/1000\n",
            "1/1 [==============================] - 0s 11ms/step - loss: 0.0049 - mse: 0.0049 - mae: 0.0601\n",
            "Epoch 590/1000\n",
            "1/1 [==============================] - 0s 13ms/step - loss: 0.0049 - mse: 0.0049 - mae: 0.0599\n",
            "Epoch 591/1000\n",
            "1/1 [==============================] - 0s 10ms/step - loss: 0.0048 - mse: 0.0048 - mae: 0.0597\n",
            "Epoch 592/1000\n",
            "1/1 [==============================] - 0s 9ms/step - loss: 0.0048 - mse: 0.0048 - mae: 0.0595\n",
            "Epoch 593/1000\n",
            "1/1 [==============================] - 0s 11ms/step - loss: 0.0048 - mse: 0.0048 - mae: 0.0593\n",
            "Epoch 594/1000\n",
            "1/1 [==============================] - 0s 12ms/step - loss: 0.0047 - mse: 0.0047 - mae: 0.0591\n",
            "Epoch 595/1000\n",
            "1/1 [==============================] - 0s 8ms/step - loss: 0.0047 - mse: 0.0047 - mae: 0.0589\n",
            "Epoch 596/1000\n",
            "1/1 [==============================] - 0s 9ms/step - loss: 0.0047 - mse: 0.0047 - mae: 0.0587\n",
            "Epoch 597/1000\n",
            "1/1 [==============================] - 0s 8ms/step - loss: 0.0046 - mse: 0.0046 - mae: 0.0585\n",
            "Epoch 598/1000\n",
            "1/1 [==============================] - 0s 14ms/step - loss: 0.0046 - mse: 0.0046 - mae: 0.0583\n",
            "Epoch 599/1000\n",
            "1/1 [==============================] - 0s 5ms/step - loss: 0.0046 - mse: 0.0046 - mae: 0.0581\n",
            "Epoch 600/1000\n",
            "1/1 [==============================] - 0s 10ms/step - loss: 0.0045 - mse: 0.0045 - mae: 0.0579\n",
            "Epoch 601/1000\n",
            "1/1 [==============================] - 0s 5ms/step - loss: 0.0045 - mse: 0.0045 - mae: 0.0577\n",
            "Epoch 602/1000\n",
            "1/1 [==============================] - 0s 9ms/step - loss: 0.0045 - mse: 0.0045 - mae: 0.0575\n",
            "Epoch 603/1000\n",
            "1/1 [==============================] - 0s 8ms/step - loss: 0.0045 - mse: 0.0045 - mae: 0.0573\n",
            "Epoch 604/1000\n",
            "1/1 [==============================] - 0s 12ms/step - loss: 0.0044 - mse: 0.0044 - mae: 0.0571\n",
            "Epoch 605/1000\n",
            "1/1 [==============================] - 0s 13ms/step - loss: 0.0044 - mse: 0.0044 - mae: 0.0569\n",
            "Epoch 606/1000\n",
            "1/1 [==============================] - 0s 9ms/step - loss: 0.0044 - mse: 0.0044 - mae: 0.0567\n",
            "Epoch 607/1000\n",
            "1/1 [==============================] - 0s 9ms/step - loss: 0.0043 - mse: 0.0043 - mae: 0.0565\n",
            "Epoch 608/1000\n",
            "1/1 [==============================] - 0s 6ms/step - loss: 0.0043 - mse: 0.0043 - mae: 0.0563\n",
            "Epoch 609/1000\n",
            "1/1 [==============================] - 0s 10ms/step - loss: 0.0043 - mse: 0.0043 - mae: 0.0561\n",
            "Epoch 610/1000\n",
            "1/1 [==============================] - 0s 10ms/step - loss: 0.0042 - mse: 0.0042 - mae: 0.0559\n",
            "Epoch 611/1000\n",
            "1/1 [==============================] - 0s 6ms/step - loss: 0.0042 - mse: 0.0042 - mae: 0.0558\n",
            "Epoch 612/1000\n",
            "1/1 [==============================] - 0s 14ms/step - loss: 0.0042 - mse: 0.0042 - mae: 0.0556\n",
            "Epoch 613/1000\n",
            "1/1 [==============================] - 0s 13ms/step - loss: 0.0042 - mse: 0.0042 - mae: 0.0554\n",
            "Epoch 614/1000\n",
            "1/1 [==============================] - 0s 10ms/step - loss: 0.0041 - mse: 0.0041 - mae: 0.0552\n",
            "Epoch 615/1000\n",
            "1/1 [==============================] - 0s 13ms/step - loss: 0.0041 - mse: 0.0041 - mae: 0.0550\n",
            "Epoch 616/1000\n",
            "1/1 [==============================] - 0s 13ms/step - loss: 0.0041 - mse: 0.0041 - mae: 0.0548\n",
            "Epoch 617/1000\n",
            "1/1 [==============================] - 0s 14ms/step - loss: 0.0041 - mse: 0.0041 - mae: 0.0546\n",
            "Epoch 618/1000\n",
            "1/1 [==============================] - 0s 11ms/step - loss: 0.0040 - mse: 0.0040 - mae: 0.0544\n",
            "Epoch 619/1000\n",
            "1/1 [==============================] - 0s 10ms/step - loss: 0.0040 - mse: 0.0040 - mae: 0.0543\n",
            "Epoch 620/1000\n",
            "1/1 [==============================] - 0s 9ms/step - loss: 0.0040 - mse: 0.0040 - mae: 0.0541\n",
            "Epoch 621/1000\n",
            "1/1 [==============================] - 0s 8ms/step - loss: 0.0039 - mse: 0.0039 - mae: 0.0539\n",
            "Epoch 622/1000\n",
            "1/1 [==============================] - 0s 7ms/step - loss: 0.0039 - mse: 0.0039 - mae: 0.0537\n",
            "Epoch 623/1000\n",
            "1/1 [==============================] - 0s 14ms/step - loss: 0.0039 - mse: 0.0039 - mae: 0.0535\n",
            "Epoch 624/1000\n",
            "1/1 [==============================] - 0s 8ms/step - loss: 0.0039 - mse: 0.0039 - mae: 0.0533\n",
            "Epoch 625/1000\n",
            "1/1 [==============================] - 0s 14ms/step - loss: 0.0038 - mse: 0.0038 - mae: 0.0532\n",
            "Epoch 626/1000\n",
            "1/1 [==============================] - 0s 14ms/step - loss: 0.0038 - mse: 0.0038 - mae: 0.0530\n",
            "Epoch 627/1000\n",
            "1/1 [==============================] - 0s 14ms/step - loss: 0.0038 - mse: 0.0038 - mae: 0.0528\n",
            "Epoch 628/1000\n",
            "1/1 [==============================] - 0s 8ms/step - loss: 0.0038 - mse: 0.0038 - mae: 0.0526\n",
            "Epoch 629/1000\n",
            "1/1 [==============================] - 0s 5ms/step - loss: 0.0037 - mse: 0.0037 - mae: 0.0525\n",
            "Epoch 630/1000\n",
            "1/1 [==============================] - 0s 10ms/step - loss: 0.0037 - mse: 0.0037 - mae: 0.0523\n",
            "Epoch 631/1000\n",
            "1/1 [==============================] - 0s 5ms/step - loss: 0.0037 - mse: 0.0037 - mae: 0.0521\n",
            "Epoch 632/1000\n",
            "1/1 [==============================] - 0s 11ms/step - loss: 0.0037 - mse: 0.0037 - mae: 0.0519\n",
            "Epoch 633/1000\n",
            "1/1 [==============================] - 0s 5ms/step - loss: 0.0036 - mse: 0.0036 - mae: 0.0517\n",
            "Epoch 634/1000\n",
            "1/1 [==============================] - 0s 10ms/step - loss: 0.0036 - mse: 0.0036 - mae: 0.0516\n",
            "Epoch 635/1000\n",
            "1/1 [==============================] - 0s 6ms/step - loss: 0.0036 - mse: 0.0036 - mae: 0.0514\n",
            "Epoch 636/1000\n",
            "1/1 [==============================] - 0s 12ms/step - loss: 0.0036 - mse: 0.0036 - mae: 0.0512\n",
            "Epoch 637/1000\n",
            "1/1 [==============================] - 0s 6ms/step - loss: 0.0035 - mse: 0.0035 - mae: 0.0511\n",
            "Epoch 638/1000\n",
            "1/1 [==============================] - 0s 10ms/step - loss: 0.0035 - mse: 0.0035 - mae: 0.0509\n",
            "Epoch 639/1000\n",
            "1/1 [==============================] - 0s 6ms/step - loss: 0.0035 - mse: 0.0035 - mae: 0.0507\n",
            "Epoch 640/1000\n",
            "1/1 [==============================] - 0s 5ms/step - loss: 0.0035 - mse: 0.0035 - mae: 0.0505\n",
            "Epoch 641/1000\n",
            "1/1 [==============================] - 0s 14ms/step - loss: 0.0034 - mse: 0.0034 - mae: 0.0504\n",
            "Epoch 642/1000\n",
            "1/1 [==============================] - 0s 6ms/step - loss: 0.0034 - mse: 0.0034 - mae: 0.0502\n",
            "Epoch 643/1000\n",
            "1/1 [==============================] - 0s 9ms/step - loss: 0.0034 - mse: 0.0034 - mae: 0.0500\n",
            "Epoch 644/1000\n",
            "1/1 [==============================] - 0s 5ms/step - loss: 0.0034 - mse: 0.0034 - mae: 0.0499\n",
            "Epoch 645/1000\n",
            "1/1 [==============================] - 0s 15ms/step - loss: 0.0034 - mse: 0.0034 - mae: 0.0497\n",
            "Epoch 646/1000\n",
            "1/1 [==============================] - 0s 12ms/step - loss: 0.0033 - mse: 0.0033 - mae: 0.0495\n",
            "Epoch 647/1000\n",
            "1/1 [==============================] - 0s 20ms/step - loss: 0.0033 - mse: 0.0033 - mae: 0.0494\n",
            "Epoch 648/1000\n",
            "1/1 [==============================] - 0s 12ms/step - loss: 0.0033 - mse: 0.0033 - mae: 0.0492\n",
            "Epoch 649/1000\n",
            "1/1 [==============================] - 0s 11ms/step - loss: 0.0033 - mse: 0.0033 - mae: 0.0490\n",
            "Epoch 650/1000\n",
            "1/1 [==============================] - 0s 14ms/step - loss: 0.0032 - mse: 0.0032 - mae: 0.0489\n",
            "Epoch 651/1000\n",
            "1/1 [==============================] - 0s 12ms/step - loss: 0.0032 - mse: 0.0032 - mae: 0.0487\n",
            "Epoch 652/1000\n",
            "1/1 [==============================] - 0s 6ms/step - loss: 0.0032 - mse: 0.0032 - mae: 0.0485\n",
            "Epoch 653/1000\n",
            "1/1 [==============================] - 0s 10ms/step - loss: 0.0032 - mse: 0.0032 - mae: 0.0484\n",
            "Epoch 654/1000\n",
            "1/1 [==============================] - 0s 5ms/step - loss: 0.0032 - mse: 0.0032 - mae: 0.0482\n",
            "Epoch 655/1000\n",
            "1/1 [==============================] - 0s 11ms/step - loss: 0.0031 - mse: 0.0031 - mae: 0.0480\n",
            "Epoch 656/1000\n",
            "1/1 [==============================] - 0s 5ms/step - loss: 0.0031 - mse: 0.0031 - mae: 0.0479\n",
            "Epoch 657/1000\n",
            "1/1 [==============================] - 0s 17ms/step - loss: 0.0031 - mse: 0.0031 - mae: 0.0477\n",
            "Epoch 658/1000\n",
            "1/1 [==============================] - 0s 12ms/step - loss: 0.0031 - mse: 0.0031 - mae: 0.0475\n",
            "Epoch 659/1000\n",
            "1/1 [==============================] - 0s 8ms/step - loss: 0.0030 - mse: 0.0030 - mae: 0.0474\n",
            "Epoch 660/1000\n",
            "1/1 [==============================] - 0s 8ms/step - loss: 0.0030 - mse: 0.0030 - mae: 0.0472\n",
            "Epoch 661/1000\n",
            "1/1 [==============================] - 0s 8ms/step - loss: 0.0030 - mse: 0.0030 - mae: 0.0471\n",
            "Epoch 662/1000\n",
            "1/1 [==============================] - 0s 14ms/step - loss: 0.0030 - mse: 0.0030 - mae: 0.0469\n",
            "Epoch 663/1000\n",
            "1/1 [==============================] - 0s 17ms/step - loss: 0.0030 - mse: 0.0030 - mae: 0.0467\n",
            "Epoch 664/1000\n",
            "1/1 [==============================] - 0s 14ms/step - loss: 0.0029 - mse: 0.0029 - mae: 0.0466\n",
            "Epoch 665/1000\n",
            "1/1 [==============================] - 0s 9ms/step - loss: 0.0029 - mse: 0.0029 - mae: 0.0464\n",
            "Epoch 666/1000\n",
            "1/1 [==============================] - 0s 9ms/step - loss: 0.0029 - mse: 0.0029 - mae: 0.0463\n",
            "Epoch 667/1000\n",
            "1/1 [==============================] - 0s 6ms/step - loss: 0.0029 - mse: 0.0029 - mae: 0.0461\n",
            "Epoch 668/1000\n",
            "1/1 [==============================] - 0s 8ms/step - loss: 0.0029 - mse: 0.0029 - mae: 0.0460\n",
            "Epoch 669/1000\n",
            "1/1 [==============================] - 0s 11ms/step - loss: 0.0028 - mse: 0.0028 - mae: 0.0458\n",
            "Epoch 670/1000\n",
            "1/1 [==============================] - 0s 5ms/step - loss: 0.0028 - mse: 0.0028 - mae: 0.0457\n",
            "Epoch 671/1000\n",
            "1/1 [==============================] - 0s 10ms/step - loss: 0.0028 - mse: 0.0028 - mae: 0.0455\n",
            "Epoch 672/1000\n",
            "1/1 [==============================] - 0s 18ms/step - loss: 0.0028 - mse: 0.0028 - mae: 0.0453\n",
            "Epoch 673/1000\n",
            "1/1 [==============================] - 0s 8ms/step - loss: 0.0028 - mse: 0.0028 - mae: 0.0452\n",
            "Epoch 674/1000\n",
            "1/1 [==============================] - 0s 17ms/step - loss: 0.0028 - mse: 0.0028 - mae: 0.0450\n",
            "Epoch 675/1000\n",
            "1/1 [==============================] - 0s 9ms/step - loss: 0.0027 - mse: 0.0027 - mae: 0.0449\n",
            "Epoch 676/1000\n",
            "1/1 [==============================] - 0s 18ms/step - loss: 0.0027 - mse: 0.0027 - mae: 0.0447\n",
            "Epoch 677/1000\n",
            "1/1 [==============================] - 0s 9ms/step - loss: 0.0027 - mse: 0.0027 - mae: 0.0446\n",
            "Epoch 678/1000\n",
            "1/1 [==============================] - 0s 9ms/step - loss: 0.0027 - mse: 0.0027 - mae: 0.0444\n",
            "Epoch 679/1000\n",
            "1/1 [==============================] - 0s 8ms/step - loss: 0.0027 - mse: 0.0027 - mae: 0.0443\n",
            "Epoch 680/1000\n",
            "1/1 [==============================] - 0s 8ms/step - loss: 0.0026 - mse: 0.0026 - mae: 0.0441\n",
            "Epoch 681/1000\n",
            "1/1 [==============================] - 0s 9ms/step - loss: 0.0026 - mse: 0.0026 - mae: 0.0440\n",
            "Epoch 682/1000\n",
            "1/1 [==============================] - 0s 7ms/step - loss: 0.0026 - mse: 0.0026 - mae: 0.0438\n",
            "Epoch 683/1000\n",
            "1/1 [==============================] - 0s 12ms/step - loss: 0.0026 - mse: 0.0026 - mae: 0.0437\n",
            "Epoch 684/1000\n",
            "1/1 [==============================] - 0s 5ms/step - loss: 0.0026 - mse: 0.0026 - mae: 0.0435\n",
            "Epoch 685/1000\n",
            "1/1 [==============================] - 0s 9ms/step - loss: 0.0026 - mse: 0.0026 - mae: 0.0434\n",
            "Epoch 686/1000\n",
            "1/1 [==============================] - 0s 10ms/step - loss: 0.0025 - mse: 0.0025 - mae: 0.0432\n",
            "Epoch 687/1000\n",
            "1/1 [==============================] - 0s 15ms/step - loss: 0.0025 - mse: 0.0025 - mae: 0.0431\n",
            "Epoch 688/1000\n",
            "1/1 [==============================] - 0s 10ms/step - loss: 0.0025 - mse: 0.0025 - mae: 0.0430\n",
            "Epoch 689/1000\n",
            "1/1 [==============================] - 0s 8ms/step - loss: 0.0025 - mse: 0.0025 - mae: 0.0428\n",
            "Epoch 690/1000\n",
            "1/1 [==============================] - 0s 7ms/step - loss: 0.0025 - mse: 0.0025 - mae: 0.0427\n",
            "Epoch 691/1000\n",
            "1/1 [==============================] - 0s 7ms/step - loss: 0.0025 - mse: 0.0025 - mae: 0.0425\n",
            "Epoch 692/1000\n",
            "1/1 [==============================] - 0s 8ms/step - loss: 0.0024 - mse: 0.0024 - mae: 0.0424\n",
            "Epoch 693/1000\n",
            "1/1 [==============================] - 0s 8ms/step - loss: 0.0024 - mse: 0.0024 - mae: 0.0422\n",
            "Epoch 694/1000\n",
            "1/1 [==============================] - 0s 8ms/step - loss: 0.0024 - mse: 0.0024 - mae: 0.0421\n",
            "Epoch 695/1000\n",
            "1/1 [==============================] - 0s 8ms/step - loss: 0.0024 - mse: 0.0024 - mae: 0.0419\n",
            "Epoch 696/1000\n",
            "1/1 [==============================] - 0s 7ms/step - loss: 0.0024 - mse: 0.0024 - mae: 0.0418\n",
            "Epoch 697/1000\n",
            "1/1 [==============================] - 0s 8ms/step - loss: 0.0024 - mse: 0.0024 - mae: 0.0417\n",
            "Epoch 698/1000\n",
            "1/1 [==============================] - 0s 6ms/step - loss: 0.0023 - mse: 0.0023 - mae: 0.0415\n",
            "Epoch 699/1000\n",
            "1/1 [==============================] - 0s 11ms/step - loss: 0.0023 - mse: 0.0023 - mae: 0.0414\n",
            "Epoch 700/1000\n",
            "1/1 [==============================] - 0s 11ms/step - loss: 0.0023 - mse: 0.0023 - mae: 0.0412\n",
            "Epoch 701/1000\n",
            "1/1 [==============================] - 0s 15ms/step - loss: 0.0023 - mse: 0.0023 - mae: 0.0411\n",
            "Epoch 702/1000\n",
            "1/1 [==============================] - 0s 15ms/step - loss: 0.0023 - mse: 0.0023 - mae: 0.0410\n",
            "Epoch 703/1000\n",
            "1/1 [==============================] - 0s 8ms/step - loss: 0.0023 - mse: 0.0023 - mae: 0.0408\n",
            "Epoch 704/1000\n",
            "1/1 [==============================] - 0s 13ms/step - loss: 0.0022 - mse: 0.0022 - mae: 0.0407\n",
            "Epoch 705/1000\n",
            "1/1 [==============================] - 0s 19ms/step - loss: 0.0022 - mse: 0.0022 - mae: 0.0406\n",
            "Epoch 706/1000\n",
            "1/1 [==============================] - 0s 11ms/step - loss: 0.0022 - mse: 0.0022 - mae: 0.0404\n",
            "Epoch 707/1000\n",
            "1/1 [==============================] - 0s 8ms/step - loss: 0.0022 - mse: 0.0022 - mae: 0.0403\n",
            "Epoch 708/1000\n",
            "1/1 [==============================] - 0s 11ms/step - loss: 0.0022 - mse: 0.0022 - mae: 0.0401\n",
            "Epoch 709/1000\n",
            "1/1 [==============================] - 0s 4ms/step - loss: 0.0022 - mse: 0.0022 - mae: 0.0400\n",
            "Epoch 710/1000\n",
            "1/1 [==============================] - 0s 10ms/step - loss: 0.0022 - mse: 0.0022 - mae: 0.0399\n",
            "Epoch 711/1000\n",
            "1/1 [==============================] - 0s 5ms/step - loss: 0.0021 - mse: 0.0021 - mae: 0.0397\n",
            "Epoch 712/1000\n",
            "1/1 [==============================] - 0s 9ms/step - loss: 0.0021 - mse: 0.0021 - mae: 0.0396\n",
            "Epoch 713/1000\n",
            "1/1 [==============================] - 0s 12ms/step - loss: 0.0021 - mse: 0.0021 - mae: 0.0395\n",
            "Epoch 714/1000\n",
            "1/1 [==============================] - 0s 14ms/step - loss: 0.0021 - mse: 0.0021 - mae: 0.0393\n",
            "Epoch 715/1000\n",
            "1/1 [==============================] - 0s 10ms/step - loss: 0.0021 - mse: 0.0021 - mae: 0.0392\n",
            "Epoch 716/1000\n",
            "1/1 [==============================] - 0s 14ms/step - loss: 0.0021 - mse: 0.0021 - mae: 0.0391\n",
            "Epoch 717/1000\n",
            "1/1 [==============================] - 0s 15ms/step - loss: 0.0021 - mse: 0.0021 - mae: 0.0389\n",
            "Epoch 718/1000\n",
            "1/1 [==============================] - 0s 17ms/step - loss: 0.0020 - mse: 0.0020 - mae: 0.0388\n",
            "Epoch 719/1000\n",
            "1/1 [==============================] - 0s 19ms/step - loss: 0.0020 - mse: 0.0020 - mae: 0.0387\n",
            "Epoch 720/1000\n",
            "1/1 [==============================] - 0s 9ms/step - loss: 0.0020 - mse: 0.0020 - mae: 0.0385\n",
            "Epoch 721/1000\n",
            "1/1 [==============================] - 0s 12ms/step - loss: 0.0020 - mse: 0.0020 - mae: 0.0384\n",
            "Epoch 722/1000\n",
            "1/1 [==============================] - 0s 18ms/step - loss: 0.0020 - mse: 0.0020 - mae: 0.0383\n",
            "Epoch 723/1000\n",
            "1/1 [==============================] - 0s 9ms/step - loss: 0.0020 - mse: 0.0020 - mae: 0.0382\n",
            "Epoch 724/1000\n",
            "1/1 [==============================] - 0s 13ms/step - loss: 0.0020 - mse: 0.0020 - mae: 0.0380\n",
            "Epoch 725/1000\n",
            "1/1 [==============================] - 0s 10ms/step - loss: 0.0019 - mse: 0.0019 - mae: 0.0379\n",
            "Epoch 726/1000\n",
            "1/1 [==============================] - 0s 16ms/step - loss: 0.0019 - mse: 0.0019 - mae: 0.0378\n",
            "Epoch 727/1000\n",
            "1/1 [==============================] - 0s 16ms/step - loss: 0.0019 - mse: 0.0019 - mae: 0.0376\n",
            "Epoch 728/1000\n",
            "1/1 [==============================] - 0s 12ms/step - loss: 0.0019 - mse: 0.0019 - mae: 0.0375\n",
            "Epoch 729/1000\n",
            "1/1 [==============================] - 0s 5ms/step - loss: 0.0019 - mse: 0.0019 - mae: 0.0374\n",
            "Epoch 730/1000\n",
            "1/1 [==============================] - 0s 9ms/step - loss: 0.0019 - mse: 0.0019 - mae: 0.0373\n",
            "Epoch 731/1000\n",
            "1/1 [==============================] - 0s 6ms/step - loss: 0.0019 - mse: 0.0019 - mae: 0.0371\n",
            "Epoch 732/1000\n",
            "1/1 [==============================] - 0s 10ms/step - loss: 0.0019 - mse: 0.0019 - mae: 0.0370\n",
            "Epoch 733/1000\n",
            "1/1 [==============================] - 0s 11ms/step - loss: 0.0018 - mse: 0.0018 - mae: 0.0369\n",
            "Epoch 734/1000\n",
            "1/1 [==============================] - 0s 9ms/step - loss: 0.0018 - mse: 0.0018 - mae: 0.0368\n",
            "Epoch 735/1000\n",
            "1/1 [==============================] - 0s 14ms/step - loss: 0.0018 - mse: 0.0018 - mae: 0.0366\n",
            "Epoch 736/1000\n",
            "1/1 [==============================] - 0s 15ms/step - loss: 0.0018 - mse: 0.0018 - mae: 0.0365\n",
            "Epoch 737/1000\n",
            "1/1 [==============================] - 0s 9ms/step - loss: 0.0018 - mse: 0.0018 - mae: 0.0364\n",
            "Epoch 738/1000\n",
            "1/1 [==============================] - 0s 16ms/step - loss: 0.0018 - mse: 0.0018 - mae: 0.0363\n",
            "Epoch 739/1000\n",
            "1/1 [==============================] - 0s 14ms/step - loss: 0.0018 - mse: 0.0018 - mae: 0.0361\n",
            "Epoch 740/1000\n",
            "1/1 [==============================] - 0s 14ms/step - loss: 0.0018 - mse: 0.0018 - mae: 0.0360\n",
            "Epoch 741/1000\n",
            "1/1 [==============================] - 0s 11ms/step - loss: 0.0017 - mse: 0.0017 - mae: 0.0359\n",
            "Epoch 742/1000\n",
            "1/1 [==============================] - 0s 13ms/step - loss: 0.0017 - mse: 0.0017 - mae: 0.0358\n",
            "Epoch 743/1000\n",
            "1/1 [==============================] - 0s 10ms/step - loss: 0.0017 - mse: 0.0017 - mae: 0.0357\n",
            "Epoch 744/1000\n",
            "1/1 [==============================] - 0s 9ms/step - loss: 0.0017 - mse: 0.0017 - mae: 0.0355\n",
            "Epoch 745/1000\n",
            "1/1 [==============================] - 0s 10ms/step - loss: 0.0017 - mse: 0.0017 - mae: 0.0354\n",
            "Epoch 746/1000\n",
            "1/1 [==============================] - 0s 15ms/step - loss: 0.0017 - mse: 0.0017 - mae: 0.0353\n",
            "Epoch 747/1000\n",
            "1/1 [==============================] - 0s 9ms/step - loss: 0.0017 - mse: 0.0017 - mae: 0.0352\n",
            "Epoch 748/1000\n",
            "1/1 [==============================] - 0s 12ms/step - loss: 0.0017 - mse: 0.0017 - mae: 0.0351\n",
            "Epoch 749/1000\n",
            "1/1 [==============================] - 0s 8ms/step - loss: 0.0017 - mse: 0.0017 - mae: 0.0349\n",
            "Epoch 750/1000\n",
            "1/1 [==============================] - 0s 8ms/step - loss: 0.0016 - mse: 0.0016 - mae: 0.0348\n",
            "Epoch 751/1000\n",
            "1/1 [==============================] - 0s 16ms/step - loss: 0.0016 - mse: 0.0016 - mae: 0.0347\n",
            "Epoch 752/1000\n",
            "1/1 [==============================] - 0s 9ms/step - loss: 0.0016 - mse: 0.0016 - mae: 0.0346\n",
            "Epoch 753/1000\n",
            "1/1 [==============================] - 0s 9ms/step - loss: 0.0016 - mse: 0.0016 - mae: 0.0345\n",
            "Epoch 754/1000\n",
            "1/1 [==============================] - 0s 17ms/step - loss: 0.0016 - mse: 0.0016 - mae: 0.0343\n",
            "Epoch 755/1000\n",
            "1/1 [==============================] - 0s 16ms/step - loss: 0.0016 - mse: 0.0016 - mae: 0.0342\n",
            "Epoch 756/1000\n",
            "1/1 [==============================] - 0s 9ms/step - loss: 0.0016 - mse: 0.0016 - mae: 0.0341\n",
            "Epoch 757/1000\n",
            "1/1 [==============================] - 0s 9ms/step - loss: 0.0016 - mse: 0.0016 - mae: 0.0340\n",
            "Epoch 758/1000\n",
            "1/1 [==============================] - 0s 11ms/step - loss: 0.0016 - mse: 0.0016 - mae: 0.0339\n",
            "Epoch 759/1000\n",
            "1/1 [==============================] - 0s 6ms/step - loss: 0.0015 - mse: 0.0015 - mae: 0.0338\n",
            "Epoch 760/1000\n",
            "1/1 [==============================] - 0s 8ms/step - loss: 0.0015 - mse: 0.0015 - mae: 0.0337\n",
            "Epoch 761/1000\n",
            "1/1 [==============================] - 0s 8ms/step - loss: 0.0015 - mse: 0.0015 - mae: 0.0335\n",
            "Epoch 762/1000\n",
            "1/1 [==============================] - 0s 6ms/step - loss: 0.0015 - mse: 0.0015 - mae: 0.0334\n",
            "Epoch 763/1000\n",
            "1/1 [==============================] - 0s 7ms/step - loss: 0.0015 - mse: 0.0015 - mae: 0.0333\n",
            "Epoch 764/1000\n",
            "1/1 [==============================] - 0s 10ms/step - loss: 0.0015 - mse: 0.0015 - mae: 0.0332\n",
            "Epoch 765/1000\n",
            "1/1 [==============================] - 0s 8ms/step - loss: 0.0015 - mse: 0.0015 - mae: 0.0331\n",
            "Epoch 766/1000\n",
            "1/1 [==============================] - 0s 7ms/step - loss: 0.0015 - mse: 0.0015 - mae: 0.0330\n",
            "Epoch 767/1000\n",
            "1/1 [==============================] - 0s 8ms/step - loss: 0.0015 - mse: 0.0015 - mae: 0.0329\n",
            "Epoch 768/1000\n",
            "1/1 [==============================] - 0s 8ms/step - loss: 0.0015 - mse: 0.0015 - mae: 0.0328\n",
            "Epoch 769/1000\n",
            "1/1 [==============================] - 0s 8ms/step - loss: 0.0014 - mse: 0.0014 - mae: 0.0326\n",
            "Epoch 770/1000\n",
            "1/1 [==============================] - 0s 8ms/step - loss: 0.0014 - mse: 0.0014 - mae: 0.0325\n",
            "Epoch 771/1000\n",
            "1/1 [==============================] - 0s 5ms/step - loss: 0.0014 - mse: 0.0014 - mae: 0.0324\n",
            "Epoch 772/1000\n",
            "1/1 [==============================] - 0s 6ms/step - loss: 0.0014 - mse: 0.0014 - mae: 0.0323\n",
            "Epoch 773/1000\n",
            "1/1 [==============================] - 0s 12ms/step - loss: 0.0014 - mse: 0.0014 - mae: 0.0322\n",
            "Epoch 774/1000\n",
            "1/1 [==============================] - 0s 13ms/step - loss: 0.0014 - mse: 0.0014 - mae: 0.0321\n",
            "Epoch 775/1000\n",
            "1/1 [==============================] - 0s 8ms/step - loss: 0.0014 - mse: 0.0014 - mae: 0.0320\n",
            "Epoch 776/1000\n",
            "1/1 [==============================] - 0s 12ms/step - loss: 0.0014 - mse: 0.0014 - mae: 0.0319\n",
            "Epoch 777/1000\n",
            "1/1 [==============================] - 0s 16ms/step - loss: 0.0014 - mse: 0.0014 - mae: 0.0318\n",
            "Epoch 778/1000\n",
            "1/1 [==============================] - 0s 8ms/step - loss: 0.0014 - mse: 0.0014 - mae: 0.0317\n",
            "Epoch 779/1000\n",
            "1/1 [==============================] - 0s 8ms/step - loss: 0.0014 - mse: 0.0014 - mae: 0.0316\n",
            "Epoch 780/1000\n",
            "1/1 [==============================] - 0s 8ms/step - loss: 0.0013 - mse: 0.0013 - mae: 0.0315\n",
            "Epoch 781/1000\n",
            "1/1 [==============================] - 0s 13ms/step - loss: 0.0013 - mse: 0.0013 - mae: 0.0313\n",
            "Epoch 782/1000\n",
            "1/1 [==============================] - 0s 10ms/step - loss: 0.0013 - mse: 0.0013 - mae: 0.0312\n",
            "Epoch 783/1000\n",
            "1/1 [==============================] - 0s 10ms/step - loss: 0.0013 - mse: 0.0013 - mae: 0.0311\n",
            "Epoch 784/1000\n",
            "1/1 [==============================] - 0s 6ms/step - loss: 0.0013 - mse: 0.0013 - mae: 0.0310\n",
            "Epoch 785/1000\n",
            "1/1 [==============================] - 0s 15ms/step - loss: 0.0013 - mse: 0.0013 - mae: 0.0309\n",
            "Epoch 786/1000\n",
            "1/1 [==============================] - 0s 10ms/step - loss: 0.0013 - mse: 0.0013 - mae: 0.0308\n",
            "Epoch 787/1000\n",
            "1/1 [==============================] - 0s 14ms/step - loss: 0.0013 - mse: 0.0013 - mae: 0.0307\n",
            "Epoch 788/1000\n",
            "1/1 [==============================] - 0s 12ms/step - loss: 0.0013 - mse: 0.0013 - mae: 0.0306\n",
            "Epoch 789/1000\n",
            "1/1 [==============================] - 0s 8ms/step - loss: 0.0013 - mse: 0.0013 - mae: 0.0305\n",
            "Epoch 790/1000\n",
            "1/1 [==============================] - 0s 7ms/step - loss: 0.0013 - mse: 0.0013 - mae: 0.0304\n",
            "Epoch 791/1000\n",
            "1/1 [==============================] - 0s 10ms/step - loss: 0.0012 - mse: 0.0012 - mae: 0.0303\n",
            "Epoch 792/1000\n",
            "1/1 [==============================] - 0s 8ms/step - loss: 0.0012 - mse: 0.0012 - mae: 0.0302\n",
            "Epoch 793/1000\n",
            "1/1 [==============================] - 0s 6ms/step - loss: 0.0012 - mse: 0.0012 - mae: 0.0301\n",
            "Epoch 794/1000\n",
            "1/1 [==============================] - 0s 9ms/step - loss: 0.0012 - mse: 0.0012 - mae: 0.0300\n",
            "Epoch 795/1000\n",
            "1/1 [==============================] - 0s 17ms/step - loss: 0.0012 - mse: 0.0012 - mae: 0.0299\n",
            "Epoch 796/1000\n",
            "1/1 [==============================] - 0s 17ms/step - loss: 0.0012 - mse: 0.0012 - mae: 0.0298\n",
            "Epoch 797/1000\n",
            "1/1 [==============================] - 0s 18ms/step - loss: 0.0012 - mse: 0.0012 - mae: 0.0297\n",
            "Epoch 798/1000\n",
            "1/1 [==============================] - 0s 17ms/step - loss: 0.0012 - mse: 0.0012 - mae: 0.0296\n",
            "Epoch 799/1000\n",
            "1/1 [==============================] - 0s 11ms/step - loss: 0.0012 - mse: 0.0012 - mae: 0.0295\n",
            "Epoch 800/1000\n",
            "1/1 [==============================] - 0s 8ms/step - loss: 0.0012 - mse: 0.0012 - mae: 0.0294\n",
            "Epoch 801/1000\n",
            "1/1 [==============================] - 0s 10ms/step - loss: 0.0012 - mse: 0.0012 - mae: 0.0293\n",
            "Epoch 802/1000\n",
            "1/1 [==============================] - 0s 10ms/step - loss: 0.0012 - mse: 0.0012 - mae: 0.0292\n",
            "Epoch 803/1000\n",
            "1/1 [==============================] - 0s 9ms/step - loss: 0.0011 - mse: 0.0011 - mae: 0.0291\n",
            "Epoch 804/1000\n",
            "1/1 [==============================] - 0s 9ms/step - loss: 0.0011 - mse: 0.0011 - mae: 0.0290\n",
            "Epoch 805/1000\n",
            "1/1 [==============================] - 0s 9ms/step - loss: 0.0011 - mse: 0.0011 - mae: 0.0289\n",
            "Epoch 806/1000\n",
            "1/1 [==============================] - 0s 8ms/step - loss: 0.0011 - mse: 0.0011 - mae: 0.0288\n",
            "Epoch 807/1000\n",
            "1/1 [==============================] - 0s 10ms/step - loss: 0.0011 - mse: 0.0011 - mae: 0.0287\n",
            "Epoch 808/1000\n",
            "1/1 [==============================] - 0s 9ms/step - loss: 0.0011 - mse: 0.0011 - mae: 0.0286\n",
            "Epoch 809/1000\n",
            "1/1 [==============================] - 0s 10ms/step - loss: 0.0011 - mse: 0.0011 - mae: 0.0285\n",
            "Epoch 810/1000\n",
            "1/1 [==============================] - 0s 8ms/step - loss: 0.0011 - mse: 0.0011 - mae: 0.0284\n",
            "Epoch 811/1000\n",
            "1/1 [==============================] - 0s 7ms/step - loss: 0.0011 - mse: 0.0011 - mae: 0.0283\n",
            "Epoch 812/1000\n",
            "1/1 [==============================] - 0s 8ms/step - loss: 0.0011 - mse: 0.0011 - mae: 0.0282\n",
            "Epoch 813/1000\n",
            "1/1 [==============================] - 0s 8ms/step - loss: 0.0011 - mse: 0.0011 - mae: 0.0281\n",
            "Epoch 814/1000\n",
            "1/1 [==============================] - 0s 6ms/step - loss: 0.0011 - mse: 0.0011 - mae: 0.0280\n",
            "Epoch 815/1000\n",
            "1/1 [==============================] - 0s 11ms/step - loss: 0.0011 - mse: 0.0011 - mae: 0.0279\n",
            "Epoch 816/1000\n",
            "1/1 [==============================] - 0s 9ms/step - loss: 0.0011 - mse: 0.0011 - mae: 0.0278\n",
            "Epoch 817/1000\n",
            "1/1 [==============================] - 0s 8ms/step - loss: 0.0010 - mse: 0.0010 - mae: 0.0277\n",
            "Epoch 818/1000\n",
            "1/1 [==============================] - 0s 9ms/step - loss: 0.0010 - mse: 0.0010 - mae: 0.0277\n",
            "Epoch 819/1000\n",
            "1/1 [==============================] - 0s 9ms/step - loss: 0.0010 - mse: 0.0010 - mae: 0.0276\n",
            "Epoch 820/1000\n",
            "1/1 [==============================] - 0s 6ms/step - loss: 0.0010 - mse: 0.0010 - mae: 0.0275\n",
            "Epoch 821/1000\n",
            "1/1 [==============================] - 0s 9ms/step - loss: 0.0010 - mse: 0.0010 - mae: 0.0274\n",
            "Epoch 822/1000\n",
            "1/1 [==============================] - 0s 7ms/step - loss: 0.0010 - mse: 0.0010 - mae: 0.0273\n",
            "Epoch 823/1000\n",
            "1/1 [==============================] - 0s 9ms/step - loss: 0.0010 - mse: 0.0010 - mae: 0.0272\n",
            "Epoch 824/1000\n",
            "1/1 [==============================] - 0s 9ms/step - loss: 9.9685e-04 - mse: 9.9685e-04 - mae: 0.0271\n",
            "Epoch 825/1000\n",
            "1/1 [==============================] - 0s 7ms/step - loss: 9.9012e-04 - mse: 9.9012e-04 - mae: 0.0270\n",
            "Epoch 826/1000\n",
            "1/1 [==============================] - 0s 8ms/step - loss: 9.8342e-04 - mse: 9.8342e-04 - mae: 0.0269\n",
            "Epoch 827/1000\n",
            "1/1 [==============================] - 0s 8ms/step - loss: 9.7678e-04 - mse: 9.7678e-04 - mae: 0.0268\n",
            "Epoch 828/1000\n",
            "1/1 [==============================] - 0s 22ms/step - loss: 9.7020e-04 - mse: 9.7020e-04 - mae: 0.0267\n",
            "Epoch 829/1000\n",
            "1/1 [==============================] - 0s 12ms/step - loss: 9.6364e-04 - mse: 9.6364e-04 - mae: 0.0266\n",
            "Epoch 830/1000\n",
            "1/1 [==============================] - 0s 10ms/step - loss: 9.5713e-04 - mse: 9.5713e-04 - mae: 0.0266\n",
            "Epoch 831/1000\n",
            "1/1 [==============================] - 0s 9ms/step - loss: 9.5067e-04 - mse: 9.5067e-04 - mae: 0.0265\n",
            "Epoch 832/1000\n",
            "1/1 [==============================] - 0s 8ms/step - loss: 9.4427e-04 - mse: 9.4427e-04 - mae: 0.0264\n",
            "Epoch 833/1000\n",
            "1/1 [==============================] - 0s 6ms/step - loss: 9.3788e-04 - mse: 9.3788e-04 - mae: 0.0263\n",
            "Epoch 834/1000\n",
            "1/1 [==============================] - 0s 9ms/step - loss: 9.3155e-04 - mse: 9.3155e-04 - mae: 0.0262\n",
            "Epoch 835/1000\n",
            "1/1 [==============================] - 0s 9ms/step - loss: 9.2527e-04 - mse: 9.2527e-04 - mae: 0.0261\n",
            "Epoch 836/1000\n",
            "1/1 [==============================] - 0s 12ms/step - loss: 9.1903e-04 - mse: 9.1903e-04 - mae: 0.0260\n",
            "Epoch 837/1000\n",
            "1/1 [==============================] - 0s 12ms/step - loss: 9.1282e-04 - mse: 9.1282e-04 - mae: 0.0259\n",
            "Epoch 838/1000\n",
            "1/1 [==============================] - 0s 8ms/step - loss: 9.0665e-04 - mse: 9.0665e-04 - mae: 0.0258\n",
            "Epoch 839/1000\n",
            "1/1 [==============================] - 0s 7ms/step - loss: 9.0053e-04 - mse: 9.0053e-04 - mae: 0.0258\n",
            "Epoch 840/1000\n",
            "1/1 [==============================] - 0s 10ms/step - loss: 8.9446e-04 - mse: 8.9446e-04 - mae: 0.0257\n",
            "Epoch 841/1000\n",
            "1/1 [==============================] - 0s 13ms/step - loss: 8.8840e-04 - mse: 8.8840e-04 - mae: 0.0256\n",
            "Epoch 842/1000\n",
            "1/1 [==============================] - 0s 11ms/step - loss: 8.8241e-04 - mse: 8.8241e-04 - mae: 0.0255\n",
            "Epoch 843/1000\n",
            "1/1 [==============================] - 0s 20ms/step - loss: 8.7646e-04 - mse: 8.7646e-04 - mae: 0.0254\n",
            "Epoch 844/1000\n",
            "1/1 [==============================] - 0s 14ms/step - loss: 8.7056e-04 - mse: 8.7056e-04 - mae: 0.0253\n",
            "Epoch 845/1000\n",
            "1/1 [==============================] - 0s 21ms/step - loss: 8.6467e-04 - mse: 8.6467e-04 - mae: 0.0252\n",
            "Epoch 846/1000\n",
            "1/1 [==============================] - 0s 19ms/step - loss: 8.5883e-04 - mse: 8.5883e-04 - mae: 0.0252\n",
            "Epoch 847/1000\n",
            "1/1 [==============================] - 0s 17ms/step - loss: 8.5304e-04 - mse: 8.5304e-04 - mae: 0.0251\n",
            "Epoch 848/1000\n",
            "1/1 [==============================] - 0s 8ms/step - loss: 8.4727e-04 - mse: 8.4727e-04 - mae: 0.0250\n",
            "Epoch 849/1000\n",
            "1/1 [==============================] - 0s 13ms/step - loss: 8.4154e-04 - mse: 8.4154e-04 - mae: 0.0249\n",
            "Epoch 850/1000\n",
            "1/1 [==============================] - 0s 10ms/step - loss: 8.3587e-04 - mse: 8.3587e-04 - mae: 0.0248\n",
            "Epoch 851/1000\n",
            "1/1 [==============================] - 0s 10ms/step - loss: 8.3022e-04 - mse: 8.3022e-04 - mae: 0.0247\n",
            "Epoch 852/1000\n",
            "1/1 [==============================] - 0s 9ms/step - loss: 8.2462e-04 - mse: 8.2462e-04 - mae: 0.0246\n",
            "Epoch 853/1000\n",
            "1/1 [==============================] - 0s 9ms/step - loss: 8.1907e-04 - mse: 8.1907e-04 - mae: 0.0246\n",
            "Epoch 854/1000\n",
            "1/1 [==============================] - 0s 10ms/step - loss: 8.1354e-04 - mse: 8.1354e-04 - mae: 0.0245\n",
            "Epoch 855/1000\n",
            "1/1 [==============================] - 0s 13ms/step - loss: 8.0804e-04 - mse: 8.0804e-04 - mae: 0.0244\n",
            "Epoch 856/1000\n",
            "1/1 [==============================] - 0s 8ms/step - loss: 8.0258e-04 - mse: 8.0258e-04 - mae: 0.0243\n",
            "Epoch 857/1000\n",
            "1/1 [==============================] - 0s 9ms/step - loss: 7.9715e-04 - mse: 7.9715e-04 - mae: 0.0242\n",
            "Epoch 858/1000\n",
            "1/1 [==============================] - 0s 8ms/step - loss: 7.9179e-04 - mse: 7.9179e-04 - mae: 0.0242\n",
            "Epoch 859/1000\n",
            "1/1 [==============================] - 0s 11ms/step - loss: 7.8644e-04 - mse: 7.8644e-04 - mae: 0.0241\n",
            "Epoch 860/1000\n",
            "1/1 [==============================] - 0s 9ms/step - loss: 7.8113e-04 - mse: 7.8113e-04 - mae: 0.0240\n",
            "Epoch 861/1000\n",
            "1/1 [==============================] - 0s 8ms/step - loss: 7.7585e-04 - mse: 7.7585e-04 - mae: 0.0239\n",
            "Epoch 862/1000\n",
            "1/1 [==============================] - 0s 11ms/step - loss: 7.7062e-04 - mse: 7.7062e-04 - mae: 0.0238\n",
            "Epoch 863/1000\n",
            "1/1 [==============================] - 0s 8ms/step - loss: 7.6541e-04 - mse: 7.6541e-04 - mae: 0.0237\n",
            "Epoch 864/1000\n",
            "1/1 [==============================] - 0s 7ms/step - loss: 7.6024e-04 - mse: 7.6024e-04 - mae: 0.0237\n",
            "Epoch 865/1000\n",
            "1/1 [==============================] - 0s 9ms/step - loss: 7.5512e-04 - mse: 7.5512e-04 - mae: 0.0236\n",
            "Epoch 866/1000\n",
            "1/1 [==============================] - 0s 10ms/step - loss: 7.5002e-04 - mse: 7.5002e-04 - mae: 0.0235\n",
            "Epoch 867/1000\n",
            "1/1 [==============================] - 0s 9ms/step - loss: 7.4495e-04 - mse: 7.4495e-04 - mae: 0.0234\n",
            "Epoch 868/1000\n",
            "1/1 [==============================] - 0s 7ms/step - loss: 7.3994e-04 - mse: 7.3994e-04 - mae: 0.0233\n",
            "Epoch 869/1000\n",
            "1/1 [==============================] - 0s 8ms/step - loss: 7.3492e-04 - mse: 7.3492e-04 - mae: 0.0233\n",
            "Epoch 870/1000\n",
            "1/1 [==============================] - 0s 8ms/step - loss: 7.2998e-04 - mse: 7.2998e-04 - mae: 0.0232\n",
            "Epoch 871/1000\n",
            "1/1 [==============================] - 0s 9ms/step - loss: 7.2503e-04 - mse: 7.2503e-04 - mae: 0.0231\n",
            "Epoch 872/1000\n",
            "1/1 [==============================] - 0s 6ms/step - loss: 7.2014e-04 - mse: 7.2014e-04 - mae: 0.0230\n",
            "Epoch 873/1000\n",
            "1/1 [==============================] - 0s 11ms/step - loss: 7.1528e-04 - mse: 7.1528e-04 - mae: 0.0230\n",
            "Epoch 874/1000\n",
            "1/1 [==============================] - 0s 7ms/step - loss: 7.1046e-04 - mse: 7.1046e-04 - mae: 0.0229\n",
            "Epoch 875/1000\n",
            "1/1 [==============================] - 0s 9ms/step - loss: 7.0565e-04 - mse: 7.0565e-04 - mae: 0.0228\n",
            "Epoch 876/1000\n",
            "1/1 [==============================] - 0s 7ms/step - loss: 7.0090e-04 - mse: 7.0090e-04 - mae: 0.0227\n",
            "Epoch 877/1000\n",
            "1/1 [==============================] - 0s 7ms/step - loss: 6.9617e-04 - mse: 6.9617e-04 - mae: 0.0226\n",
            "Epoch 878/1000\n",
            "1/1 [==============================] - 0s 8ms/step - loss: 6.9146e-04 - mse: 6.9146e-04 - mae: 0.0226\n",
            "Epoch 879/1000\n",
            "1/1 [==============================] - 0s 15ms/step - loss: 6.8681e-04 - mse: 6.8681e-04 - mae: 0.0225\n",
            "Epoch 880/1000\n",
            "1/1 [==============================] - 0s 8ms/step - loss: 6.8215e-04 - mse: 6.8215e-04 - mae: 0.0224\n",
            "Epoch 881/1000\n",
            "1/1 [==============================] - 0s 8ms/step - loss: 6.7755e-04 - mse: 6.7755e-04 - mae: 0.0223\n",
            "Epoch 882/1000\n",
            "1/1 [==============================] - 0s 11ms/step - loss: 6.7298e-04 - mse: 6.7298e-04 - mae: 0.0223\n",
            "Epoch 883/1000\n",
            "1/1 [==============================] - 0s 11ms/step - loss: 6.6845e-04 - mse: 6.6845e-04 - mae: 0.0222\n",
            "Epoch 884/1000\n",
            "1/1 [==============================] - 0s 11ms/step - loss: 6.6392e-04 - mse: 6.6392e-04 - mae: 0.0221\n",
            "Epoch 885/1000\n",
            "1/1 [==============================] - 0s 8ms/step - loss: 6.5944e-04 - mse: 6.5944e-04 - mae: 0.0220\n",
            "Epoch 886/1000\n",
            "1/1 [==============================] - 0s 10ms/step - loss: 6.5501e-04 - mse: 6.5501e-04 - mae: 0.0220\n",
            "Epoch 887/1000\n",
            "1/1 [==============================] - 0s 10ms/step - loss: 6.5056e-04 - mse: 6.5056e-04 - mae: 0.0219\n",
            "Epoch 888/1000\n",
            "1/1 [==============================] - 0s 9ms/step - loss: 6.4617e-04 - mse: 6.4617e-04 - mae: 0.0218\n",
            "Epoch 889/1000\n",
            "1/1 [==============================] - 0s 11ms/step - loss: 6.4182e-04 - mse: 6.4182e-04 - mae: 0.0217\n",
            "Epoch 890/1000\n",
            "1/1 [==============================] - 0s 8ms/step - loss: 6.3748e-04 - mse: 6.3748e-04 - mae: 0.0217\n",
            "Epoch 891/1000\n",
            "1/1 [==============================] - 0s 9ms/step - loss: 6.3319e-04 - mse: 6.3319e-04 - mae: 0.0216\n",
            "Epoch 892/1000\n",
            "1/1 [==============================] - 0s 10ms/step - loss: 6.2890e-04 - mse: 6.2890e-04 - mae: 0.0215\n",
            "Epoch 893/1000\n",
            "1/1 [==============================] - 0s 9ms/step - loss: 6.2466e-04 - mse: 6.2466e-04 - mae: 0.0215\n",
            "Epoch 894/1000\n",
            "1/1 [==============================] - 0s 7ms/step - loss: 6.2044e-04 - mse: 6.2044e-04 - mae: 0.0214\n",
            "Epoch 895/1000\n",
            "1/1 [==============================] - 0s 7ms/step - loss: 6.1626e-04 - mse: 6.1626e-04 - mae: 0.0213\n",
            "Epoch 896/1000\n",
            "1/1 [==============================] - 0s 8ms/step - loss: 6.1208e-04 - mse: 6.1208e-04 - mae: 0.0212\n",
            "Epoch 897/1000\n",
            "1/1 [==============================] - 0s 9ms/step - loss: 6.0797e-04 - mse: 6.0797e-04 - mae: 0.0212\n",
            "Epoch 898/1000\n",
            "1/1 [==============================] - 0s 7ms/step - loss: 6.0387e-04 - mse: 6.0387e-04 - mae: 0.0211\n",
            "Epoch 899/1000\n",
            "1/1 [==============================] - 0s 10ms/step - loss: 5.9978e-04 - mse: 5.9978e-04 - mae: 0.0210\n",
            "Epoch 900/1000\n",
            "1/1 [==============================] - 0s 8ms/step - loss: 5.9575e-04 - mse: 5.9575e-04 - mae: 0.0209\n",
            "Epoch 901/1000\n",
            "1/1 [==============================] - 0s 10ms/step - loss: 5.9171e-04 - mse: 5.9171e-04 - mae: 0.0209\n",
            "Epoch 902/1000\n",
            "1/1 [==============================] - 0s 12ms/step - loss: 5.8773e-04 - mse: 5.8773e-04 - mae: 0.0208\n",
            "Epoch 903/1000\n",
            "1/1 [==============================] - 0s 8ms/step - loss: 5.8376e-04 - mse: 5.8376e-04 - mae: 0.0207\n",
            "Epoch 904/1000\n",
            "1/1 [==============================] - 0s 16ms/step - loss: 5.7981e-04 - mse: 5.7981e-04 - mae: 0.0207\n",
            "Epoch 905/1000\n",
            "1/1 [==============================] - 0s 9ms/step - loss: 5.7590e-04 - mse: 5.7590e-04 - mae: 0.0206\n",
            "Epoch 906/1000\n",
            "1/1 [==============================] - 0s 14ms/step - loss: 5.7201e-04 - mse: 5.7201e-04 - mae: 0.0205\n",
            "Epoch 907/1000\n",
            "1/1 [==============================] - 0s 8ms/step - loss: 5.6814e-04 - mse: 5.6814e-04 - mae: 0.0205\n",
            "Epoch 908/1000\n",
            "1/1 [==============================] - 0s 12ms/step - loss: 5.6432e-04 - mse: 5.6432e-04 - mae: 0.0204\n",
            "Epoch 909/1000\n",
            "1/1 [==============================] - 0s 19ms/step - loss: 5.6051e-04 - mse: 5.6051e-04 - mae: 0.0203\n",
            "Epoch 910/1000\n",
            "1/1 [==============================] - 0s 5ms/step - loss: 5.5670e-04 - mse: 5.5670e-04 - mae: 0.0203\n",
            "Epoch 911/1000\n",
            "1/1 [==============================] - 0s 7ms/step - loss: 5.5296e-04 - mse: 5.5296e-04 - mae: 0.0202\n",
            "Epoch 912/1000\n",
            "1/1 [==============================] - 0s 11ms/step - loss: 5.4923e-04 - mse: 5.4923e-04 - mae: 0.0201\n",
            "Epoch 913/1000\n",
            "1/1 [==============================] - 0s 6ms/step - loss: 5.4552e-04 - mse: 5.4552e-04 - mae: 0.0200\n",
            "Epoch 914/1000\n",
            "1/1 [==============================] - 0s 6ms/step - loss: 5.4184e-04 - mse: 5.4184e-04 - mae: 0.0200\n",
            "Epoch 915/1000\n",
            "1/1 [==============================] - 0s 10ms/step - loss: 5.3819e-04 - mse: 5.3819e-04 - mae: 0.0199\n",
            "Epoch 916/1000\n",
            "1/1 [==============================] - 0s 11ms/step - loss: 5.3456e-04 - mse: 5.3456e-04 - mae: 0.0198\n",
            "Epoch 917/1000\n",
            "1/1 [==============================] - 0s 10ms/step - loss: 5.3093e-04 - mse: 5.3093e-04 - mae: 0.0198\n",
            "Epoch 918/1000\n",
            "1/1 [==============================] - 0s 15ms/step - loss: 5.2735e-04 - mse: 5.2735e-04 - mae: 0.0197\n",
            "Epoch 919/1000\n",
            "1/1 [==============================] - 0s 9ms/step - loss: 5.2379e-04 - mse: 5.2379e-04 - mae: 0.0196\n",
            "Epoch 920/1000\n",
            "1/1 [==============================] - 0s 11ms/step - loss: 5.2027e-04 - mse: 5.2027e-04 - mae: 0.0196\n",
            "Epoch 921/1000\n",
            "1/1 [==============================] - 0s 8ms/step - loss: 5.1674e-04 - mse: 5.1674e-04 - mae: 0.0195\n",
            "Epoch 922/1000\n",
            "1/1 [==============================] - 0s 12ms/step - loss: 5.1326e-04 - mse: 5.1326e-04 - mae: 0.0194\n",
            "Epoch 923/1000\n",
            "1/1 [==============================] - 0s 9ms/step - loss: 5.0979e-04 - mse: 5.0979e-04 - mae: 0.0194\n",
            "Epoch 924/1000\n",
            "1/1 [==============================] - 0s 9ms/step - loss: 5.0635e-04 - mse: 5.0635e-04 - mae: 0.0193\n",
            "Epoch 925/1000\n",
            "1/1 [==============================] - 0s 10ms/step - loss: 5.0294e-04 - mse: 5.0294e-04 - mae: 0.0192\n",
            "Epoch 926/1000\n",
            "1/1 [==============================] - 0s 7ms/step - loss: 4.9955e-04 - mse: 4.9955e-04 - mae: 0.0192\n",
            "Epoch 927/1000\n",
            "1/1 [==============================] - 0s 10ms/step - loss: 4.9617e-04 - mse: 4.9617e-04 - mae: 0.0191\n",
            "Epoch 928/1000\n",
            "1/1 [==============================] - 0s 12ms/step - loss: 4.9282e-04 - mse: 4.9282e-04 - mae: 0.0191\n",
            "Epoch 929/1000\n",
            "1/1 [==============================] - 0s 9ms/step - loss: 4.8949e-04 - mse: 4.8949e-04 - mae: 0.0190\n",
            "Epoch 930/1000\n",
            "1/1 [==============================] - 0s 10ms/step - loss: 4.8618e-04 - mse: 4.8618e-04 - mae: 0.0189\n",
            "Epoch 931/1000\n",
            "1/1 [==============================] - 0s 12ms/step - loss: 4.8291e-04 - mse: 4.8291e-04 - mae: 0.0189\n",
            "Epoch 932/1000\n",
            "1/1 [==============================] - 0s 10ms/step - loss: 4.7964e-04 - mse: 4.7964e-04 - mae: 0.0188\n",
            "Epoch 933/1000\n",
            "1/1 [==============================] - 0s 7ms/step - loss: 4.7640e-04 - mse: 4.7640e-04 - mae: 0.0187\n",
            "Epoch 934/1000\n",
            "1/1 [==============================] - 0s 13ms/step - loss: 4.7319e-04 - mse: 4.7319e-04 - mae: 0.0187\n",
            "Epoch 935/1000\n",
            "1/1 [==============================] - 0s 12ms/step - loss: 4.6999e-04 - mse: 4.6999e-04 - mae: 0.0186\n",
            "Epoch 936/1000\n",
            "1/1 [==============================] - 0s 16ms/step - loss: 4.6681e-04 - mse: 4.6681e-04 - mae: 0.0185\n",
            "Epoch 937/1000\n",
            "1/1 [==============================] - 0s 13ms/step - loss: 4.6367e-04 - mse: 4.6367e-04 - mae: 0.0185\n",
            "Epoch 938/1000\n",
            "1/1 [==============================] - 0s 10ms/step - loss: 4.6055e-04 - mse: 4.6055e-04 - mae: 0.0184\n",
            "Epoch 939/1000\n",
            "1/1 [==============================] - 0s 6ms/step - loss: 4.5743e-04 - mse: 4.5743e-04 - mae: 0.0184\n",
            "Epoch 940/1000\n",
            "1/1 [==============================] - 0s 10ms/step - loss: 4.5435e-04 - mse: 4.5435e-04 - mae: 0.0183\n",
            "Epoch 941/1000\n",
            "1/1 [==============================] - 0s 9ms/step - loss: 4.5128e-04 - mse: 4.5128e-04 - mae: 0.0182\n",
            "Epoch 942/1000\n",
            "1/1 [==============================] - 0s 9ms/step - loss: 4.4824e-04 - mse: 4.4824e-04 - mae: 0.0182\n",
            "Epoch 943/1000\n",
            "1/1 [==============================] - 0s 11ms/step - loss: 4.4520e-04 - mse: 4.4520e-04 - mae: 0.0181\n",
            "Epoch 944/1000\n",
            "1/1 [==============================] - 0s 11ms/step - loss: 4.4220e-04 - mse: 4.4220e-04 - mae: 0.0180\n",
            "Epoch 945/1000\n",
            "1/1 [==============================] - 0s 7ms/step - loss: 4.3922e-04 - mse: 4.3922e-04 - mae: 0.0180\n",
            "Epoch 946/1000\n",
            "1/1 [==============================] - 0s 10ms/step - loss: 4.3626e-04 - mse: 4.3626e-04 - mae: 0.0179\n",
            "Epoch 947/1000\n",
            "1/1 [==============================] - 0s 8ms/step - loss: 4.3330e-04 - mse: 4.3330e-04 - mae: 0.0179\n",
            "Epoch 948/1000\n",
            "1/1 [==============================] - 0s 7ms/step - loss: 4.3038e-04 - mse: 4.3038e-04 - mae: 0.0178\n",
            "Epoch 949/1000\n",
            "1/1 [==============================] - 0s 7ms/step - loss: 4.2748e-04 - mse: 4.2748e-04 - mae: 0.0177\n",
            "Epoch 950/1000\n",
            "1/1 [==============================] - 0s 9ms/step - loss: 4.2459e-04 - mse: 4.2459e-04 - mae: 0.0177\n",
            "Epoch 951/1000\n",
            "1/1 [==============================] - 0s 10ms/step - loss: 4.2172e-04 - mse: 4.2172e-04 - mae: 0.0176\n",
            "Epoch 952/1000\n",
            "1/1 [==============================] - 0s 19ms/step - loss: 4.1887e-04 - mse: 4.1887e-04 - mae: 0.0176\n",
            "Epoch 953/1000\n",
            "1/1 [==============================] - 0s 9ms/step - loss: 4.1605e-04 - mse: 4.1605e-04 - mae: 0.0175\n",
            "Epoch 954/1000\n",
            "1/1 [==============================] - 0s 10ms/step - loss: 4.1324e-04 - mse: 4.1324e-04 - mae: 0.0174\n",
            "Epoch 955/1000\n",
            "1/1 [==============================] - 0s 8ms/step - loss: 4.1045e-04 - mse: 4.1045e-04 - mae: 0.0174\n",
            "Epoch 956/1000\n",
            "1/1 [==============================] - 0s 8ms/step - loss: 4.0767e-04 - mse: 4.0767e-04 - mae: 0.0173\n",
            "Epoch 957/1000\n",
            "1/1 [==============================] - 0s 8ms/step - loss: 4.0493e-04 - mse: 4.0493e-04 - mae: 0.0173\n",
            "Epoch 958/1000\n",
            "1/1 [==============================] - 0s 9ms/step - loss: 4.0220e-04 - mse: 4.0220e-04 - mae: 0.0172\n",
            "Epoch 959/1000\n",
            "1/1 [==============================] - 0s 9ms/step - loss: 3.9947e-04 - mse: 3.9947e-04 - mae: 0.0172\n",
            "Epoch 960/1000\n",
            "1/1 [==============================] - 0s 9ms/step - loss: 3.9677e-04 - mse: 3.9677e-04 - mae: 0.0171\n",
            "Epoch 961/1000\n",
            "1/1 [==============================] - 0s 9ms/step - loss: 3.9410e-04 - mse: 3.9410e-04 - mae: 0.0170\n",
            "Epoch 962/1000\n",
            "1/1 [==============================] - 0s 6ms/step - loss: 3.9144e-04 - mse: 3.9144e-04 - mae: 0.0170\n",
            "Epoch 963/1000\n",
            "1/1 [==============================] - 0s 9ms/step - loss: 3.8881e-04 - mse: 3.8881e-04 - mae: 0.0169\n",
            "Epoch 964/1000\n",
            "1/1 [==============================] - 0s 9ms/step - loss: 3.8618e-04 - mse: 3.8618e-04 - mae: 0.0169\n",
            "Epoch 965/1000\n",
            "1/1 [==============================] - 0s 10ms/step - loss: 3.8356e-04 - mse: 3.8356e-04 - mae: 0.0168\n",
            "Epoch 966/1000\n",
            "1/1 [==============================] - 0s 5ms/step - loss: 3.8098e-04 - mse: 3.8098e-04 - mae: 0.0168\n",
            "Epoch 967/1000\n",
            "1/1 [==============================] - 0s 10ms/step - loss: 3.7841e-04 - mse: 3.7841e-04 - mae: 0.0167\n",
            "Epoch 968/1000\n",
            "1/1 [==============================] - 0s 10ms/step - loss: 3.7586e-04 - mse: 3.7586e-04 - mae: 0.0166\n",
            "Epoch 969/1000\n",
            "1/1 [==============================] - 0s 6ms/step - loss: 3.7331e-04 - mse: 3.7331e-04 - mae: 0.0166\n",
            "Epoch 970/1000\n",
            "1/1 [==============================] - 0s 10ms/step - loss: 3.7079e-04 - mse: 3.7079e-04 - mae: 0.0165\n",
            "Epoch 971/1000\n",
            "1/1 [==============================] - 0s 11ms/step - loss: 3.6828e-04 - mse: 3.6828e-04 - mae: 0.0165\n",
            "Epoch 972/1000\n",
            "1/1 [==============================] - 0s 5ms/step - loss: 3.6581e-04 - mse: 3.6581e-04 - mae: 0.0164\n",
            "Epoch 973/1000\n",
            "1/1 [==============================] - 0s 11ms/step - loss: 3.6333e-04 - mse: 3.6333e-04 - mae: 0.0164\n",
            "Epoch 974/1000\n",
            "1/1 [==============================] - 0s 14ms/step - loss: 3.6088e-04 - mse: 3.6088e-04 - mae: 0.0163\n",
            "Epoch 975/1000\n",
            "1/1 [==============================] - 0s 11ms/step - loss: 3.5845e-04 - mse: 3.5845e-04 - mae: 0.0163\n",
            "Epoch 976/1000\n",
            "1/1 [==============================] - 0s 9ms/step - loss: 3.5603e-04 - mse: 3.5603e-04 - mae: 0.0162\n",
            "Epoch 977/1000\n",
            "1/1 [==============================] - 0s 5ms/step - loss: 3.5362e-04 - mse: 3.5362e-04 - mae: 0.0161\n",
            "Epoch 978/1000\n",
            "1/1 [==============================] - 0s 17ms/step - loss: 3.5123e-04 - mse: 3.5123e-04 - mae: 0.0161\n",
            "Epoch 979/1000\n",
            "1/1 [==============================] - 0s 16ms/step - loss: 3.4887e-04 - mse: 3.4887e-04 - mae: 0.0160\n",
            "Epoch 980/1000\n",
            "1/1 [==============================] - 0s 8ms/step - loss: 3.4651e-04 - mse: 3.4651e-04 - mae: 0.0160\n",
            "Epoch 981/1000\n",
            "1/1 [==============================] - 0s 10ms/step - loss: 3.4418e-04 - mse: 3.4418e-04 - mae: 0.0159\n",
            "Epoch 982/1000\n",
            "1/1 [==============================] - 0s 8ms/step - loss: 3.4185e-04 - mse: 3.4185e-04 - mae: 0.0159\n",
            "Epoch 983/1000\n",
            "1/1 [==============================] - 0s 8ms/step - loss: 3.3954e-04 - mse: 3.3954e-04 - mae: 0.0158\n",
            "Epoch 984/1000\n",
            "1/1 [==============================] - 0s 11ms/step - loss: 3.3726e-04 - mse: 3.3726e-04 - mae: 0.0158\n",
            "Epoch 985/1000\n",
            "1/1 [==============================] - 0s 6ms/step - loss: 3.3498e-04 - mse: 3.3498e-04 - mae: 0.0157\n",
            "Epoch 986/1000\n",
            "1/1 [==============================] - 0s 21ms/step - loss: 3.3271e-04 - mse: 3.3271e-04 - mae: 0.0157\n",
            "Epoch 987/1000\n",
            "1/1 [==============================] - 0s 6ms/step - loss: 3.3045e-04 - mse: 3.3045e-04 - mae: 0.0156\n",
            "Epoch 988/1000\n",
            "1/1 [==============================] - 0s 10ms/step - loss: 3.2824e-04 - mse: 3.2824e-04 - mae: 0.0156\n",
            "Epoch 989/1000\n",
            "1/1 [==============================] - 0s 10ms/step - loss: 3.2602e-04 - mse: 3.2602e-04 - mae: 0.0155\n",
            "Epoch 990/1000\n",
            "1/1 [==============================] - 0s 8ms/step - loss: 3.2381e-04 - mse: 3.2381e-04 - mae: 0.0154\n",
            "Epoch 991/1000\n",
            "1/1 [==============================] - 0s 10ms/step - loss: 3.2163e-04 - mse: 3.2163e-04 - mae: 0.0154\n",
            "Epoch 992/1000\n",
            "1/1 [==============================] - 0s 10ms/step - loss: 3.1946e-04 - mse: 3.1946e-04 - mae: 0.0153\n",
            "Epoch 993/1000\n",
            "1/1 [==============================] - 0s 10ms/step - loss: 3.1730e-04 - mse: 3.1730e-04 - mae: 0.0153\n",
            "Epoch 994/1000\n",
            "1/1 [==============================] - 0s 10ms/step - loss: 3.1517e-04 - mse: 3.1517e-04 - mae: 0.0152\n",
            "Epoch 995/1000\n",
            "1/1 [==============================] - 0s 6ms/step - loss: 3.1302e-04 - mse: 3.1302e-04 - mae: 0.0152\n",
            "Epoch 996/1000\n",
            "1/1 [==============================] - 0s 7ms/step - loss: 3.1091e-04 - mse: 3.1091e-04 - mae: 0.0151\n",
            "Epoch 997/1000\n",
            "1/1 [==============================] - 0s 9ms/step - loss: 3.0882e-04 - mse: 3.0882e-04 - mae: 0.0151\n",
            "Epoch 998/1000\n",
            "1/1 [==============================] - 0s 14ms/step - loss: 3.0674e-04 - mse: 3.0674e-04 - mae: 0.0150\n",
            "Epoch 999/1000\n",
            "1/1 [==============================] - 0s 5ms/step - loss: 3.0466e-04 - mse: 3.0466e-04 - mae: 0.0150\n",
            "Epoch 1000/1000\n",
            "1/1 [==============================] - 0s 7ms/step - loss: 3.0261e-04 - mse: 3.0261e-04 - mae: 0.0149\n"
          ]
        }
      ]
    },
    {
      "cell_type": "code",
      "source": [
        "plt.plot(history.history['loss'], label='loss')\n",
        "plt.plot(history.history['mae'],label='mae')\n",
        "# epoch별 훈련 손실 및 평가 지표의 시각화 \n",
        "# 앞부분의 epoch은 손실이 급격히 감소하는 것을 확인할 수 있다."
      ],
      "metadata": {
        "colab": {
          "base_uri": "https://localhost:8080/",
          "height": 284
        },
        "id": "UDxZnWpQDjEo",
        "outputId": "4594dd37-e2eb-423a-ff9b-1681df9e3fbc"
      },
      "execution_count": 147,
      "outputs": [
        {
          "output_type": "execute_result",
          "data": {
            "text/plain": [
              "[<matplotlib.lines.Line2D at 0x7f8dbe8cc710>]"
            ]
          },
          "metadata": {},
          "execution_count": 147
        },
        {
          "output_type": "display_data",
          "data": {
            "image/png": "[encoded data removed]",
            "text/plain": [
              "<Figure size 432x288 with 1 Axes>"
            ]
          },
          "metadata": {
            "needs_background": "light"
          }
        }
      ]
    },
    {
      "cell_type": "code",
      "source": [
        "plt.plot(history.history['loss'], label='loss')\n",
        "plt.plot(history.history['mae'],label='mae')\n",
        "plt.xlim(-1, 20)\n",
        "plt.legend()\n",
        "\n",
        "# 5 epoch 까지는 손실이 급격히 감소하다가 감소폭이 둔화되면서 조금씩\n",
        "# 감소되는 것을 확인할수 있다. 즉, 모델 훈련 초기 단계에는 학습이 \n",
        "# 매우 빠른 속도로 진행되다가 일정 epoch 이후에는 학습속도가 느려지는 패턴이 보인다\n"
      ],
      "metadata": {
        "colab": {
          "base_uri": "https://localhost:8080/",
          "height": 284
        },
        "id": "8QiXtxqjFuFA",
        "outputId": "a7b5b597-0193-408e-931d-6aa4d7988a8e"
      },
      "execution_count": 148,
      "outputs": [
        {
          "output_type": "execute_result",
          "data": {
            "text/plain": [
              "<matplotlib.legend.Legend at 0x7f8dbe80cd90>"
            ]
          },
          "metadata": {},
          "execution_count": 148
        },
        {
          "output_type": "display_data",
          "data": {
            "image/png": "[encoded data removed]",
            "text/plain": [
              "<Figure size 432x288 with 1 Axes>"
            ]
          },
          "metadata": {
            "needs_background": "light"
          }
        }
      ]
    },
    {
      "cell_type": "code",
      "source": [
        "# 검증\n",
        "\n",
        "model.evaluate(x,y)\n",
        "# 일반적으로 검증 데이터셋을 입력하여 검증한다. 여기서는 별도의 검증 데이터셋을 \n",
        "# 만들지 않아서 훈련데이터를 대입하여 결과를 확인한다. \n",
        "# 두개의 지표 loss와 mse를 확인한다 \n",
        "\n",
        "# 사전에 검증 데이터를 준비하여 ( 훈련용과 검증용으로 나눈.. ) 성능을 평가하는 것이 일반적\n",
        "# 이러한 방법을 교차검증 cross validation 이라고 한다 "
      ],
      "metadata": {
        "colab": {
          "base_uri": "https://localhost:8080/"
        },
        "id": "vG16dn1iGStS",
        "outputId": "6d15a557-0453-470b-d0af-d9ba8b392e71"
      },
      "execution_count": 149,
      "outputs": [
        {
          "output_type": "stream",
          "name": "stdout",
          "text": [
            "1/1 [==============================] - 0s 279ms/step - loss: 3.0056e-04 - mse: 3.0056e-04 - mae: 0.0149\n"
          ]
        },
        {
          "output_type": "execute_result",
          "data": {
            "text/plain": [
              "[0.0003005616017617285, 0.0003005616017617285, 0.014880371280014515]"
            ]
          },
          "metadata": {},
          "execution_count": 149
        }
      ]
    },
    {
      "cell_type": "code",
      "source": [
        "# 예측\n",
        "# 훈련이 완료된 모델의 결과에 predict() 메소드를 사용하여 새로운 입력 데이터를 \n",
        "# 넣어주면 모델의 예측 값을 얻게 된다. \n",
        "# 모델이 예측 결과로 출력하는 값은 32.0...이다.\n",
        "# 데이터셋 생성할때 정의한 y = 3x + 2\n",
        "# y = 3x + 2 의 공식에 x = 10, y = 32...? 라고 예측 \n",
        "# 이 결과는 수학으로 계산한게 아니고 예측한 것 \n",
        "# 결과가 꽤 근사한 값을 예측한 것을 확인할 수 있다 \n",
        "\n",
        "model.predict([6])"
      ],
      "metadata": {
        "colab": {
          "base_uri": "https://localhost:8080/"
        },
        "id": "fJAYJ_bBHDUm",
        "outputId": "8c62c250-cd66-4115-c448-df5f7dc17cfb"
      },
      "execution_count": 152,
      "outputs": [
        {
          "output_type": "execute_result",
          "data": {
            "text/plain": [
              "array([[20.026897]], dtype=float32)"
            ]
          },
          "metadata": {},
          "execution_count": 152
        }
      ]
    },
    {
      "cell_type": "code",
      "source": [
        "# [ 1  2  3  4  5]\n",
        "# [ 5  8 11 14 17]\n",
        "# 모델에 넣은 값 ↑"
      ],
      "metadata": {
        "id": "DIscm_NNJQA1"
      },
      "execution_count": null,
      "outputs": []
    },
    {
      "cell_type": "code",
      "source": [
        "# MNIST 와 CNN 반드시 해볼것 "
      ],
      "metadata": {
        "id": "KB2iOfC4LIh6"
      },
      "execution_count": null,
      "outputs": []
    }
  ]
}